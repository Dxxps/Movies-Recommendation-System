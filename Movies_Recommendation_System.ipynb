{
  "nbformat": 4,
  "nbformat_minor": 0,
  "metadata": {
    "colab": {
      "provenance": [],
      "authorship_tag": "ABX9TyP0JPi3HcLtzyZI6VCsJsza",
      "include_colab_link": true
    },
    "kernelspec": {
      "name": "python3",
      "display_name": "Python 3"
    },
    "language_info": {
      "name": "python"
    }
  },
  "cells": [
    {
      "cell_type": "markdown",
      "metadata": {
        "id": "view-in-github",
        "colab_type": "text"
      },
      "source": [
        "<a href=\"https://colab.research.google.com/github/Dxxps/Movies-Recommendation-System/blob/main/Movies_Recommendation_System.ipynb\" target=\"_parent\"><img src=\"https://colab.research.google.com/assets/colab-badge.svg\" alt=\"Open In Colab\"/></a>"
      ]
    },
    {
      "cell_type": "markdown",
      "source": [
        "# **Import Library**"
      ],
      "metadata": {
        "id": "2uJ-GYdSpJb9"
      }
    },
    {
      "cell_type": "code",
      "source": [
        "import pandas as pd"
      ],
      "metadata": {
        "id": "MBQA4uhRpQFz"
      },
      "execution_count": null,
      "outputs": []
    },
    {
      "cell_type": "code",
      "source": [
        "import numpy as np\n"
      ],
      "metadata": {
        "id": "Lfpj22EZpXkf"
      },
      "execution_count": null,
      "outputs": []
    },
    {
      "cell_type": "markdown",
      "source": [
        "# **Import Dataset**"
      ],
      "metadata": {
        "id": "fs3YnRkprANU"
      }
    },
    {
      "cell_type": "code",
      "source": [
        "df = pd.read_csv(r'/content/Movies Recommendation.csv')"
      ],
      "metadata": {
        "id": "a-gSgBjVrE0N"
      },
      "execution_count": null,
      "outputs": []
    },
    {
      "cell_type": "code",
      "source": [
        "df.head()"
      ],
      "metadata": {
        "colab": {
          "base_uri": "https://localhost:8080/",
          "height": 672
        },
        "id": "OC-61YBArUfq",
        "outputId": "c166fd0e-d0be-4af9-a9d1-8930bfcec8a0"
      },
      "execution_count": null,
      "outputs": [
        {
          "output_type": "execute_result",
          "data": {
            "text/plain": [
              "   Movie_ID      Movie_Title                       Movie_Genre Movie_Language  \\\n",
              "0         1       Four Rooms                      Crime Comedy             en   \n",
              "1         2        Star Wars  Adventure Action Science Fiction             en   \n",
              "2         3     Finding Nemo                  Animation Family             en   \n",
              "3         4     Forrest Gump              Comedy Drama Romance             en   \n",
              "4         5  American Beauty                             Drama             en   \n",
              "\n",
              "   Movie_Budget  Movie_Popularity Movie_Release_Date  Movie_Revenue  \\\n",
              "0       4000000         22.876230         09-12-1995        4300000   \n",
              "1      11000000        126.393695         25-05-1977      775398007   \n",
              "2      94000000         85.688789         30-05-2003      940335536   \n",
              "3      55000000        138.133331         06-07-1994      677945399   \n",
              "4      15000000         80.878605         15-09-1999      356296601   \n",
              "\n",
              "   Movie_Runtime  Movie_Vote  ...  \\\n",
              "0           98.0         6.5  ...   \n",
              "1          121.0         8.1  ...   \n",
              "2          100.0         7.6  ...   \n",
              "3          142.0         8.2  ...   \n",
              "4          122.0         7.9  ...   \n",
              "\n",
              "                                      Movie_Homepage  \\\n",
              "0                                                NaN   \n",
              "1  http://www.starwars.com/films/star-wars-episod...   \n",
              "2              http://movies.disney.com/finding-nemo   \n",
              "3                                                NaN   \n",
              "4                      http://www.dreamworks.com/ab/   \n",
              "\n",
              "                                      Movie_Keywords  \\\n",
              "0          hotel new year's eve witch bet hotel room   \n",
              "1        android galaxy hermit death star lightsaber   \n",
              "2  father son relationship harbor underwater fish...   \n",
              "3  vietnam veteran hippie mentally disabled runni...   \n",
              "4  male nudity female nudity adultery midlife cri...   \n",
              "\n",
              "                                      Movie_Overview  \\\n",
              "0  It's Ted the Bellhop's first night on the job....   \n",
              "1  Princess Leia is captured and held hostage by ...   \n",
              "2  Nemo, an adventurous young clownfish, is unexp...   \n",
              "3  A man with a low IQ has accomplished great thi...   \n",
              "4  Lester Burnham, a depressed suburban father in...   \n",
              "\n",
              "                              Movie_Production_House  \\\n",
              "0  [{\"name\": \"Miramax Films\", \"id\": 14}, {\"name\":...   \n",
              "1  [{\"name\": \"Lucasfilm\", \"id\": 1}, {\"name\": \"Twe...   \n",
              "2     [{\"name\": \"Pixar Animation Studios\", \"id\": 3}]   \n",
              "3          [{\"name\": \"Paramount Pictures\", \"id\": 4}]   \n",
              "4  [{\"name\": \"DreamWorks SKG\", \"id\": 27}, {\"name\"...   \n",
              "\n",
              "                            Movie_Production_Country  \\\n",
              "0  [{\"iso_3166_1\": \"US\", \"name\": \"United States o...   \n",
              "1  [{\"iso_3166_1\": \"US\", \"name\": \"United States o...   \n",
              "2  [{\"iso_3166_1\": \"US\", \"name\": \"United States o...   \n",
              "3  [{\"iso_3166_1\": \"US\", \"name\": \"United States o...   \n",
              "4  [{\"iso_3166_1\": \"US\", \"name\": \"United States o...   \n",
              "\n",
              "                      Movie_Spoken_Language  \\\n",
              "0  [{\"iso_639_1\": \"en\", \"name\": \"English\"}]   \n",
              "1  [{\"iso_639_1\": \"en\", \"name\": \"English\"}]   \n",
              "2  [{\"iso_639_1\": \"en\", \"name\": \"English\"}]   \n",
              "3  [{\"iso_639_1\": \"en\", \"name\": \"English\"}]   \n",
              "4  [{\"iso_639_1\": \"en\", \"name\": \"English\"}]   \n",
              "\n",
              "                                       Movie_Tagline  \\\n",
              "0  Twelve outrageous guests. Four scandalous requ...   \n",
              "1       A long time ago in a galaxy far, far away...   \n",
              "2  There are 3.7 trillion fish in the ocean, they...   \n",
              "3  The world will never be the same, once you've ...   \n",
              "4                                       Look closer.   \n",
              "\n",
              "                                          Movie_Cast  \\\n",
              "0  Tim Roth Antonio Banderas Jennifer Beals Madon...   \n",
              "1  Mark Hamill Harrison Ford Carrie Fisher Peter ...   \n",
              "2  Albert Brooks Ellen DeGeneres Alexander Gould ...   \n",
              "3  Tom Hanks Robin Wright Gary Sinise Mykelti Wil...   \n",
              "4  Kevin Spacey Annette Bening Thora Birch Wes Be...   \n",
              "\n",
              "                                          Movie_Crew   Movie_Director  \n",
              "0  [{'name': 'Allison Anders', 'gender': 1, 'depa...   Allison Anders  \n",
              "1  [{'name': 'George Lucas', 'gender': 2, 'depart...     George Lucas  \n",
              "2  [{'name': 'Andrew Stanton', 'gender': 2, 'depa...   Andrew Stanton  \n",
              "3  [{'name': 'Alan Silvestri', 'gender': 2, 'depa...  Robert Zemeckis  \n",
              "4  [{'name': 'Thomas Newman', 'gender': 2, 'depar...       Sam Mendes  \n",
              "\n",
              "[5 rows x 21 columns]"
            ],
            "text/html": [
              "\n",
              "  <div id=\"df-1acccd76-d113-4c2a-8751-02a019c1e0d0\" class=\"colab-df-container\">\n",
              "    <div>\n",
              "<style scoped>\n",
              "    .dataframe tbody tr th:only-of-type {\n",
              "        vertical-align: middle;\n",
              "    }\n",
              "\n",
              "    .dataframe tbody tr th {\n",
              "        vertical-align: top;\n",
              "    }\n",
              "\n",
              "    .dataframe thead th {\n",
              "        text-align: right;\n",
              "    }\n",
              "</style>\n",
              "<table border=\"1\" class=\"dataframe\">\n",
              "  <thead>\n",
              "    <tr style=\"text-align: right;\">\n",
              "      <th></th>\n",
              "      <th>Movie_ID</th>\n",
              "      <th>Movie_Title</th>\n",
              "      <th>Movie_Genre</th>\n",
              "      <th>Movie_Language</th>\n",
              "      <th>Movie_Budget</th>\n",
              "      <th>Movie_Popularity</th>\n",
              "      <th>Movie_Release_Date</th>\n",
              "      <th>Movie_Revenue</th>\n",
              "      <th>Movie_Runtime</th>\n",
              "      <th>Movie_Vote</th>\n",
              "      <th>...</th>\n",
              "      <th>Movie_Homepage</th>\n",
              "      <th>Movie_Keywords</th>\n",
              "      <th>Movie_Overview</th>\n",
              "      <th>Movie_Production_House</th>\n",
              "      <th>Movie_Production_Country</th>\n",
              "      <th>Movie_Spoken_Language</th>\n",
              "      <th>Movie_Tagline</th>\n",
              "      <th>Movie_Cast</th>\n",
              "      <th>Movie_Crew</th>\n",
              "      <th>Movie_Director</th>\n",
              "    </tr>\n",
              "  </thead>\n",
              "  <tbody>\n",
              "    <tr>\n",
              "      <th>0</th>\n",
              "      <td>1</td>\n",
              "      <td>Four Rooms</td>\n",
              "      <td>Crime Comedy</td>\n",
              "      <td>en</td>\n",
              "      <td>4000000</td>\n",
              "      <td>22.876230</td>\n",
              "      <td>09-12-1995</td>\n",
              "      <td>4300000</td>\n",
              "      <td>98.0</td>\n",
              "      <td>6.5</td>\n",
              "      <td>...</td>\n",
              "      <td>NaN</td>\n",
              "      <td>hotel new year's eve witch bet hotel room</td>\n",
              "      <td>It's Ted the Bellhop's first night on the job....</td>\n",
              "      <td>[{\"name\": \"Miramax Films\", \"id\": 14}, {\"name\":...</td>\n",
              "      <td>[{\"iso_3166_1\": \"US\", \"name\": \"United States o...</td>\n",
              "      <td>[{\"iso_639_1\": \"en\", \"name\": \"English\"}]</td>\n",
              "      <td>Twelve outrageous guests. Four scandalous requ...</td>\n",
              "      <td>Tim Roth Antonio Banderas Jennifer Beals Madon...</td>\n",
              "      <td>[{'name': 'Allison Anders', 'gender': 1, 'depa...</td>\n",
              "      <td>Allison Anders</td>\n",
              "    </tr>\n",
              "    <tr>\n",
              "      <th>1</th>\n",
              "      <td>2</td>\n",
              "      <td>Star Wars</td>\n",
              "      <td>Adventure Action Science Fiction</td>\n",
              "      <td>en</td>\n",
              "      <td>11000000</td>\n",
              "      <td>126.393695</td>\n",
              "      <td>25-05-1977</td>\n",
              "      <td>775398007</td>\n",
              "      <td>121.0</td>\n",
              "      <td>8.1</td>\n",
              "      <td>...</td>\n",
              "      <td>http://www.starwars.com/films/star-wars-episod...</td>\n",
              "      <td>android galaxy hermit death star lightsaber</td>\n",
              "      <td>Princess Leia is captured and held hostage by ...</td>\n",
              "      <td>[{\"name\": \"Lucasfilm\", \"id\": 1}, {\"name\": \"Twe...</td>\n",
              "      <td>[{\"iso_3166_1\": \"US\", \"name\": \"United States o...</td>\n",
              "      <td>[{\"iso_639_1\": \"en\", \"name\": \"English\"}]</td>\n",
              "      <td>A long time ago in a galaxy far, far away...</td>\n",
              "      <td>Mark Hamill Harrison Ford Carrie Fisher Peter ...</td>\n",
              "      <td>[{'name': 'George Lucas', 'gender': 2, 'depart...</td>\n",
              "      <td>George Lucas</td>\n",
              "    </tr>\n",
              "    <tr>\n",
              "      <th>2</th>\n",
              "      <td>3</td>\n",
              "      <td>Finding Nemo</td>\n",
              "      <td>Animation Family</td>\n",
              "      <td>en</td>\n",
              "      <td>94000000</td>\n",
              "      <td>85.688789</td>\n",
              "      <td>30-05-2003</td>\n",
              "      <td>940335536</td>\n",
              "      <td>100.0</td>\n",
              "      <td>7.6</td>\n",
              "      <td>...</td>\n",
              "      <td>http://movies.disney.com/finding-nemo</td>\n",
              "      <td>father son relationship harbor underwater fish...</td>\n",
              "      <td>Nemo, an adventurous young clownfish, is unexp...</td>\n",
              "      <td>[{\"name\": \"Pixar Animation Studios\", \"id\": 3}]</td>\n",
              "      <td>[{\"iso_3166_1\": \"US\", \"name\": \"United States o...</td>\n",
              "      <td>[{\"iso_639_1\": \"en\", \"name\": \"English\"}]</td>\n",
              "      <td>There are 3.7 trillion fish in the ocean, they...</td>\n",
              "      <td>Albert Brooks Ellen DeGeneres Alexander Gould ...</td>\n",
              "      <td>[{'name': 'Andrew Stanton', 'gender': 2, 'depa...</td>\n",
              "      <td>Andrew Stanton</td>\n",
              "    </tr>\n",
              "    <tr>\n",
              "      <th>3</th>\n",
              "      <td>4</td>\n",
              "      <td>Forrest Gump</td>\n",
              "      <td>Comedy Drama Romance</td>\n",
              "      <td>en</td>\n",
              "      <td>55000000</td>\n",
              "      <td>138.133331</td>\n",
              "      <td>06-07-1994</td>\n",
              "      <td>677945399</td>\n",
              "      <td>142.0</td>\n",
              "      <td>8.2</td>\n",
              "      <td>...</td>\n",
              "      <td>NaN</td>\n",
              "      <td>vietnam veteran hippie mentally disabled runni...</td>\n",
              "      <td>A man with a low IQ has accomplished great thi...</td>\n",
              "      <td>[{\"name\": \"Paramount Pictures\", \"id\": 4}]</td>\n",
              "      <td>[{\"iso_3166_1\": \"US\", \"name\": \"United States o...</td>\n",
              "      <td>[{\"iso_639_1\": \"en\", \"name\": \"English\"}]</td>\n",
              "      <td>The world will never be the same, once you've ...</td>\n",
              "      <td>Tom Hanks Robin Wright Gary Sinise Mykelti Wil...</td>\n",
              "      <td>[{'name': 'Alan Silvestri', 'gender': 2, 'depa...</td>\n",
              "      <td>Robert Zemeckis</td>\n",
              "    </tr>\n",
              "    <tr>\n",
              "      <th>4</th>\n",
              "      <td>5</td>\n",
              "      <td>American Beauty</td>\n",
              "      <td>Drama</td>\n",
              "      <td>en</td>\n",
              "      <td>15000000</td>\n",
              "      <td>80.878605</td>\n",
              "      <td>15-09-1999</td>\n",
              "      <td>356296601</td>\n",
              "      <td>122.0</td>\n",
              "      <td>7.9</td>\n",
              "      <td>...</td>\n",
              "      <td>http://www.dreamworks.com/ab/</td>\n",
              "      <td>male nudity female nudity adultery midlife cri...</td>\n",
              "      <td>Lester Burnham, a depressed suburban father in...</td>\n",
              "      <td>[{\"name\": \"DreamWorks SKG\", \"id\": 27}, {\"name\"...</td>\n",
              "      <td>[{\"iso_3166_1\": \"US\", \"name\": \"United States o...</td>\n",
              "      <td>[{\"iso_639_1\": \"en\", \"name\": \"English\"}]</td>\n",
              "      <td>Look closer.</td>\n",
              "      <td>Kevin Spacey Annette Bening Thora Birch Wes Be...</td>\n",
              "      <td>[{'name': 'Thomas Newman', 'gender': 2, 'depar...</td>\n",
              "      <td>Sam Mendes</td>\n",
              "    </tr>\n",
              "  </tbody>\n",
              "</table>\n",
              "<p>5 rows × 21 columns</p>\n",
              "</div>\n",
              "    <div class=\"colab-df-buttons\">\n",
              "\n",
              "  <div class=\"colab-df-container\">\n",
              "    <button class=\"colab-df-convert\" onclick=\"convertToInteractive('df-1acccd76-d113-4c2a-8751-02a019c1e0d0')\"\n",
              "            title=\"Convert this dataframe to an interactive table.\"\n",
              "            style=\"display:none;\">\n",
              "\n",
              "  <svg xmlns=\"http://www.w3.org/2000/svg\" height=\"24px\" viewBox=\"0 -960 960 960\">\n",
              "    <path d=\"M120-120v-720h720v720H120Zm60-500h600v-160H180v160Zm220 220h160v-160H400v160Zm0 220h160v-160H400v160ZM180-400h160v-160H180v160Zm440 0h160v-160H620v160ZM180-180h160v-160H180v160Zm440 0h160v-160H620v160Z\"/>\n",
              "  </svg>\n",
              "    </button>\n",
              "\n",
              "  <style>\n",
              "    .colab-df-container {\n",
              "      display:flex;\n",
              "      gap: 12px;\n",
              "    }\n",
              "\n",
              "    .colab-df-convert {\n",
              "      background-color: #E8F0FE;\n",
              "      border: none;\n",
              "      border-radius: 50%;\n",
              "      cursor: pointer;\n",
              "      display: none;\n",
              "      fill: #1967D2;\n",
              "      height: 32px;\n",
              "      padding: 0 0 0 0;\n",
              "      width: 32px;\n",
              "    }\n",
              "\n",
              "    .colab-df-convert:hover {\n",
              "      background-color: #E2EBFA;\n",
              "      box-shadow: 0px 1px 2px rgba(60, 64, 67, 0.3), 0px 1px 3px 1px rgba(60, 64, 67, 0.15);\n",
              "      fill: #174EA6;\n",
              "    }\n",
              "\n",
              "    .colab-df-buttons div {\n",
              "      margin-bottom: 4px;\n",
              "    }\n",
              "\n",
              "    [theme=dark] .colab-df-convert {\n",
              "      background-color: #3B4455;\n",
              "      fill: #D2E3FC;\n",
              "    }\n",
              "\n",
              "    [theme=dark] .colab-df-convert:hover {\n",
              "      background-color: #434B5C;\n",
              "      box-shadow: 0px 1px 3px 1px rgba(0, 0, 0, 0.15);\n",
              "      filter: drop-shadow(0px 1px 2px rgba(0, 0, 0, 0.3));\n",
              "      fill: #FFFFFF;\n",
              "    }\n",
              "  </style>\n",
              "\n",
              "    <script>\n",
              "      const buttonEl =\n",
              "        document.querySelector('#df-1acccd76-d113-4c2a-8751-02a019c1e0d0 button.colab-df-convert');\n",
              "      buttonEl.style.display =\n",
              "        google.colab.kernel.accessAllowed ? 'block' : 'none';\n",
              "\n",
              "      async function convertToInteractive(key) {\n",
              "        const element = document.querySelector('#df-1acccd76-d113-4c2a-8751-02a019c1e0d0');\n",
              "        const dataTable =\n",
              "          await google.colab.kernel.invokeFunction('convertToInteractive',\n",
              "                                                    [key], {});\n",
              "        if (!dataTable) return;\n",
              "\n",
              "        const docLinkHtml = 'Like what you see? Visit the ' +\n",
              "          '<a target=\"_blank\" href=https://colab.research.google.com/notebooks/data_table.ipynb>data table notebook</a>'\n",
              "          + ' to learn more about interactive tables.';\n",
              "        element.innerHTML = '';\n",
              "        dataTable['output_type'] = 'display_data';\n",
              "        await google.colab.output.renderOutput(dataTable, element);\n",
              "        const docLink = document.createElement('div');\n",
              "        docLink.innerHTML = docLinkHtml;\n",
              "        element.appendChild(docLink);\n",
              "      }\n",
              "    </script>\n",
              "  </div>\n",
              "\n",
              "\n",
              "<div id=\"df-5b9dcaac-8331-42cd-b960-79593395027a\">\n",
              "  <button class=\"colab-df-quickchart\" onclick=\"quickchart('df-5b9dcaac-8331-42cd-b960-79593395027a')\"\n",
              "            title=\"Suggest charts\"\n",
              "            style=\"display:none;\">\n",
              "\n",
              "<svg xmlns=\"http://www.w3.org/2000/svg\" height=\"24px\"viewBox=\"0 0 24 24\"\n",
              "     width=\"24px\">\n",
              "    <g>\n",
              "        <path d=\"M19 3H5c-1.1 0-2 .9-2 2v14c0 1.1.9 2 2 2h14c1.1 0 2-.9 2-2V5c0-1.1-.9-2-2-2zM9 17H7v-7h2v7zm4 0h-2V7h2v10zm4 0h-2v-4h2v4z\"/>\n",
              "    </g>\n",
              "</svg>\n",
              "  </button>\n",
              "\n",
              "<style>\n",
              "  .colab-df-quickchart {\n",
              "      --bg-color: #E8F0FE;\n",
              "      --fill-color: #1967D2;\n",
              "      --hover-bg-color: #E2EBFA;\n",
              "      --hover-fill-color: #174EA6;\n",
              "      --disabled-fill-color: #AAA;\n",
              "      --disabled-bg-color: #DDD;\n",
              "  }\n",
              "\n",
              "  [theme=dark] .colab-df-quickchart {\n",
              "      --bg-color: #3B4455;\n",
              "      --fill-color: #D2E3FC;\n",
              "      --hover-bg-color: #434B5C;\n",
              "      --hover-fill-color: #FFFFFF;\n",
              "      --disabled-bg-color: #3B4455;\n",
              "      --disabled-fill-color: #666;\n",
              "  }\n",
              "\n",
              "  .colab-df-quickchart {\n",
              "    background-color: var(--bg-color);\n",
              "    border: none;\n",
              "    border-radius: 50%;\n",
              "    cursor: pointer;\n",
              "    display: none;\n",
              "    fill: var(--fill-color);\n",
              "    height: 32px;\n",
              "    padding: 0;\n",
              "    width: 32px;\n",
              "  }\n",
              "\n",
              "  .colab-df-quickchart:hover {\n",
              "    background-color: var(--hover-bg-color);\n",
              "    box-shadow: 0 1px 2px rgba(60, 64, 67, 0.3), 0 1px 3px 1px rgba(60, 64, 67, 0.15);\n",
              "    fill: var(--button-hover-fill-color);\n",
              "  }\n",
              "\n",
              "  .colab-df-quickchart-complete:disabled,\n",
              "  .colab-df-quickchart-complete:disabled:hover {\n",
              "    background-color: var(--disabled-bg-color);\n",
              "    fill: var(--disabled-fill-color);\n",
              "    box-shadow: none;\n",
              "  }\n",
              "\n",
              "  .colab-df-spinner {\n",
              "    border: 2px solid var(--fill-color);\n",
              "    border-color: transparent;\n",
              "    border-bottom-color: var(--fill-color);\n",
              "    animation:\n",
              "      spin 1s steps(1) infinite;\n",
              "  }\n",
              "\n",
              "  @keyframes spin {\n",
              "    0% {\n",
              "      border-color: transparent;\n",
              "      border-bottom-color: var(--fill-color);\n",
              "      border-left-color: var(--fill-color);\n",
              "    }\n",
              "    20% {\n",
              "      border-color: transparent;\n",
              "      border-left-color: var(--fill-color);\n",
              "      border-top-color: var(--fill-color);\n",
              "    }\n",
              "    30% {\n",
              "      border-color: transparent;\n",
              "      border-left-color: var(--fill-color);\n",
              "      border-top-color: var(--fill-color);\n",
              "      border-right-color: var(--fill-color);\n",
              "    }\n",
              "    40% {\n",
              "      border-color: transparent;\n",
              "      border-right-color: var(--fill-color);\n",
              "      border-top-color: var(--fill-color);\n",
              "    }\n",
              "    60% {\n",
              "      border-color: transparent;\n",
              "      border-right-color: var(--fill-color);\n",
              "    }\n",
              "    80% {\n",
              "      border-color: transparent;\n",
              "      border-right-color: var(--fill-color);\n",
              "      border-bottom-color: var(--fill-color);\n",
              "    }\n",
              "    90% {\n",
              "      border-color: transparent;\n",
              "      border-bottom-color: var(--fill-color);\n",
              "    }\n",
              "  }\n",
              "</style>\n",
              "\n",
              "  <script>\n",
              "    async function quickchart(key) {\n",
              "      const quickchartButtonEl =\n",
              "        document.querySelector('#' + key + ' button');\n",
              "      quickchartButtonEl.disabled = true;  // To prevent multiple clicks.\n",
              "      quickchartButtonEl.classList.add('colab-df-spinner');\n",
              "      try {\n",
              "        const charts = await google.colab.kernel.invokeFunction(\n",
              "            'suggestCharts', [key], {});\n",
              "      } catch (error) {\n",
              "        console.error('Error during call to suggestCharts:', error);\n",
              "      }\n",
              "      quickchartButtonEl.classList.remove('colab-df-spinner');\n",
              "      quickchartButtonEl.classList.add('colab-df-quickchart-complete');\n",
              "    }\n",
              "    (() => {\n",
              "      let quickchartButtonEl =\n",
              "        document.querySelector('#df-5b9dcaac-8331-42cd-b960-79593395027a button');\n",
              "      quickchartButtonEl.style.display =\n",
              "        google.colab.kernel.accessAllowed ? 'block' : 'none';\n",
              "    })();\n",
              "  </script>\n",
              "</div>\n",
              "\n",
              "    </div>\n",
              "  </div>\n"
            ],
            "application/vnd.google.colaboratory.intrinsic+json": {
              "type": "dataframe",
              "variable_name": "df"
            }
          },
          "metadata": {},
          "execution_count": 23
        }
      ]
    },
    {
      "cell_type": "code",
      "source": [
        "df.info()"
      ],
      "metadata": {
        "colab": {
          "base_uri": "https://localhost:8080/"
        },
        "id": "s6NNfKFor_jJ",
        "outputId": "7dedb543-4a3c-4fc2-b88b-0b9852aaa2f3"
      },
      "execution_count": null,
      "outputs": [
        {
          "output_type": "stream",
          "name": "stdout",
          "text": [
            "<class 'pandas.core.frame.DataFrame'>\n",
            "RangeIndex: 4760 entries, 0 to 4759\n",
            "Data columns (total 21 columns):\n",
            " #   Column                    Non-Null Count  Dtype  \n",
            "---  ------                    --------------  -----  \n",
            " 0   Movie_ID                  4760 non-null   int64  \n",
            " 1   Movie_Title               4760 non-null   object \n",
            " 2   Movie_Genre               4760 non-null   object \n",
            " 3   Movie_Language            4760 non-null   object \n",
            " 4   Movie_Budget              4760 non-null   int64  \n",
            " 5   Movie_Popularity          4760 non-null   float64\n",
            " 6   Movie_Release_Date        4760 non-null   object \n",
            " 7   Movie_Revenue             4760 non-null   int64  \n",
            " 8   Movie_Runtime             4758 non-null   float64\n",
            " 9   Movie_Vote                4760 non-null   float64\n",
            " 10  Movie_Vote_Count          4760 non-null   int64  \n",
            " 11  Movie_Homepage            1699 non-null   object \n",
            " 12  Movie_Keywords            4373 non-null   object \n",
            " 13  Movie_Overview            4757 non-null   object \n",
            " 14  Movie_Production_House    4760 non-null   object \n",
            " 15  Movie_Production_Country  4760 non-null   object \n",
            " 16  Movie_Spoken_Language     4760 non-null   object \n",
            " 17  Movie_Tagline             3942 non-null   object \n",
            " 18  Movie_Cast                4733 non-null   object \n",
            " 19  Movie_Crew                4760 non-null   object \n",
            " 20  Movie_Director            4738 non-null   object \n",
            "dtypes: float64(3), int64(4), object(14)\n",
            "memory usage: 781.1+ KB\n"
          ]
        }
      ]
    },
    {
      "cell_type": "code",
      "source": [
        "df.shape"
      ],
      "metadata": {
        "colab": {
          "base_uri": "https://localhost:8080/"
        },
        "id": "Ab_yA3U5sFq4",
        "outputId": "ba18307d-f95c-4234-854e-b057de223dce"
      },
      "execution_count": null,
      "outputs": [
        {
          "output_type": "execute_result",
          "data": {
            "text/plain": [
              "(4760, 21)"
            ]
          },
          "metadata": {},
          "execution_count": 25
        }
      ]
    },
    {
      "cell_type": "code",
      "source": [
        "df.columns"
      ],
      "metadata": {
        "colab": {
          "base_uri": "https://localhost:8080/"
        },
        "id": "9ZCEpvm8sJ3v",
        "outputId": "a4ef905d-e210-4830-d19e-c7a786820303"
      },
      "execution_count": null,
      "outputs": [
        {
          "output_type": "execute_result",
          "data": {
            "text/plain": [
              "Index(['Movie_ID', 'Movie_Title', 'Movie_Genre', 'Movie_Language',\n",
              "       'Movie_Budget', 'Movie_Popularity', 'Movie_Release_Date',\n",
              "       'Movie_Revenue', 'Movie_Runtime', 'Movie_Vote', 'Movie_Vote_Count',\n",
              "       'Movie_Homepage', 'Movie_Keywords', 'Movie_Overview',\n",
              "       'Movie_Production_House', 'Movie_Production_Country',\n",
              "       'Movie_Spoken_Language', 'Movie_Tagline', 'Movie_Cast', 'Movie_Crew',\n",
              "       'Movie_Director'],\n",
              "      dtype='object')"
            ]
          },
          "metadata": {},
          "execution_count": 26
        }
      ]
    },
    {
      "cell_type": "markdown",
      "source": [
        "# **Get Feature Selection**"
      ],
      "metadata": {
        "id": "eywj2BsFsOcY"
      }
    },
    {
      "cell_type": "code",
      "source": [
        "df_features = df[['Movie_Genre','Movie_Keywords','Movie_Tagline','Movie_Cast','Movie_Director']].fillna('')"
      ],
      "metadata": {
        "id": "1E8pOexAsUWH"
      },
      "execution_count": null,
      "outputs": []
    },
    {
      "cell_type": "code",
      "source": [
        "df_features.shape"
      ],
      "metadata": {
        "colab": {
          "base_uri": "https://localhost:8080/"
        },
        "id": "8Xoot98wshU_",
        "outputId": "8a9b4b1a-c38d-4917-a9f1-a3e8c97b2f24"
      },
      "execution_count": null,
      "outputs": [
        {
          "output_type": "execute_result",
          "data": {
            "text/plain": [
              "(4760, 5)"
            ]
          },
          "metadata": {},
          "execution_count": 28
        }
      ]
    },
    {
      "cell_type": "code",
      "source": [
        "df_features"
      ],
      "metadata": {
        "colab": {
          "base_uri": "https://localhost:8080/",
          "height": 615
        },
        "id": "8n6Cjyjgstcd",
        "outputId": "b04eb036-91fd-4d00-c1e7-9a5561f8c996"
      },
      "execution_count": null,
      "outputs": [
        {
          "output_type": "execute_result",
          "data": {
            "text/plain": [
              "                           Movie_Genre  \\\n",
              "0                         Crime Comedy   \n",
              "1     Adventure Action Science Fiction   \n",
              "2                     Animation Family   \n",
              "3                 Comedy Drama Romance   \n",
              "4                                Drama   \n",
              "...                                ...   \n",
              "4755                            Horror   \n",
              "4756               Comedy Family Drama   \n",
              "4757                    Thriller Drama   \n",
              "4758                            Family   \n",
              "4759                       Documentary   \n",
              "\n",
              "                                         Movie_Keywords  \\\n",
              "0             hotel new year's eve witch bet hotel room   \n",
              "1           android galaxy hermit death star lightsaber   \n",
              "2     father son relationship harbor underwater fish...   \n",
              "3     vietnam veteran hippie mentally disabled runni...   \n",
              "4     male nudity female nudity adultery midlife cri...   \n",
              "...                                                 ...   \n",
              "4755                                                      \n",
              "4756                                                      \n",
              "4757                     christian film sex trafficking   \n",
              "4758                                                      \n",
              "4759  music actors legendary perfomer classic hollyw...   \n",
              "\n",
              "                                          Movie_Tagline  \\\n",
              "0     Twelve outrageous guests. Four scandalous requ...   \n",
              "1          A long time ago in a galaxy far, far away...   \n",
              "2     There are 3.7 trillion fish in the ocean, they...   \n",
              "3     The world will never be the same, once you've ...   \n",
              "4                                          Look closer.   \n",
              "...                                                 ...   \n",
              "4755                The hot spot where Satan's waitin'.   \n",
              "4756           It’s better to stand out than to fit in.   \n",
              "4757           She never knew it could happen to her...   \n",
              "4758                                                      \n",
              "4759                                                      \n",
              "\n",
              "                                             Movie_Cast     Movie_Director  \n",
              "0     Tim Roth Antonio Banderas Jennifer Beals Madon...     Allison Anders  \n",
              "1     Mark Hamill Harrison Ford Carrie Fisher Peter ...       George Lucas  \n",
              "2     Albert Brooks Ellen DeGeneres Alexander Gould ...     Andrew Stanton  \n",
              "3     Tom Hanks Robin Wright Gary Sinise Mykelti Wil...    Robert Zemeckis  \n",
              "4     Kevin Spacey Annette Bening Thora Birch Wes Be...         Sam Mendes  \n",
              "...                                                 ...                ...  \n",
              "4755  Lisa Hart Carroll Michael Des Barres Paul Drak...         Pece Dingo  \n",
              "4756  Roni Akurati Brighton Sharbino Jason Lee Anjul...       Frank Lotito  \n",
              "4757  Nicole Smolen Kim Baldwin Ariana Stephens Brys...       Jaco Booyens  \n",
              "4758                                                                        \n",
              "4759                                    Tony Oppedisano  Simon Napier-Bell  \n",
              "\n",
              "[4760 rows x 5 columns]"
            ],
            "text/html": [
              "\n",
              "  <div id=\"df-b2bc5dbd-32dc-4504-a476-fa1ee36e8414\" class=\"colab-df-container\">\n",
              "    <div>\n",
              "<style scoped>\n",
              "    .dataframe tbody tr th:only-of-type {\n",
              "        vertical-align: middle;\n",
              "    }\n",
              "\n",
              "    .dataframe tbody tr th {\n",
              "        vertical-align: top;\n",
              "    }\n",
              "\n",
              "    .dataframe thead th {\n",
              "        text-align: right;\n",
              "    }\n",
              "</style>\n",
              "<table border=\"1\" class=\"dataframe\">\n",
              "  <thead>\n",
              "    <tr style=\"text-align: right;\">\n",
              "      <th></th>\n",
              "      <th>Movie_Genre</th>\n",
              "      <th>Movie_Keywords</th>\n",
              "      <th>Movie_Tagline</th>\n",
              "      <th>Movie_Cast</th>\n",
              "      <th>Movie_Director</th>\n",
              "    </tr>\n",
              "  </thead>\n",
              "  <tbody>\n",
              "    <tr>\n",
              "      <th>0</th>\n",
              "      <td>Crime Comedy</td>\n",
              "      <td>hotel new year's eve witch bet hotel room</td>\n",
              "      <td>Twelve outrageous guests. Four scandalous requ...</td>\n",
              "      <td>Tim Roth Antonio Banderas Jennifer Beals Madon...</td>\n",
              "      <td>Allison Anders</td>\n",
              "    </tr>\n",
              "    <tr>\n",
              "      <th>1</th>\n",
              "      <td>Adventure Action Science Fiction</td>\n",
              "      <td>android galaxy hermit death star lightsaber</td>\n",
              "      <td>A long time ago in a galaxy far, far away...</td>\n",
              "      <td>Mark Hamill Harrison Ford Carrie Fisher Peter ...</td>\n",
              "      <td>George Lucas</td>\n",
              "    </tr>\n",
              "    <tr>\n",
              "      <th>2</th>\n",
              "      <td>Animation Family</td>\n",
              "      <td>father son relationship harbor underwater fish...</td>\n",
              "      <td>There are 3.7 trillion fish in the ocean, they...</td>\n",
              "      <td>Albert Brooks Ellen DeGeneres Alexander Gould ...</td>\n",
              "      <td>Andrew Stanton</td>\n",
              "    </tr>\n",
              "    <tr>\n",
              "      <th>3</th>\n",
              "      <td>Comedy Drama Romance</td>\n",
              "      <td>vietnam veteran hippie mentally disabled runni...</td>\n",
              "      <td>The world will never be the same, once you've ...</td>\n",
              "      <td>Tom Hanks Robin Wright Gary Sinise Mykelti Wil...</td>\n",
              "      <td>Robert Zemeckis</td>\n",
              "    </tr>\n",
              "    <tr>\n",
              "      <th>4</th>\n",
              "      <td>Drama</td>\n",
              "      <td>male nudity female nudity adultery midlife cri...</td>\n",
              "      <td>Look closer.</td>\n",
              "      <td>Kevin Spacey Annette Bening Thora Birch Wes Be...</td>\n",
              "      <td>Sam Mendes</td>\n",
              "    </tr>\n",
              "    <tr>\n",
              "      <th>...</th>\n",
              "      <td>...</td>\n",
              "      <td>...</td>\n",
              "      <td>...</td>\n",
              "      <td>...</td>\n",
              "      <td>...</td>\n",
              "    </tr>\n",
              "    <tr>\n",
              "      <th>4755</th>\n",
              "      <td>Horror</td>\n",
              "      <td></td>\n",
              "      <td>The hot spot where Satan's waitin'.</td>\n",
              "      <td>Lisa Hart Carroll Michael Des Barres Paul Drak...</td>\n",
              "      <td>Pece Dingo</td>\n",
              "    </tr>\n",
              "    <tr>\n",
              "      <th>4756</th>\n",
              "      <td>Comedy Family Drama</td>\n",
              "      <td></td>\n",
              "      <td>It’s better to stand out than to fit in.</td>\n",
              "      <td>Roni Akurati Brighton Sharbino Jason Lee Anjul...</td>\n",
              "      <td>Frank Lotito</td>\n",
              "    </tr>\n",
              "    <tr>\n",
              "      <th>4757</th>\n",
              "      <td>Thriller Drama</td>\n",
              "      <td>christian film sex trafficking</td>\n",
              "      <td>She never knew it could happen to her...</td>\n",
              "      <td>Nicole Smolen Kim Baldwin Ariana Stephens Brys...</td>\n",
              "      <td>Jaco Booyens</td>\n",
              "    </tr>\n",
              "    <tr>\n",
              "      <th>4758</th>\n",
              "      <td>Family</td>\n",
              "      <td></td>\n",
              "      <td></td>\n",
              "      <td></td>\n",
              "      <td></td>\n",
              "    </tr>\n",
              "    <tr>\n",
              "      <th>4759</th>\n",
              "      <td>Documentary</td>\n",
              "      <td>music actors legendary perfomer classic hollyw...</td>\n",
              "      <td></td>\n",
              "      <td>Tony Oppedisano</td>\n",
              "      <td>Simon Napier-Bell</td>\n",
              "    </tr>\n",
              "  </tbody>\n",
              "</table>\n",
              "<p>4760 rows × 5 columns</p>\n",
              "</div>\n",
              "    <div class=\"colab-df-buttons\">\n",
              "\n",
              "  <div class=\"colab-df-container\">\n",
              "    <button class=\"colab-df-convert\" onclick=\"convertToInteractive('df-b2bc5dbd-32dc-4504-a476-fa1ee36e8414')\"\n",
              "            title=\"Convert this dataframe to an interactive table.\"\n",
              "            style=\"display:none;\">\n",
              "\n",
              "  <svg xmlns=\"http://www.w3.org/2000/svg\" height=\"24px\" viewBox=\"0 -960 960 960\">\n",
              "    <path d=\"M120-120v-720h720v720H120Zm60-500h600v-160H180v160Zm220 220h160v-160H400v160Zm0 220h160v-160H400v160ZM180-400h160v-160H180v160Zm440 0h160v-160H620v160ZM180-180h160v-160H180v160Zm440 0h160v-160H620v160Z\"/>\n",
              "  </svg>\n",
              "    </button>\n",
              "\n",
              "  <style>\n",
              "    .colab-df-container {\n",
              "      display:flex;\n",
              "      gap: 12px;\n",
              "    }\n",
              "\n",
              "    .colab-df-convert {\n",
              "      background-color: #E8F0FE;\n",
              "      border: none;\n",
              "      border-radius: 50%;\n",
              "      cursor: pointer;\n",
              "      display: none;\n",
              "      fill: #1967D2;\n",
              "      height: 32px;\n",
              "      padding: 0 0 0 0;\n",
              "      width: 32px;\n",
              "    }\n",
              "\n",
              "    .colab-df-convert:hover {\n",
              "      background-color: #E2EBFA;\n",
              "      box-shadow: 0px 1px 2px rgba(60, 64, 67, 0.3), 0px 1px 3px 1px rgba(60, 64, 67, 0.15);\n",
              "      fill: #174EA6;\n",
              "    }\n",
              "\n",
              "    .colab-df-buttons div {\n",
              "      margin-bottom: 4px;\n",
              "    }\n",
              "\n",
              "    [theme=dark] .colab-df-convert {\n",
              "      background-color: #3B4455;\n",
              "      fill: #D2E3FC;\n",
              "    }\n",
              "\n",
              "    [theme=dark] .colab-df-convert:hover {\n",
              "      background-color: #434B5C;\n",
              "      box-shadow: 0px 1px 3px 1px rgba(0, 0, 0, 0.15);\n",
              "      filter: drop-shadow(0px 1px 2px rgba(0, 0, 0, 0.3));\n",
              "      fill: #FFFFFF;\n",
              "    }\n",
              "  </style>\n",
              "\n",
              "    <script>\n",
              "      const buttonEl =\n",
              "        document.querySelector('#df-b2bc5dbd-32dc-4504-a476-fa1ee36e8414 button.colab-df-convert');\n",
              "      buttonEl.style.display =\n",
              "        google.colab.kernel.accessAllowed ? 'block' : 'none';\n",
              "\n",
              "      async function convertToInteractive(key) {\n",
              "        const element = document.querySelector('#df-b2bc5dbd-32dc-4504-a476-fa1ee36e8414');\n",
              "        const dataTable =\n",
              "          await google.colab.kernel.invokeFunction('convertToInteractive',\n",
              "                                                    [key], {});\n",
              "        if (!dataTable) return;\n",
              "\n",
              "        const docLinkHtml = 'Like what you see? Visit the ' +\n",
              "          '<a target=\"_blank\" href=https://colab.research.google.com/notebooks/data_table.ipynb>data table notebook</a>'\n",
              "          + ' to learn more about interactive tables.';\n",
              "        element.innerHTML = '';\n",
              "        dataTable['output_type'] = 'display_data';\n",
              "        await google.colab.output.renderOutput(dataTable, element);\n",
              "        const docLink = document.createElement('div');\n",
              "        docLink.innerHTML = docLinkHtml;\n",
              "        element.appendChild(docLink);\n",
              "      }\n",
              "    </script>\n",
              "  </div>\n",
              "\n",
              "\n",
              "<div id=\"df-916134be-ed9c-4186-84fa-9c3c2a658966\">\n",
              "  <button class=\"colab-df-quickchart\" onclick=\"quickchart('df-916134be-ed9c-4186-84fa-9c3c2a658966')\"\n",
              "            title=\"Suggest charts\"\n",
              "            style=\"display:none;\">\n",
              "\n",
              "<svg xmlns=\"http://www.w3.org/2000/svg\" height=\"24px\"viewBox=\"0 0 24 24\"\n",
              "     width=\"24px\">\n",
              "    <g>\n",
              "        <path d=\"M19 3H5c-1.1 0-2 .9-2 2v14c0 1.1.9 2 2 2h14c1.1 0 2-.9 2-2V5c0-1.1-.9-2-2-2zM9 17H7v-7h2v7zm4 0h-2V7h2v10zm4 0h-2v-4h2v4z\"/>\n",
              "    </g>\n",
              "</svg>\n",
              "  </button>\n",
              "\n",
              "<style>\n",
              "  .colab-df-quickchart {\n",
              "      --bg-color: #E8F0FE;\n",
              "      --fill-color: #1967D2;\n",
              "      --hover-bg-color: #E2EBFA;\n",
              "      --hover-fill-color: #174EA6;\n",
              "      --disabled-fill-color: #AAA;\n",
              "      --disabled-bg-color: #DDD;\n",
              "  }\n",
              "\n",
              "  [theme=dark] .colab-df-quickchart {\n",
              "      --bg-color: #3B4455;\n",
              "      --fill-color: #D2E3FC;\n",
              "      --hover-bg-color: #434B5C;\n",
              "      --hover-fill-color: #FFFFFF;\n",
              "      --disabled-bg-color: #3B4455;\n",
              "      --disabled-fill-color: #666;\n",
              "  }\n",
              "\n",
              "  .colab-df-quickchart {\n",
              "    background-color: var(--bg-color);\n",
              "    border: none;\n",
              "    border-radius: 50%;\n",
              "    cursor: pointer;\n",
              "    display: none;\n",
              "    fill: var(--fill-color);\n",
              "    height: 32px;\n",
              "    padding: 0;\n",
              "    width: 32px;\n",
              "  }\n",
              "\n",
              "  .colab-df-quickchart:hover {\n",
              "    background-color: var(--hover-bg-color);\n",
              "    box-shadow: 0 1px 2px rgba(60, 64, 67, 0.3), 0 1px 3px 1px rgba(60, 64, 67, 0.15);\n",
              "    fill: var(--button-hover-fill-color);\n",
              "  }\n",
              "\n",
              "  .colab-df-quickchart-complete:disabled,\n",
              "  .colab-df-quickchart-complete:disabled:hover {\n",
              "    background-color: var(--disabled-bg-color);\n",
              "    fill: var(--disabled-fill-color);\n",
              "    box-shadow: none;\n",
              "  }\n",
              "\n",
              "  .colab-df-spinner {\n",
              "    border: 2px solid var(--fill-color);\n",
              "    border-color: transparent;\n",
              "    border-bottom-color: var(--fill-color);\n",
              "    animation:\n",
              "      spin 1s steps(1) infinite;\n",
              "  }\n",
              "\n",
              "  @keyframes spin {\n",
              "    0% {\n",
              "      border-color: transparent;\n",
              "      border-bottom-color: var(--fill-color);\n",
              "      border-left-color: var(--fill-color);\n",
              "    }\n",
              "    20% {\n",
              "      border-color: transparent;\n",
              "      border-left-color: var(--fill-color);\n",
              "      border-top-color: var(--fill-color);\n",
              "    }\n",
              "    30% {\n",
              "      border-color: transparent;\n",
              "      border-left-color: var(--fill-color);\n",
              "      border-top-color: var(--fill-color);\n",
              "      border-right-color: var(--fill-color);\n",
              "    }\n",
              "    40% {\n",
              "      border-color: transparent;\n",
              "      border-right-color: var(--fill-color);\n",
              "      border-top-color: var(--fill-color);\n",
              "    }\n",
              "    60% {\n",
              "      border-color: transparent;\n",
              "      border-right-color: var(--fill-color);\n",
              "    }\n",
              "    80% {\n",
              "      border-color: transparent;\n",
              "      border-right-color: var(--fill-color);\n",
              "      border-bottom-color: var(--fill-color);\n",
              "    }\n",
              "    90% {\n",
              "      border-color: transparent;\n",
              "      border-bottom-color: var(--fill-color);\n",
              "    }\n",
              "  }\n",
              "</style>\n",
              "\n",
              "  <script>\n",
              "    async function quickchart(key) {\n",
              "      const quickchartButtonEl =\n",
              "        document.querySelector('#' + key + ' button');\n",
              "      quickchartButtonEl.disabled = true;  // To prevent multiple clicks.\n",
              "      quickchartButtonEl.classList.add('colab-df-spinner');\n",
              "      try {\n",
              "        const charts = await google.colab.kernel.invokeFunction(\n",
              "            'suggestCharts', [key], {});\n",
              "      } catch (error) {\n",
              "        console.error('Error during call to suggestCharts:', error);\n",
              "      }\n",
              "      quickchartButtonEl.classList.remove('colab-df-spinner');\n",
              "      quickchartButtonEl.classList.add('colab-df-quickchart-complete');\n",
              "    }\n",
              "    (() => {\n",
              "      let quickchartButtonEl =\n",
              "        document.querySelector('#df-916134be-ed9c-4186-84fa-9c3c2a658966 button');\n",
              "      quickchartButtonEl.style.display =\n",
              "        google.colab.kernel.accessAllowed ? 'block' : 'none';\n",
              "    })();\n",
              "  </script>\n",
              "</div>\n",
              "\n",
              "  <div id=\"id_716ad56f-df4a-4fc4-ae89-50ebb5004471\">\n",
              "    <style>\n",
              "      .colab-df-generate {\n",
              "        background-color: #E8F0FE;\n",
              "        border: none;\n",
              "        border-radius: 50%;\n",
              "        cursor: pointer;\n",
              "        display: none;\n",
              "        fill: #1967D2;\n",
              "        height: 32px;\n",
              "        padding: 0 0 0 0;\n",
              "        width: 32px;\n",
              "      }\n",
              "\n",
              "      .colab-df-generate:hover {\n",
              "        background-color: #E2EBFA;\n",
              "        box-shadow: 0px 1px 2px rgba(60, 64, 67, 0.3), 0px 1px 3px 1px rgba(60, 64, 67, 0.15);\n",
              "        fill: #174EA6;\n",
              "      }\n",
              "\n",
              "      [theme=dark] .colab-df-generate {\n",
              "        background-color: #3B4455;\n",
              "        fill: #D2E3FC;\n",
              "      }\n",
              "\n",
              "      [theme=dark] .colab-df-generate:hover {\n",
              "        background-color: #434B5C;\n",
              "        box-shadow: 0px 1px 3px 1px rgba(0, 0, 0, 0.15);\n",
              "        filter: drop-shadow(0px 1px 2px rgba(0, 0, 0, 0.3));\n",
              "        fill: #FFFFFF;\n",
              "      }\n",
              "    </style>\n",
              "    <button class=\"colab-df-generate\" onclick=\"generateWithVariable('df_features')\"\n",
              "            title=\"Generate code using this dataframe.\"\n",
              "            style=\"display:none;\">\n",
              "\n",
              "  <svg xmlns=\"http://www.w3.org/2000/svg\" height=\"24px\"viewBox=\"0 0 24 24\"\n",
              "       width=\"24px\">\n",
              "    <path d=\"M7,19H8.4L18.45,9,17,7.55,7,17.6ZM5,21V16.75L18.45,3.32a2,2,0,0,1,2.83,0l1.4,1.43a1.91,1.91,0,0,1,.58,1.4,1.91,1.91,0,0,1-.58,1.4L9.25,21ZM18.45,9,17,7.55Zm-12,3A5.31,5.31,0,0,0,4.9,8.1,5.31,5.31,0,0,0,1,6.5,5.31,5.31,0,0,0,4.9,4.9,5.31,5.31,0,0,0,6.5,1,5.31,5.31,0,0,0,8.1,4.9,5.31,5.31,0,0,0,12,6.5,5.46,5.46,0,0,0,6.5,12Z\"/>\n",
              "  </svg>\n",
              "    </button>\n",
              "    <script>\n",
              "      (() => {\n",
              "      const buttonEl =\n",
              "        document.querySelector('#id_716ad56f-df4a-4fc4-ae89-50ebb5004471 button.colab-df-generate');\n",
              "      buttonEl.style.display =\n",
              "        google.colab.kernel.accessAllowed ? 'block' : 'none';\n",
              "\n",
              "      buttonEl.onclick = () => {\n",
              "        google.colab.notebook.generateWithVariable('df_features');\n",
              "      }\n",
              "      })();\n",
              "    </script>\n",
              "  </div>\n",
              "\n",
              "    </div>\n",
              "  </div>\n"
            ],
            "application/vnd.google.colaboratory.intrinsic+json": {
              "type": "dataframe",
              "variable_name": "df_features",
              "summary": "{\n  \"name\": \"df_features\",\n  \"rows\": 4760,\n  \"fields\": [\n    {\n      \"column\": \"Movie_Genre\",\n      \"properties\": {\n        \"dtype\": \"category\",\n        \"num_unique_values\": 1164,\n        \"samples\": [\n          \"Family Animation Adventure\",\n          \"Adventure Science Fiction Action\",\n          \"Action Crime Drama Romance Thriller\"\n        ],\n        \"semantic_type\": \"\",\n        \"description\": \"\"\n      }\n    },\n    {\n      \"column\": \"Movie_Keywords\",\n      \"properties\": {\n        \"dtype\": \"string\",\n        \"num_unique_values\": 4203,\n        \"samples\": [\n          \"canada nazis sequel spin off ancient evil\",\n          \"sex professor wedding woman director columbia university\",\n          \"prophecy sea beach gold small town\"\n        ],\n        \"semantic_type\": \"\",\n        \"description\": \"\"\n      }\n    },\n    {\n      \"column\": \"Movie_Tagline\",\n      \"properties\": {\n        \"dtype\": \"string\",\n        \"num_unique_values\": 3928,\n        \"samples\": [\n          \"The messenger must be silenced.\",\n          \"It's not the house that's haunted.\",\n          \"The final hunt begins.\"\n        ],\n        \"semantic_type\": \"\",\n        \"description\": \"\"\n      }\n    },\n    {\n      \"column\": \"Movie_Cast\",\n      \"properties\": {\n        \"dtype\": \"string\",\n        \"num_unique_values\": 4715,\n        \"samples\": [\n          \"Robin Tunney Fairuza Balk Neve Campbell Rachel True Skeet Ulrich\",\n          \"Peter Sellers Christopher Plummer Herbert Lom Catherine Schell Peter Arne\",\n          \"John Wayne Laraine Day Cedric Hardwicke Judith Anderson Anthony Quinn\"\n        ],\n        \"semantic_type\": \"\",\n        \"description\": \"\"\n      }\n    },\n    {\n      \"column\": \"Movie_Director\",\n      \"properties\": {\n        \"dtype\": \"category\",\n        \"num_unique_values\": 2332,\n        \"samples\": [\n          \"Rob McKittrick\",\n          \"Terron R. Parsons\",\n          \"Cyrus Nowrasteh\"\n        ],\n        \"semantic_type\": \"\",\n        \"description\": \"\"\n      }\n    }\n  ]\n}"
            }
          },
          "metadata": {},
          "execution_count": 29
        }
      ]
    },
    {
      "cell_type": "code",
      "source": [
        "x = df_features['Movie_Genre'] + ' ' + df_features['Movie_Keywords'] + ' ' + df_features['Movie_Tagline'] + ' ' + df_features['Movie_Cast'] + ' ' + df_features['Movie_Director']\n"
      ],
      "metadata": {
        "id": "1fPwz2pOsvgp"
      },
      "execution_count": null,
      "outputs": []
    },
    {
      "cell_type": "code",
      "source": [
        "x"
      ],
      "metadata": {
        "colab": {
          "base_uri": "https://localhost:8080/",
          "height": 458
        },
        "id": "Na1FvX9bszZF",
        "outputId": "fb670802-f070-4af6-95cf-4fc0cc6e1339"
      },
      "execution_count": null,
      "outputs": [
        {
          "output_type": "execute_result",
          "data": {
            "text/plain": [
              "0       Crime Comedy hotel new year's eve witch bet ho...\n",
              "1       Adventure Action Science Fiction android galax...\n",
              "2       Animation Family father son relationship harbo...\n",
              "3       Comedy Drama Romance vietnam veteran hippie me...\n",
              "4       Drama male nudity female nudity adultery midli...\n",
              "                              ...                        \n",
              "4755    Horror  The hot spot where Satan's waitin'. Li...\n",
              "4756    Comedy Family Drama  It’s better to stand out ...\n",
              "4757    Thriller Drama christian film sex trafficking ...\n",
              "4758                                           Family    \n",
              "4759    Documentary music actors legendary perfomer cl...\n",
              "Length: 4760, dtype: object"
            ],
            "text/html": [
              "<div>\n",
              "<style scoped>\n",
              "    .dataframe tbody tr th:only-of-type {\n",
              "        vertical-align: middle;\n",
              "    }\n",
              "\n",
              "    .dataframe tbody tr th {\n",
              "        vertical-align: top;\n",
              "    }\n",
              "\n",
              "    .dataframe thead th {\n",
              "        text-align: right;\n",
              "    }\n",
              "</style>\n",
              "<table border=\"1\" class=\"dataframe\">\n",
              "  <thead>\n",
              "    <tr style=\"text-align: right;\">\n",
              "      <th></th>\n",
              "      <th>0</th>\n",
              "    </tr>\n",
              "  </thead>\n",
              "  <tbody>\n",
              "    <tr>\n",
              "      <th>0</th>\n",
              "      <td>Crime Comedy hotel new year's eve witch bet ho...</td>\n",
              "    </tr>\n",
              "    <tr>\n",
              "      <th>1</th>\n",
              "      <td>Adventure Action Science Fiction android galax...</td>\n",
              "    </tr>\n",
              "    <tr>\n",
              "      <th>2</th>\n",
              "      <td>Animation Family father son relationship harbo...</td>\n",
              "    </tr>\n",
              "    <tr>\n",
              "      <th>3</th>\n",
              "      <td>Comedy Drama Romance vietnam veteran hippie me...</td>\n",
              "    </tr>\n",
              "    <tr>\n",
              "      <th>4</th>\n",
              "      <td>Drama male nudity female nudity adultery midli...</td>\n",
              "    </tr>\n",
              "    <tr>\n",
              "      <th>...</th>\n",
              "      <td>...</td>\n",
              "    </tr>\n",
              "    <tr>\n",
              "      <th>4755</th>\n",
              "      <td>Horror  The hot spot where Satan's waitin'. Li...</td>\n",
              "    </tr>\n",
              "    <tr>\n",
              "      <th>4756</th>\n",
              "      <td>Comedy Family Drama  It’s better to stand out ...</td>\n",
              "    </tr>\n",
              "    <tr>\n",
              "      <th>4757</th>\n",
              "      <td>Thriller Drama christian film sex trafficking ...</td>\n",
              "    </tr>\n",
              "    <tr>\n",
              "      <th>4758</th>\n",
              "      <td>Family</td>\n",
              "    </tr>\n",
              "    <tr>\n",
              "      <th>4759</th>\n",
              "      <td>Documentary music actors legendary perfomer cl...</td>\n",
              "    </tr>\n",
              "  </tbody>\n",
              "</table>\n",
              "<p>4760 rows × 1 columns</p>\n",
              "</div><br><label><b>dtype:</b> object</label>"
            ]
          },
          "metadata": {},
          "execution_count": 33
        }
      ]
    },
    {
      "cell_type": "code",
      "source": [
        "x.shape"
      ],
      "metadata": {
        "colab": {
          "base_uri": "https://localhost:8080/"
        },
        "id": "gFc7oYCNtC5-",
        "outputId": "45c164c2-3064-478a-a8f0-102383b12254"
      },
      "execution_count": null,
      "outputs": [
        {
          "output_type": "execute_result",
          "data": {
            "text/plain": [
              "(4760,)"
            ]
          },
          "metadata": {},
          "execution_count": 34
        }
      ]
    },
    {
      "cell_type": "markdown",
      "source": [
        "# **Get Feature Text Conversion to Tokens**"
      ],
      "metadata": {
        "id": "Gf0-iQePuOzn"
      }
    },
    {
      "cell_type": "code",
      "source": [
        "from sklearn.feature_extraction.text import TfidfVectorizer"
      ],
      "metadata": {
        "id": "inJQ-XsIuR8F"
      },
      "execution_count": null,
      "outputs": []
    },
    {
      "cell_type": "code",
      "source": [
        "tfidf = TfidfVectorizer()"
      ],
      "metadata": {
        "id": "FN-q6ONduUMJ"
      },
      "execution_count": null,
      "outputs": []
    },
    {
      "cell_type": "code",
      "source": [
        "x = tfidf.fit_transform(x)"
      ],
      "metadata": {
        "id": "9GTfovX-uWSw"
      },
      "execution_count": null,
      "outputs": []
    },
    {
      "cell_type": "code",
      "source": [
        "x.shape"
      ],
      "metadata": {
        "colab": {
          "base_uri": "https://localhost:8080/"
        },
        "id": "o5pjCDhZuYUQ",
        "outputId": "787cb2f1-e84e-4e4d-a8ba-49621b3b5fe8"
      },
      "execution_count": null,
      "outputs": [
        {
          "output_type": "execute_result",
          "data": {
            "text/plain": [
              "(4760, 17258)"
            ]
          },
          "metadata": {},
          "execution_count": 38
        }
      ]
    },
    {
      "cell_type": "code",
      "source": [
        "print(x)"
      ],
      "metadata": {
        "colab": {
          "base_uri": "https://localhost:8080/"
        },
        "id": "QZ_dFSPhucqS",
        "outputId": "366673d2-9829-44c7-c166-9c90763dba37"
      },
      "execution_count": null,
      "outputs": [
        {
          "output_type": "stream",
          "name": "stdout",
          "text": [
            "  (0, 617)\t0.1633382144407513\n",
            "  (0, 492)\t0.1432591540388685\n",
            "  (0, 15413)\t0.1465525095337543\n",
            "  (0, 9675)\t0.14226057295252661\n",
            "  (0, 9465)\t0.1659841367820977\n",
            "  (0, 1390)\t0.16898383612799558\n",
            "  (0, 7825)\t0.09799561597509843\n",
            "  (0, 1214)\t0.13865857545144072\n",
            "  (0, 729)\t0.13415063359531618\n",
            "  (0, 13093)\t0.1432591540388685\n",
            "  (0, 15355)\t0.10477815972666779\n",
            "  (0, 9048)\t0.0866842116160778\n",
            "  (0, 11161)\t0.06250380151644369\n",
            "  (0, 16773)\t0.17654247479915475\n",
            "  (0, 5612)\t0.08603537588547631\n",
            "  (0, 16735)\t0.10690083751525419\n",
            "  (0, 7904)\t0.13348000542112332\n",
            "  (0, 15219)\t0.09800472886453934\n",
            "  (0, 11242)\t0.07277788238484746\n",
            "  (0, 3878)\t0.11998399582562203\n",
            "  (0, 5499)\t0.11454057510303811\n",
            "  (0, 7071)\t0.19822417598406614\n",
            "  (0, 7454)\t0.14745635785412262\n",
            "  (0, 1495)\t0.19712637387361423\n",
            "  (0, 9206)\t0.15186283580984414\n",
            "  :\t:\n",
            "  (4757, 5455)\t0.12491480594769522\n",
            "  (4757, 2967)\t0.16273475835631626\n",
            "  (4757, 8464)\t0.23522565554066333\n",
            "  (4757, 6938)\t0.17088173678136628\n",
            "  (4757, 8379)\t0.17480603856721913\n",
            "  (4757, 15303)\t0.07654356007668191\n",
            "  (4757, 15384)\t0.09754322497537371\n",
            "  (4757, 7649)\t0.11479421494340192\n",
            "  (4757, 10896)\t0.14546473055066447\n",
            "  (4757, 4494)\t0.05675298448720501\n",
            "  (4758, 5238)\t1.0\n",
            "  (4759, 11264)\t0.33947721804318337\n",
            "  (4759, 11708)\t0.33947721804318337\n",
            "  (4759, 205)\t0.3237911628497312\n",
            "  (4759, 8902)\t0.3040290704566037\n",
            "  (4759, 14062)\t0.3237911628497312\n",
            "  (4759, 3058)\t0.2812896191863103\n",
            "  (4759, 7130)\t0.26419662449963793\n",
            "  (4759, 10761)\t0.3126617295732147\n",
            "  (4759, 4358)\t0.18306542312175342\n",
            "  (4759, 14051)\t0.20084315377640435\n",
            "  (4759, 5690)\t0.19534291014627303\n",
            "  (4759, 15431)\t0.19628653185946862\n",
            "  (4759, 1490)\t0.21197258705292082\n",
            "  (4759, 10666)\t0.15888268987343043\n"
          ]
        }
      ]
    },
    {
      "cell_type": "markdown",
      "source": [
        "# **Get Similarity Score using Cosine Similarity**"
      ],
      "metadata": {
        "id": "AFA1pGOMumro"
      }
    },
    {
      "cell_type": "code",
      "source": [
        "from sklearn.metrics.pairwise import cosine_similarity"
      ],
      "metadata": {
        "id": "VGKECOF4uphc"
      },
      "execution_count": null,
      "outputs": []
    },
    {
      "cell_type": "code",
      "source": [
        "Similarity_Score = cosine_similarity(x)"
      ],
      "metadata": {
        "id": "92hHd99QusZW"
      },
      "execution_count": null,
      "outputs": []
    },
    {
      "cell_type": "code",
      "source": [
        "Similarity_Score"
      ],
      "metadata": {
        "colab": {
          "base_uri": "https://localhost:8080/"
        },
        "id": "1xSjxmR9uvd5",
        "outputId": "4cb7d97a-5c87-498f-e147-aa802eed23d5"
      },
      "execution_count": null,
      "outputs": [
        {
          "output_type": "execute_result",
          "data": {
            "text/plain": [
              "array([[1.        , 0.01351235, 0.03570468, ..., 0.        , 0.        ,\n",
              "        0.        ],\n",
              "       [0.01351235, 1.        , 0.00806674, ..., 0.        , 0.        ,\n",
              "        0.        ],\n",
              "       [0.03570468, 0.00806674, 1.        , ..., 0.        , 0.08014876,\n",
              "        0.        ],\n",
              "       ...,\n",
              "       [0.        , 0.        , 0.        , ..., 1.        , 0.        ,\n",
              "        0.        ],\n",
              "       [0.        , 0.        , 0.08014876, ..., 0.        , 1.        ,\n",
              "        0.        ],\n",
              "       [0.        , 0.        , 0.        , ..., 0.        , 0.        ,\n",
              "        1.        ]])"
            ]
          },
          "metadata": {},
          "execution_count": 42
        }
      ]
    },
    {
      "cell_type": "code",
      "source": [
        "Similarity_Score.shape"
      ],
      "metadata": {
        "colab": {
          "base_uri": "https://localhost:8080/"
        },
        "id": "_BK3q3you0Tg",
        "outputId": "ce80d15e-bcef-40b2-e91c-f3a9f1e72aac"
      },
      "execution_count": null,
      "outputs": [
        {
          "output_type": "execute_result",
          "data": {
            "text/plain": [
              "(4760, 4760)"
            ]
          },
          "metadata": {},
          "execution_count": 44
        }
      ]
    },
    {
      "cell_type": "markdown",
      "source": [
        "# **Get Movie Name as Input from User and Validate for Closest Spelling**"
      ],
      "metadata": {
        "id": "g7aUyPnCu3ng"
      }
    },
    {
      "cell_type": "code",
      "source": [
        "Favorite_Movie_Name = input(' Enter your Favorite movie name: ')"
      ],
      "metadata": {
        "colab": {
          "base_uri": "https://localhost:8080/"
        },
        "id": "utHNYOx2u67P",
        "outputId": "e56d35be-8ed5-467b-cbba-6ae994860b54"
      },
      "execution_count": null,
      "outputs": [
        {
          "name": "stdout",
          "output_type": "stream",
          "text": [
            " Enter your Favorite movie name: The dark night rise\n"
          ]
        }
      ]
    },
    {
      "cell_type": "code",
      "source": [
        "All_Movies_Title_List = df['Movie_Title'].tolist()"
      ],
      "metadata": {
        "id": "c8Gh1CGSvegc"
      },
      "execution_count": null,
      "outputs": []
    },
    {
      "cell_type": "code",
      "source": [
        "import difflib"
      ],
      "metadata": {
        "id": "XWqfJ2RCvfWF"
      },
      "execution_count": null,
      "outputs": []
    },
    {
      "cell_type": "code",
      "source": [
        "Movie_Recommendation = difflib.get_close_matches(Favorite_Movie_Name,All_Movies_Title_List)\n",
        "print(Movie_Recommendation)"
      ],
      "metadata": {
        "colab": {
          "base_uri": "https://localhost:8080/"
        },
        "id": "2K8UBCLBvnDo",
        "outputId": "d6e92cbc-8481-4460-db9a-f60530344e37"
      },
      "execution_count": null,
      "outputs": [
        {
          "output_type": "stream",
          "name": "stdout",
          "text": [
            "['The Dark Knight Rises', 'The Dark Knight', 'The Spanish Prisoner']\n"
          ]
        }
      ]
    },
    {
      "cell_type": "code",
      "source": [
        "Close_Match = Movie_Recommendation[0]\n",
        "print(Close_Match)"
      ],
      "metadata": {
        "colab": {
          "base_uri": "https://localhost:8080/"
        },
        "id": "3wU-lASHvsjD",
        "outputId": "1fb688ea-5f1e-4921-d6a8-5305868c5869"
      },
      "execution_count": null,
      "outputs": [
        {
          "output_type": "stream",
          "name": "stdout",
          "text": [
            "The Dark Knight Rises\n"
          ]
        }
      ]
    },
    {
      "cell_type": "code",
      "source": [
        "Index_of_Close_Match_Movie = df[df.Movie_Title == Close_Match]['Movie_ID'].values[0]\n",
        "print(Index_of_Close_Match_Movie)"
      ],
      "metadata": {
        "colab": {
          "base_uri": "https://localhost:8080/"
        },
        "id": "N1LT9S2zvxPL",
        "outputId": "1c10e5db-f3da-4c38-e36b-5ce17dd3fde1"
      },
      "execution_count": null,
      "outputs": [
        {
          "output_type": "stream",
          "name": "stdout",
          "text": [
            "3453\n"
          ]
        }
      ]
    },
    {
      "cell_type": "code",
      "source": [
        "Recomendation_Score = list(enumerate(Similarity_Score[Index_of_Close_Match_Movie]))\n",
        "print(Recomendation_Score)"
      ],
      "metadata": {
        "colab": {
          "base_uri": "https://localhost:8080/"
        },
        "id": "qNZRmY11v0vd",
        "outputId": "ffc1a353-ea2e-4954-a3ea-f1a2b1334bb9"
      },
      "execution_count": null,
      "outputs": [
        {
          "output_type": "stream",
          "name": "stdout",
          "text": [
            "[(0, 0.006440170402891585), (1, 0.0251122418417866), (2, 0.0), (3, 0.0), (4, 0.031966663139363735), (5, 0.037586805369265425), (6, 0.041350336790863265), (7, 0.0661220936276484), (8, 0.0), (9, 0.005803102618161061), (10, 0.016232862937188612), (11, 0.0), (12, 0.011017694765182528), (13, 0.023037220818477287), (14, 0.0), (15, 0.06169283707538069), (16, 0.0), (17, 0.01762106049516504), (18, 0.008593133043060757), (19, 0.021075737843624674), (20, 0.010791578646385231), (21, 0.0727154172359196), (22, 0.02168945465313273), (23, 0.010751549435405731), (24, 0.026954132747323393), (25, 0.017068988326352327), (26, 0.02789919484031183), (27, 0.022691092479069367), (28, 0.05112873880574595), (29, 0.04049566667570715), (30, 0.0), (31, 0.020543751336198138), (32, 0.005499188464154196), (33, 0.0), (34, 0.04923457125216391), (35, 0.005786310376819822), (36, 0.0057305699261876964), (37, 0.015143127211324109), (38, 0.07599304036286364), (39, 0.028230389546611126), (40, 0.06301945485371047), (41, 0.03746921529517898), (42, 0.04550782137356428), (43, 0.008225599106342496), (44, 0.0052200594602688525), (45, 0.02073165339618232), (46, 0.02613138143419646), (47, 0.023722266143461092), (48, 0.06300706281058072), (49, 0.017218947750525643), (50, 0.008850015250362874), (51, 0.00942861472928688), (52, 0.008568549928586924), (53, 0.009776611476538867), (54, 0.04163216150693673), (55, 0.053615776868160187), (56, 0.05224304889320444), (57, 0.0), (58, 0.0), (59, 0.03583832987674119), (60, 0.0), (61, 0.0), (62, 0.011390913330257693), (63, 0.004990786555403512), (64, 0.02693650057732796), (65, 0.03189318146807749), (66, 0.0), (67, 0.025494456165363777), (68, 0.06716320918151258), (69, 0.030870334739116094), (70, 0.00980175725491299), (71, 0.0), (72, 0.018697272306831162), (73, 0.018911610119475012), (74, 0.023232003590612525), (75, 0.018347149210850476), (76, 0.022940311628481244), (77, 0.037115864724844655), (78, 0.02363304155545056), (79, 0.02177599328605068), (80, 0.025760913206079147), (81, 0.00887908576209333), (82, 0.0), (83, 0.009081231907682301), (84, 0.03762990357373687), (85, 0.04897802642410158), (86, 0.007707012408264588), (87, 0.008651021769080837), (88, 0.012563599826699827), (89, 0.021737325768534377), (90, 0.027492822018660927), (91, 0.0193385153924829), (92, 0.005518620734197571), (93, 0.0368100830082894), (94, 0.025818662895231693), (95, 0.028920760496821105), (96, 0.008294146450346417), (97, 0.0), (98, 0.0), (99, 0.0077503846121807), (100, 0.0), (101, 0.006952994756746579), (102, 0.04198782468327325), (103, 0.0), (104, 0.0), (105, 0.008887771221323075), (106, 0.030220502794700455), (107, 0.011701555665929852), (108, 0.02793117185070471), (109, 0.017868819459307968), (110, 0.0), (111, 0.008324793621424367), (112, 0.00862760230882223), (113, 0.0), (114, 0.0), (115, 0.0), (116, 0.02985552069116205), (117, 0.0), (118, 0.04513746501381442), (119, 0.006152304344917275), (120, 0.009242302168795732), (121, 0.026206535350332353), (122, 0.05008182597554399), (123, 0.06928632776358978), (124, 0.008182917427147692), (125, 0.007178977818262919), (126, 0.03830141770856144), (127, 0.010045909691606503), (128, 0.03118992819963764), (129, 0.0), (130, 0.0056929473133345496), (131, 0.0), (132, 0.02804504598044587), (133, 0.0), (134, 0.0), (135, 0.028090809126857515), (136, 0.0), (137, 0.009226413442067892), (138, 0.018511096804707756), (139, 0.06303207654919274), (140, 0.0), (141, 0.0), (142, 0.04100085776844569), (143, 0.015979130332247647), (144, 0.01447562128629136), (145, 0.01827135055812187), (146, 0.0), (147, 0.00775320240760827), (148, 0.013822897809593154), (149, 0.007400334223737106), (150, 0.021383154046998816), (151, 0.0779191446161612), (152, 0.027303069861572857), (153, 0.007370272771863257), (154, 0.0), (155, 0.013256131734645996), (156, 0.0), (157, 0.0), (158, 0.0), (159, 0.00490790715264448), (160, 0.025770064554953037), (161, 0.0), (162, 0.0944572301630358), (163, 0.0), (164, 0.0), (165, 0.005420936071184292), (166, 0.0519914628812725), (167, 0.05949154070498358), (168, 0.008108691732533266), (169, 0.010136729208727067), (170, 0.023149604730875697), (171, 0.02668773042028979), (172, 0.008989977379868576), (173, 0.009392178665676217), (174, 0.0), (175, 0.0), (176, 0.0), (177, 0.0), (178, 0.0), (179, 0.0), (180, 0.016277428389752862), (181, 0.06290702823807393), (182, 0.0), (183, 0.0), (184, 0.0), (185, 0.0), (186, 0.0), (187, 0.019160508078693607), (188, 0.0), (189, 0.02911423055392628), (190, 0.007647451356238944), (191, 0.03429025057283247), (192, 0.0), (193, 0.0398809792342329), (194, 0.03796201116045472), (195, 0.0), (196, 0.0), (197, 0.0), (198, 0.0), (199, 0.00817128910414429), (200, 0.0), (201, 0.04889637095213631), (202, 0.0), (203, 0.0), (204, 0.0), (205, 0.03019299942865732), (206, 0.03975315603821969), (207, 0.01012222661397558), (208, 0.006657563939550584), (209, 0.009042741552353283), (210, 0.01641674915896339), (211, 0.02980398879117401), (212, 0.0), (213, 0.0), (214, 0.0), (215, 0.03411371785548654), (216, 0.009290775810185807), (217, 0.014846839531726039), (218, 0.031701366286753276), (219, 0.010497432935978582), (220, 0.029723819474910727), (221, 0.0), (222, 0.0), (223, 0.04514793213245426), (224, 0.006856481017671501), (225, 0.011865676295757558), (226, 0.038825758148409606), (227, 0.0), (228, 0.007813876610206438), (229, 0.0), (230, 0.006106893418343108), (231, 0.035310909492341114), (232, 0.006751704165795633), (233, 0.0061891420263534514), (234, 0.05666079318156876), (235, 0.030929523706582727), (236, 0.008417735547249606), (237, 0.0), (238, 0.0), (239, 0.0), (240, 0.0), (241, 0.0), (242, 0.008932793574320867), (243, 0.02227072378084669), (244, 0.014901418347007818), (245, 0.0), (246, 0.030323629601028947), (247, 0.0), (248, 0.0), (249, 0.027144767866548576), (250, 0.0), (251, 0.016523984459427012), (252, 0.01934915628197953), (253, 0.01128017239288515), (254, 0.009877478897650808), (255, 0.0), (256, 0.006695058026404349), (257, 0.046095814721496896), (258, 0.028306821426295918), (259, 0.027954007224746488), (260, 0.026666815948686997), (261, 0.027125580102748147), (262, 0.0), (263, 0.026605938885384362), (264, 0.028153685376903995), (265, 0.0), (266, 0.012763515253532146), (267, 0.0), (268, 0.0), (269, 0.00538084141680133), (270, 0.009372348771228734), (271, 0.004805875296805524), (272, 0.044487002075266055), (273, 0.04303695237041485), (274, 0.010289681117490294), (275, 0.0), (276, 0.053062584961217754), (277, 0.0), (278, 0.0), (279, 0.0), (280, 0.008938130472120429), (281, 0.010116691109483137), (282, 0.018992737000681416), (283, 0.04618657958292878), (284, 0.016396552077027837), (285, 0.008116281111875488), (286, 0.0), (287, 0.0483104682154243), (288, 0.005325479098893632), (289, 0.005033009283428107), (290, 0.03705160014089795), (291, 0.017572874958006197), (292, 0.006084107243064672), (293, 0.0), (294, 0.013207909067838296), (295, 0.013527917177177516), (296, 0.004699892706007544), (297, 0.02899062585155741), (298, 0.0394026419791866), (299, 0.0), (300, 0.0), (301, 0.0), (302, 0.0), (303, 0.030508660324011637), (304, 0.008262080284554498), (305, 0.04095505270588077), (306, 0.01528366950171756), (307, 0.020489659579956927), (308, 0.0), (309, 0.0), (310, 0.0060249489491424404), (311, 0.00841141202045623), (312, 0.0), (313, 0.0), (314, 0.02356802502937748), (315, 0.006290169287229316), (316, 0.005811824709542754), (317, 0.062202861205701954), (318, 0.0), (319, 0.005138160798587502), (320, 0.006574107880161678), (321, 0.006086566254845712), (322, 0.047484235769131605), (323, 0.005609337911463762), (324, 0.0), (325, 0.0), (326, 0.0), (327, 0.03339108129160112), (328, 0.04409842492373955), (329, 0.04316875201270496), (330, 0.0), (331, 0.0), (332, 0.00469542813562046), (333, 0.032978872185539465), (334, 0.02299029547462884), (335, 0.0), (336, 0.007399463946496346), (337, 0.0), (338, 0.0), (339, 0.0), (340, 0.0), (341, 0.0), (342, 0.009762370602913434), (343, 0.0631721622619113), (344, 0.0), (345, 0.008685455918390369), (346, 0.0), (347, 0.032270347889043836), (348, 0.0), (349, 0.017229319862101397), (350, 0.006826861696072991), (351, 0.0), (352, 0.0), (353, 0.016847434648362705), (354, 0.009441705190315319), (355, 0.0), (356, 0.009841258519515648), (357, 0.0), (358, 0.0), (359, 0.0), (360, 0.008503388194484703), (361, 0.0), (362, 0.0), (363, 0.0), (364, 0.018792598766279433), (365, 0.0), (366, 0.0), (367, 0.02951111610515262), (368, 0.036977257339066344), (369, 0.023576343342773462), (370, 0.026682771399831863), (371, 0.0), (372, 0.03815215078338671), (373, 0.0), (374, 0.0), (375, 0.027785458546433384), (376, 0.018975245248959705), (377, 0.0), (378, 0.021937660695187218), (379, 0.02589184655250976), (380, 0.025094608833414606), (381, 0.0), (382, 0.0057677482950404734), (383, 0.0), (384, 0.029078673707924833), (385, 0.009920507272543892), (386, 0.025027593279842435), (387, 0.009730468720674838), (388, 0.0), (389, 0.07685972688355922), (390, 0.02705991639340095), (391, 0.0), (392, 0.0), (393, 0.0), (394, 0.024027130500822468), (395, 0.0), (396, 0.008611755839702818), (397, 0.025706190186168102), (398, 0.0), (399, 0.026420966023059315), (400, 0.0), (401, 0.0), (402, 0.0), (403, 0.0241679785364812), (404, 0.0), (405, 0.023417918017919447), (406, 0.0), (407, 0.0), (408, 0.008472739040883937), (409, 0.0), (410, 0.0), (411, 0.005755841903219924), (412, 0.0), (413, 0.023325697717339968), (414, 0.0), (415, 0.0), (416, 0.026129224996325945), (417, 0.023732439668582853), (418, 0.02274521675917348), (419, 0.0), (420, 0.0), (421, 0.00797930820312481), (422, 0.045442968870350695), (423, 0.0), (424, 0.0071201713524829), (425, 0.007113993811922886), (426, 0.005865400659515581), (427, 0.020952487263670654), (428, 0.0), (429, 0.00939195772427267), (430, 0.023511412167815306), (431, 0.0), (432, 0.0), (433, 0.0), (434, 0.008478088587982855), (435, 0.012351564185518037), (436, 0.011543333982506237), (437, 0.0), (438, 0.01785772832593133), (439, 0.03197217387392136), (440, 0.07095423500535897), (441, 0.0), (442, 0.00519964631782582), (443, 0.0), (444, 0.0), (445, 0.0), (446, 0.0), (447, 0.009305423406555163), (448, 0.0), (449, 0.0), (450, 0.009833417131419414), (451, 0.016659876983042138), (452, 0.004723030969554239), (453, 0.016703472731254738), (454, 0.0), (455, 0.02196361789735471), (456, 0.0), (457, 0.0), (458, 0.01699644888151092), (459, 0.0), (460, 0.02174257156879525), (461, 0.056956192734455846), (462, 0.0), (463, 0.017867128674991798), (464, 0.0), (465, 0.026031711209412264), (466, 0.0), (467, 0.006181562313652316), (468, 0.032550185092328154), (469, 0.0051823422932478665), (470, 0.006613799838488255), (471, 0.0), (472, 0.033110306726588164), (473, 0.0), (474, 0.009416357098138931), (475, 0.0), (476, 0.0), (477, 0.013231998227951873), (478, 0.0), (479, 0.00895097969009916), (480, 0.0), (481, 0.009745765211232656), (482, 0.0), (483, 0.009461919987039115), (484, 0.05052968343166711), (485, 0.0096036636208781), (486, 0.027382356328041736), (487, 0.027295588196542212), (488, 0.0), (489, 0.0), (490, 0.0), (491, 0.032868213837777056), (492, 0.026249262556912213), (493, 0.010954343046754226), (494, 0.01530236754245773), (495, 0.005546358352214703), (496, 0.005353764463345574), (497, 0.06781946781123306), (498, 0.005978322882373213), (499, 0.0), (500, 0.014852535753708415), (501, 0.013678343445194929), (502, 0.009381757505987512), (503, 0.04854934050537583), (504, 0.09866934991218557), (505, 0.0), (506, 0.014395982120086874), (507, 0.0), (508, 0.0), (509, 0.022401563444614598), (510, 0.0), (511, 0.019894257201839186), (512, 0.0536061891958509), (513, 0.006816820559188269), (514, 0.006800504257958923), (515, 0.013730332829181069), (516, 0.029306025234470907), (517, 0.029217214935721325), (518, 0.0), (519, 0.005536857417167522), (520, 0.0), (521, 0.0), (522, 0.0), (523, 0.010845592598547537), (524, 0.0), (525, 0.0), (526, 0.03445835660935951), (527, 0.0), (528, 0.006385156524594974), (529, 0.0), (530, 0.01897772673890171), (531, 0.021328778066608302), (532, 0.014144586642930286), (533, 0.017132670430956922), (534, 0.01504452640846861), (535, 0.0), (536, 0.0), (537, 0.0320029319430592), (538, 0.0), (539, 0.014905715075048488), (540, 0.022183073290939367), (541, 0.0), (542, 0.010681693560454857), (543, 0.009333585559020896), (544, 0.009094111490647308), (545, 0.02825267713711585), (546, 0.021076115889633092), (547, 0.00755557637218745), (548, 0.015555513132323565), (549, 0.0), (550, 0.006926494204309532), (551, 0.0), (552, 0.0), (553, 0.022871705559809302), (554, 0.0272725884818125), (555, 0.041091907414748934), (556, 0.0), (557, 0.0), (558, 0.008263616652358032), (559, 0.0), (560, 0.015278511149178244), (561, 0.020732102720254372), (562, 0.007827250527540576), (563, 0.028524304083283703), (564, 0.040999297177864484), (565, 0.026259596099794624), (566, 0.036650443923460146), (567, 0.027416621174350755), (568, 0.015385086291467847), (569, 0.015199261834200898), (570, 0.008565139828070546), (571, 0.030173364380261535), (572, 0.05805301728594644), (573, 0.026439607606582847), (574, 0.0), (575, 0.0), (576, 0.0), (577, 0.009240405870845271), (578, 0.0), (579, 0.0), (580, 0.029795708176476476), (581, 0.0), (582, 0.0), (583, 0.0), (584, 0.009272725149780779), (585, 0.0), (586, 0.01850481317313263), (587, 0.0), (588, 0.010721025184981229), (589, 0.019123627869042897), (590, 0.0), (591, 0.030875701549428137), (592, 0.006369139496538433), (593, 0.0), (594, 0.0), (595, 0.006896662754768599), (596, 0.0), (597, 0.0), (598, 0.016551584750445113), (599, 0.029578127700842304), (600, 0.029583734564501175), (601, 0.023984376299019117), (602, 0.022954931687038046), (603, 0.04087747511797761), (604, 0.034465698089694796), (605, 0.0), (606, 0.040900779101561244), (607, 0.01590034427493352), (608, 0.0), (609, 0.0), (610, 0.006234850241945811), (611, 0.0), (612, 0.018861039532472507), (613, 0.07511940935770899), (614, 0.03225784758622045), (615, 0.006495903616783885), (616, 0.0), (617, 0.0), (618, 0.010072296416551949), (619, 0.045666855136263264), (620, 0.0), (621, 0.02791828415963262), (622, 0.009522420962565933), (623, 0.0), (624, 0.026080771808163164), (625, 0.018798130358824792), (626, 0.0), (627, 0.0), (628, 0.0), (629, 0.007738436254804476), (630, 0.0), (631, 0.0064476516304290375), (632, 0.013766916806136254), (633, 0.017403229321730815), (634, 0.0), (635, 0.006846410809460158), (636, 0.0), (637, 0.0), (638, 0.02628001604588002), (639, 0.0052952463898473376), (640, 0.0052496973553941804), (641, 0.0), (642, 0.0), (643, 0.008683993234435016), (644, 0.0059570701743577445), (645, 0.0), (646, 0.0), (647, 0.0), (648, 0.009642142012245614), (649, 0.0), (650, 0.0), (651, 0.05073362122652974), (652, 0.009166301806856215), (653, 0.04607143281662782), (654, 0.02692865083693006), (655, 0.0), (656, 0.029537208534218345), (657, 0.0), (658, 0.0), (659, 0.00961051641323643), (660, 0.01077728763044915), (661, 0.005882654208574918), (662, 0.0), (663, 0.024278032608163864), (664, 0.008033060921217208), (665, 0.0), (666, 0.06723352459647815), (667, 0.009421783971536462), (668, 0.012050971927905513), (669, 0.054821906812935785), (670, 0.0077281511892961525), (671, 0.04962736390110663), (672, 0.011183505351552147), (673, 0.016622582323118227), (674, 0.027869741517673713), (675, 0.021024338162709936), (676, 0.06936292016421852), (677, 0.0), (678, 0.021017235559131445), (679, 0.0), (680, 0.04319245552217932), (681, 0.03183040788230052), (682, 0.017131499511750116), (683, 0.06455536842649308), (684, 0.011177356387958809), (685, 0.021197133262850006), (686, 0.02414231968524692), (687, 0.02536135163402249), (688, 0.006946697147011039), (689, 0.010260752973199443), (690, 0.005834469447085479), (691, 0.0), (692, 0.013165323786828793), (693, 0.0), (694, 0.0), (695, 0.00825417509322312), (696, 0.0), (697, 0.06610098590752989), (698, 0.0), (699, 0.0), (700, 0.0), (701, 0.010003581806123357), (702, 0.020437197391178587), (703, 0.0), (704, 0.0), (705, 0.0), (706, 0.0), (707, 0.0), (708, 0.018328206501593156), (709, 0.014875480827218904), (710, 0.0542338925997158), (711, 0.020866519530316423), (712, 0.0), (713, 0.009822677687473011), (714, 0.006345059937564892), (715, 0.02652285145690387), (716, 0.006575878726239973), (717, 0.0), (718, 0.05942036272431112), (719, 0.005037893351893865), (720, 0.0), (721, 0.0), (722, 0.0), (723, 0.032087571102011395), (724, 0.0), (725, 0.005334509725962219), (726, 0.0), (727, 0.006161022864422688), (728, 0.10366156963875639), (729, 0.042267303431983386), (730, 0.0), (731, 0.0), (732, 0.009210288955921174), (733, 0.03558074344064121), (734, 0.0), (735, 0.02425745550152151), (736, 0.0), (737, 0.0), (738, 0.005165945668166224), (739, 0.0), (740, 0.006921293225309637), (741, 0.0), (742, 0.0), (743, 0.0), (744, 0.0), (745, 0.02848226753295035), (746, 0.04620444048133793), (747, 0.024353992864953638), (748, 0.0109479720370931), (749, 0.006274652372176349), (750, 0.022254238226728642), (751, 0.026359544692470354), (752, 0.0), (753, 0.01765748894170167), (754, 0.0), (755, 0.0), (756, 0.04875081305827236), (757, 0.007158361915154488), (758, 0.017902303175880648), (759, 0.009393633347435752), (760, 0.010280526120975145), (761, 0.0), (762, 0.024369481585343442), (763, 0.11135700129535202), (764, 0.0), (765, 0.0), (766, 0.0), (767, 0.0), (768, 0.0), (769, 0.021558145187396748), (770, 0.009529483503465004), (771, 0.0), (772, 0.0), (773, 0.0), (774, 0.053117385840509145), (775, 0.0), (776, 0.01993731149343708), (777, 0.0), (778, 0.022480231888649404), (779, 0.0141797549299174), (780, 0.019632345716631562), (781, 0.0), (782, 0.02736126476227238), (783, 0.0), (784, 0.0), (785, 0.0), (786, 0.0), (787, 0.0), (788, 0.029044439484279254), (789, 0.0), (790, 0.008685833481164447), (791, 0.011083632864548963), (792, 0.009532660561576272), (793, 0.006512536006842612), (794, 0.03274171244193023), (795, 0.028595825371966418), (796, 0.0), (797, 0.11708710909086502), (798, 0.0), (799, 0.00873615596896811), (800, 0.005636474292825726), (801, 0.008208980149983783), (802, 0.03519061618736251), (803, 0.005604739271154081), (804, 0.00564016965547424), (805, 0.009540713793839781), (806, 0.04189280495596709), (807, 0.0), (808, 0.0), (809, 0.01702999979809181), (810, 0.0), (811, 0.010459989383480124), (812, 0.057657540412017365), (813, 0.0), (814, 0.0), (815, 0.0), (816, 0.007293909623603766), (817, 0.0), (818, 0.019493718225058326), (819, 0.0), (820, 0.009113705934490086), (821, 0.005743106356911282), (822, 0.0), (823, 0.0), (824, 0.007184658848175258), (825, 0.014773438952832788), (826, 0.006687841510778695), (827, 0.03130328473995315), (828, 0.008465516147885797), (829, 0.02455132978292669), (830, 0.0), (831, 0.02012948809971209), (832, 0.0), (833, 0.008386906536412055), (834, 0.0), (835, 0.0), (836, 0.0), (837, 0.0), (838, 0.0), (839, 0.0), (840, 0.0), (841, 0.044595666008568444), (842, 0.026293192240012076), (843, 0.0), (844, 0.0), (845, 0.025162824831426303), (846, 0.01056450630593545), (847, 0.0), (848, 0.03464479938091417), (849, 0.006266746324646423), (850, 0.0), (851, 0.013344173363445361), (852, 0.0), (853, 0.006928873406514163), (854, 0.005984637743370329), (855, 0.034593423558841103), (856, 0.011194974469111886), (857, 0.0), (858, 0.0), (859, 0.0097525803945791), (860, 0.010383216152727944), (861, 0.0), (862, 0.01679539024814725), (863, 0.016238231804139955), (864, 0.009055363645632425), (865, 0.0), (866, 0.01416072780357034), (867, 0.0), (868, 0.015401520316737876), (869, 0.015617740401615371), (870, 0.008762780644008138), (871, 0.04627909494886929), (872, 0.030098713439354642), (873, 0.0), (874, 0.007728233258999147), (875, 0.01671832292245565), (876, 0.041506583429802416), (877, 0.017468803986099395), (878, 0.05401004812636277), (879, 0.009349454647281041), (880, 0.0), (881, 0.032300680270724996), (882, 0.0), (883, 0.00985564792987025), (884, 0.010734228743311178), (885, 0.0), (886, 0.0), (887, 0.0), (888, 0.021366840255041517), (889, 0.02286233090631766), (890, 0.01852721172273967), (891, 0.04048344208903952), (892, 0.0), (893, 0.009303409703065004), (894, 0.008877377429687278), (895, 0.0), (896, 0.009789851369229404), (897, 0.01039580627110371), (898, 0.03397965708215079), (899, 0.0), (900, 0.0), (901, 0.0), (902, 0.028840441490537955), (903, 0.02047596736232881), (904, 0.030075950753102133), (905, 0.017620661311289934), (906, 0.0), (907, 0.0), (908, 0.015561312930500618), (909, 0.0), (910, 0.0), (911, 0.005940931639516493), (912, 0.019208283463646354), (913, 0.07133373311540893), (914, 0.0), (915, 0.01465750328702764), (916, 0.008303757241922964), (917, 0.0), (918, 0.038369491385790516), (919, 0.006372671689367658), (920, 0.0), (921, 0.0), (922, 0.0), (923, 0.00993582943684255), (924, 0.0), (925, 0.0), (926, 0.0), (927, 0.0), (928, 0.045651424331785914), (929, 0.004523593341901792), (930, 0.0), (931, 0.036339088711269014), (932, 0.019527025929678952), (933, 0.0), (934, 0.0), (935, 0.0), (936, 0.0), (937, 0.010470022311689722), (938, 0.010341799650226058), (939, 0.008452663405111355), (940, 0.0), (941, 0.0), (942, 0.007285449475367418), (943, 0.0), (944, 0.0), (945, 0.006349658286590089), (946, 0.006240324856950581), (947, 0.02054750854841582), (948, 0.019179505436902257), (949, 0.0), (950, 0.0), (951, 0.0), (952, 0.04281644335720279), (953, 0.0), (954, 0.005604548975561525), (955, 0.0), (956, 0.006870519111819339), (957, 0.04112804783546922), (958, 0.0), (959, 0.04595729385878367), (960, 0.018853458278535604), (961, 0.018379802015407357), (962, 0.0), (963, 0.035924860196647576), (964, 0.0), (965, 0.0062571695696619425), (966, 0.00592082194060718), (967, 0.0), (968, 0.0), (969, 0.0), (970, 0.0), (971, 0.0), (972, 0.0), (973, 0.0), (974, 0.005870345274803467), (975, 0.0), (976, 0.009445480302475147), (977, 0.03508114678544641), (978, 0.0), (979, 0.0), (980, 0.010663239306162206), (981, 0.034599742688714755), (982, 0.0), (983, 0.0), (984, 0.00981391528107429), (985, 0.0), (986, 0.015220816649594389), (987, 0.0), (988, 0.019148913981536855), (989, 0.008814369808454984), (990, 0.006888681424735802), (991, 0.0), (992, 0.03007800860822024), (993, 0.0), (994, 0.03644965813948352), (995, 0.01740275626807239), (996, 0.008848807225661592), (997, 0.03456473740404492), (998, 0.0), (999, 0.0), (1000, 0.01370066383283779), (1001, 0.005976633140194011), (1002, 0.033851879756045374), (1003, 0.040485759485538335), (1004, 0.0), (1005, 0.011642878790864702), (1006, 0.0), (1007, 0.006601679616021738), (1008, 0.0), (1009, 0.0), (1010, 0.005303853248317469), (1011, 0.03175155923968325), (1012, 0.006212149841844234), (1013, 0.02308123612528718), (1014, 0.03257303241006139), (1015, 0.14958090783032435), (1016, 0.0), (1017, 0.055580711251450324), (1018, 0.007814720561307218), (1019, 0.0), (1020, 0.0), (1021, 0.03458795303990278), (1022, 0.10115741407535944), (1023, 0.02701742254463327), (1024, 0.015865079973683974), (1025, 0.0), (1026, 0.0), (1027, 0.0), (1028, 0.0), (1029, 0.0), (1030, 0.009987093162039535), (1031, 0.07307436674697546), (1032, 0.0), (1033, 0.0), (1034, 0.033253595307102576), (1035, 0.014797942168614096), (1036, 0.02689268863904396), (1037, 0.0), (1038, 0.0), (1039, 0.031568160067234674), (1040, 0.0), (1041, 0.009684628045092823), (1042, 0.008616877416658758), (1043, 0.0), (1044, 0.053979856065043796), (1045, 0.0064301762814159185), (1046, 0.02387981662762695), (1047, 0.020086398983990235), (1048, 0.0), (1049, 0.0), (1050, 0.016424175269272246), (1051, 0.0), (1052, 0.0), (1053, 0.010540538447929512), (1054, 0.01438347369515381), (1055, 0.019945952172867543), (1056, 0.0932942029513594), (1057, 0.030167561963845124), (1058, 0.010984121109176324), (1059, 0.0), (1060, 0.0), (1061, 0.008067805264649121), (1062, 0.0), (1063, 0.014717596651701033), (1064, 0.010857236655035794), (1065, 0.00573155829598921), (1066, 0.025893991769463158), (1067, 0.009840293089138374), (1068, 0.008287648678058743), (1069, 0.03598352686917779), (1070, 0.0), (1071, 0.0), (1072, 0.0), (1073, 0.016889010006442363), (1074, 0.03719043652808571), (1075, 0.0), (1076, 0.014683190395685568), (1077, 0.0), (1078, 0.007463034289537069), (1079, 0.0), (1080, 0.0), (1081, 0.0), (1082, 0.04505936698611955), (1083, 0.022727884139986346), (1084, 0.048159046553130844), (1085, 0.0), (1086, 0.0), (1087, 0.0), (1088, 0.0), (1089, 0.0), (1090, 0.0), (1091, 0.07524300119225831), (1092, 0.012696292084360423), (1093, 0.0), (1094, 0.0), (1095, 0.01952147106120054), (1096, 0.006100708466437078), (1097, 0.02142269526908124), (1098, 0.0), (1099, 0.006649485727354537), (1100, 0.0), (1101, 0.022203157714009075), (1102, 0.00622372587034946), (1103, 0.0), (1104, 0.009432462324358822), (1105, 0.010470535005031804), (1106, 0.0), (1107, 0.008337906169746003), (1108, 0.028686797549324773), (1109, 0.0), (1110, 0.02802717828531643), (1111, 0.028730289417298886), (1112, 0.0), (1113, 0.006053671526531679), (1114, 0.009502920561065772), (1115, 0.0763036636523532), (1116, 0.00949382386230329), (1117, 0.0), (1118, 0.0), (1119, 0.009567958672789421), (1120, 0.01862355734688763), (1121, 0.0), (1122, 0.0707659873950611), (1123, 0.0), (1124, 0.010696475121200918), (1125, 0.00861159764303313), (1126, 0.0), (1127, 0.006172093125185075), (1128, 0.008781124986234163), (1129, 0.04589681240291004), (1130, 0.0), (1131, 0.0), (1132, 0.017033506191638896), (1133, 0.0), (1134, 0.034642625693208196), (1135, 0.08918770064686063), (1136, 0.0), (1137, 0.05684659692935755), (1138, 0.006343435974332906), (1139, 0.07702804060485015), (1140, 0.02338901954987067), (1141, 0.0162784884664249), (1142, 0.0), (1143, 0.05450763456583187), (1144, 0.0), (1145, 0.0), (1146, 0.021121095923747515), (1147, 0.0), (1148, 0.030175493322148382), (1149, 0.0), (1150, 0.030324487397545258), (1151, 0.0281914013836452), (1152, 0.0), (1153, 0.00439676115374947), (1154, 0.03479488367756849), (1155, 0.0), (1156, 0.0), (1157, 0.0), (1158, 0.0), (1159, 0.0), (1160, 0.008506004924521526), (1161, 0.0), (1162, 0.016618405288942956), (1163, 0.010299156768904768), (1164, 0.0228609955166941), (1165, 0.0), (1166, 0.0), (1167, 0.0), (1168, 0.046629490809950346), (1169, 0.0), (1170, 0.04099302116943208), (1171, 0.019787164602377002), (1172, 0.024064594425638373), (1173, 0.013784813669146325), (1174, 0.006410725941819193), (1175, 0.0), (1176, 0.0), (1177, 0.0), (1178, 0.0), (1179, 0.016585923320322337), (1180, 0.0), (1181, 0.0), (1182, 0.0), (1183, 0.05046342573177438), (1184, 0.02199394477460693), (1185, 0.026917916318223017), (1186, 0.00905925256890232), (1187, 0.02087159201158442), (1188, 0.03179959011102484), (1189, 0.0), (1190, 0.0), (1191, 0.0), (1192, 0.049573215804158514), (1193, 0.0), (1194, 0.007829734487283585), (1195, 0.02264302538177242), (1196, 0.0), (1197, 0.018972382934655613), (1198, 0.0), (1199, 0.009101389916436943), (1200, 0.0), (1201, 0.0), (1202, 0.0), (1203, 0.0), (1204, 0.0), (1205, 0.02324250387505481), (1206, 0.016606506365034617), (1207, 0.09968789683006125), (1208, 0.0), (1209, 0.0), (1210, 0.0045599282700511), (1211, 0.0), (1212, 0.02425449763775244), (1213, 0.007872180208475318), (1214, 0.012772688766054256), (1215, 0.0), (1216, 0.025856232619215387), (1217, 0.0), (1218, 0.00984253628832145), (1219, 0.0), (1220, 0.0), (1221, 0.0), (1222, 0.0), (1223, 0.0), (1224, 0.09252023713497708), (1225, 0.006615422381508684), (1226, 0.015079083232505223), (1227, 0.0), (1228, 0.0), (1229, 0.00654676923074493), (1230, 0.035587419328488974), (1231, 0.008587434981678145), (1232, 0.04090789134738138), (1233, 0.0879818837328816), (1234, 0.02041505071635189), (1235, 0.0), (1236, 0.017532805199571427), (1237, 0.0368502279335), (1238, 0.0), (1239, 0.0), (1240, 0.050321710953824345), (1241, 0.013636805606095398), (1242, 0.0), (1243, 0.0), (1244, 0.01711044496197336), (1245, 0.021174269315112453), (1246, 0.011145841703546513), (1247, 0.009965141879162765), (1248, 0.008610160007562012), (1249, 0.042695072734371106), (1250, 0.022264132659217728), (1251, 0.025231673502115286), (1252, 0.04224125972366588), (1253, 0.00618336938660352), (1254, 0.0064269314113786094), (1255, 0.0), (1256, 0.03036631956912448), (1257, 0.006179382494900314), (1258, 0.007586099803493977), (1259, 0.039589329938298404), (1260, 0.009996557030560613), (1261, 0.0), (1262, 0.02804004968538664), (1263, 0.006183935177946611), (1264, 0.010794872643669396), (1265, 0.04177019105535988), (1266, 0.006397666960244356), (1267, 0.04573943556947603), (1268, 0.0), (1269, 0.028069650037863908), (1270, 0.0), (1271, 0.042612411482777654), (1272, 0.0), (1273, 0.005968112580917803), (1274, 0.005955356579242649), (1275, 0.01034032485167794), (1276, 0.011361573158312377), (1277, 0.0), (1278, 0.0), (1279, 0.0), (1280, 0.02993813135336433), (1281, 0.035630095119390574), (1282, 0.009580619424748428), (1283, 0.005514703312940549), (1284, 0.02733630919274354), (1285, 0.026916980547165327), (1286, 0.0), (1287, 0.0), (1288, 0.009387360724657895), (1289, 0.0), (1290, 0.021434202714639475), (1291, 0.0), (1292, 0.01497918550101567), (1293, 0.0060274023556782805), (1294, 0.0), (1295, 0.021629978515143252), (1296, 0.052309084733671046), (1297, 0.0), (1298, 0.0), (1299, 0.0), (1300, 0.016301731024395832), (1301, 0.01449228763896431), (1302, 0.006360178116006729), (1303, 0.007225332275211204), (1304, 0.02852321492732952), (1305, 0.0226540790806915), (1306, 0.007521189212389149), (1307, 0.0), (1308, 0.0), (1309, 0.005366949060389841), (1310, 0.005659789768990725), (1311, 0.0), (1312, 0.008706780373125144), (1313, 0.0), (1314, 0.014984419432963657), (1315, 0.027347085447642874), (1316, 0.0), (1317, 0.007260890648407011), (1318, 0.0), (1319, 0.0), (1320, 0.011957493931312624), (1321, 0.007217126859810745), (1322, 0.0), (1323, 0.0), (1324, 0.006689184330094697), (1325, 0.009713269626692533), (1326, 0.005119127514368882), (1327, 0.0), (1328, 0.006612882012949376), (1329, 0.0), (1330, 0.008797125932583449), (1331, 0.0), (1332, 0.018482106291609655), (1333, 0.0), (1334, 0.037329795009206766), (1335, 0.03622426059756259), (1336, 0.0), (1337, 0.015544801683570851), (1338, 0.03527696190680795), (1339, 0.009525411021987042), (1340, 0.02421510494807414), (1341, 0.031543131561626955), (1342, 0.0), (1343, 0.010653185032784266), (1344, 0.015589325471708538), (1345, 0.0), (1346, 0.00630670772654924), (1347, 0.0), (1348, 0.013268198712750909), (1349, 0.03087576333329646), (1350, 0.006108387052964874), (1351, 0.02831832493014786), (1352, 0.005326725642748702), (1353, 0.0), (1354, 0.025935810824405634), (1355, 0.0), (1356, 0.0), (1357, 0.0057789141877972235), (1358, 0.027708929887010743), (1359, 0.05164433864624246), (1360, 0.008156093672771788), (1361, 0.02218913828017566), (1362, 0.0), (1363, 0.016859258669214647), (1364, 0.010713086863532405), (1365, 0.0), (1366, 0.005656611408488104), (1367, 0.0), (1368, 0.006050395624002394), (1369, 0.044497787816557194), (1370, 0.0), (1371, 0.021415537203697835), (1372, 0.009678293411453385), (1373, 0.0), (1374, 0.016600214535080978), (1375, 0.009806068159289754), (1376, 0.0), (1377, 0.01228754651905772), (1378, 0.0), (1379, 0.005435316633478375), (1380, 0.01749448808439887), (1381, 0.03226359010178276), (1382, 0.0), (1383, 0.011646508736732833), (1384, 0.00558115523653935), (1385, 0.015251601450245754), (1386, 0.006375347552354271), (1387, 0.04230758880785027), (1388, 0.009000582662675883), (1389, 0.0), (1390, 0.0), (1391, 0.0), (1392, 0.0), (1393, 0.034647118637951876), (1394, 0.0), (1395, 0.0), (1396, 0.02940205572711569), (1397, 0.0), (1398, 0.0072592806771514294), (1399, 0.0), (1400, 0.018725752280410617), (1401, 0.0), (1402, 0.0), (1403, 0.0), (1404, 0.0), (1405, 0.0), (1406, 0.01488725095150928), (1407, 0.0), (1408, 0.010048362155970464), (1409, 0.040353681852611276), (1410, 0.0), (1411, 0.0), (1412, 0.014498493022502178), (1413, 0.02853332385306801), (1414, 0.009204340136390952), (1415, 0.0), (1416, 0.0), (1417, 0.011890367586767987), (1418, 0.004820193368493592), (1419, 0.0152505947104408), (1420, 0.0), (1421, 0.00994626919214926), (1422, 0.0), (1423, 0.0), (1424, 0.0), (1425, 0.0), (1426, 0.0), (1427, 0.0), (1428, 0.0), (1429, 0.0), (1430, 0.04262978395990284), (1431, 0.0), (1432, 0.015866890876885857), (1433, 0.02032245857171104), (1434, 0.0), (1435, 0.010548090213229732), (1436, 0.03491305609281346), (1437, 0.027235353580538725), (1438, 0.008874999342670508), (1439, 0.0), (1440, 0.015467597751012734), (1441, 0.0), (1442, 0.006208259209573595), (1443, 0.039106565667027346), (1444, 0.056746319207240964), (1445, 0.0), (1446, 0.029033397600522697), (1447, 0.0), (1448, 0.0), (1449, 0.0), (1450, 0.0), (1451, 0.0), (1452, 0.03202335844915922), (1453, 0.0), (1454, 0.04163266981253596), (1455, 0.01521393453866887), (1456, 0.016488805072509993), (1457, 0.0), (1458, 0.028500373095282278), (1459, 0.006172569911576954), (1460, 0.026608445601671797), (1461, 0.009061833914924267), (1462, 0.0), (1463, 0.009947552009259826), (1464, 0.0), (1465, 0.03521164866510775), (1466, 0.019337983889075882), (1467, 0.022117848176206347), (1468, 0.02492078619486405), (1469, 0.02910582799756124), (1470, 0.006490847157099587), (1471, 0.01894672082935503), (1472, 0.0), (1473, 0.03517134176852798), (1474, 0.011506019626931985), (1475, 0.0), (1476, 0.0), (1477, 0.020148109948044005), (1478, 0.014586534057401195), (1479, 0.019483882774469725), (1480, 0.04397837766141798), (1481, 0.00867356324611902), (1482, 0.0), (1483, 0.025351612621386854), (1484, 0.006633337094295975), (1485, 0.016027330110722837), (1486, 0.03096267547677308), (1487, 0.009782027786552152), (1488, 0.0), (1489, 0.03203987658968915), (1490, 0.0), (1491, 0.0), (1492, 0.0), (1493, 0.0), (1494, 0.0), (1495, 0.010496661793030548), (1496, 0.0), (1497, 0.0), (1498, 0.011470304404768551), (1499, 0.0), (1500, 0.0), (1501, 0.02060856085153621), (1502, 0.04058507202928696), (1503, 0.06619947004786592), (1504, 0.01508655537047552), (1505, 0.021907337394440025), (1506, 0.012273988252916788), (1507, 0.010262344388116853), (1508, 0.0), (1509, 0.034094991527248035), (1510, 0.006330684412632792), (1511, 0.006809446166657027), (1512, 0.006311729979333882), (1513, 0.015867679102001032), (1514, 0.0), (1515, 0.02829818351960833), (1516, 0.006458144231846477), (1517, 0.0), (1518, 0.011111790654267657), (1519, 0.009540756438003223), (1520, 0.0), (1521, 0.0), (1522, 0.006332398479607199), (1523, 0.0), (1524, 0.0), (1525, 0.0), (1526, 0.0), (1527, 0.01490756724199888), (1528, 0.0), (1529, 0.0), (1530, 0.02302458690201561), (1531, 0.0), (1532, 0.0), (1533, 0.0), (1534, 0.04226813837275523), (1535, 0.04725486511500888), (1536, 0.03855511313975472), (1537, 0.00671380078901773), (1538, 0.0), (1539, 0.0), (1540, 0.017794092738881676), (1541, 0.0), (1542, 0.009278351192338781), (1543, 0.0), (1544, 0.014622287044573145), (1545, 0.006013370661081927), (1546, 0.024186696585339673), (1547, 0.007303642726371975), (1548, 0.007937729978464774), (1549, 0.0), (1550, 0.0), (1551, 0.0), (1552, 0.00599559164583932), (1553, 0.0), (1554, 0.07370779563939285), (1555, 0.0), (1556, 0.0), (1557, 0.0), (1558, 0.0), (1559, 0.0), (1560, 0.027084947633675426), (1561, 0.0), (1562, 0.0), (1563, 0.01929989801782429), (1564, 0.006422434209774533), (1565, 0.0), (1566, 0.028137563871421575), (1567, 0.013798311236271569), (1568, 0.0), (1569, 0.0), (1570, 0.006594914445857829), (1571, 0.008529997674940249), (1572, 0.02574349708728844), (1573, 0.0), (1574, 0.0), (1575, 0.0233888058975265), (1576, 0.0050228132353324), (1577, 0.01673303313340316), (1578, 0.0), (1579, 0.026427215587862266), (1580, 0.0), (1581, 0.0), (1582, 0.008603472258103722), (1583, 0.0), (1584, 0.019949008915806428), (1585, 0.00917040203692241), (1586, 0.0), (1587, 0.0063832226800836405), (1588, 0.0), (1589, 0.0), (1590, 0.028567988981673717), (1591, 0.01764143131144209), (1592, 0.027267362752918464), (1593, 0.0), (1594, 0.0), (1595, 0.00810994566087282), (1596, 0.0), (1597, 0.03740558167309581), (1598, 0.0), (1599, 0.006349134878702427), (1600, 0.0), (1601, 0.0), (1602, 0.0), (1603, 0.006580810163299806), (1604, 0.006217422575014369), (1605, 0.0), (1606, 0.0), (1607, 0.0), (1608, 0.028388369130465253), (1609, 0.0), (1610, 0.0), (1611, 0.006337312114703904), (1612, 0.0), (1613, 0.02272128054200999), (1614, 0.0), (1615, 0.0), (1616, 0.0), (1617, 0.010072421049508774), (1618, 0.0), (1619, 0.0), (1620, 0.008379572086132622), (1621, 0.00883450503064458), (1622, 0.01746251828111191), (1623, 0.0), (1624, 0.0), (1625, 0.0), (1626, 0.0), (1627, 0.020545635794920504), (1628, 0.0), (1629, 0.019900591008958732), (1630, 0.00850317439445658), (1631, 0.026642777040560513), (1632, 0.0), (1633, 0.0), (1634, 0.0), (1635, 0.0), (1636, 0.0), (1637, 0.011067013102405869), (1638, 0.0), (1639, 0.0), (1640, 0.019186825495514884), (1641, 0.032200239733709425), (1642, 0.0), (1643, 0.0), (1644, 0.0), (1645, 0.02716074832357336), (1646, 0.0), (1647, 0.040197681602798505), (1648, 0.0), (1649, 0.026202120351580618), (1650, 0.0), (1651, 0.0312031450792832), (1652, 0.0), (1653, 0.03747802621829639), (1654, 0.016956850077967087), (1655, 0.0), (1656, 0.0), (1657, 0.025392220358871075), (1658, 0.0), (1659, 0.017681120469489185), (1660, 0.02979205542327191), (1661, 0.0), (1662, 0.020359082069166253), (1663, 0.0), (1664, 0.020688405652811156), (1665, 0.014262270852083165), (1666, 0.0), (1667, 0.008259041477070381), (1668, 0.0), (1669, 0.012694660177884854), (1670, 0.0), (1671, 0.01735262893067334), (1672, 0.0), (1673, 0.0), (1674, 0.009775793868836487), (1675, 0.015111822347183985), (1676, 0.0), (1677, 0.017185603719042625), (1678, 0.06679608932364907), (1679, 0.0), (1680, 0.023204224331423814), (1681, 0.04755361210113936), (1682, 0.0), (1683, 0.0), (1684, 0.0), (1685, 0.036738480499813014), (1686, 0.018161528222826677), (1687, 0.016150464936624233), (1688, 0.0), (1689, 0.0), (1690, 0.0), (1691, 0.0), (1692, 0.006204570733331114), (1693, 0.0), (1694, 0.00795663817191806), (1695, 0.0), (1696, 0.04498936868424568), (1697, 0.0), (1698, 0.008911803768067899), (1699, 0.0), (1700, 0.0), (1701, 0.01724910311774659), (1702, 0.0), (1703, 0.05900394806340293), (1704, 0.0), (1705, 0.01631143106476083), (1706, 0.0), (1707, 0.03410150441184549), (1708, 0.0392755190828156), (1709, 0.011757439840455252), (1710, 0.0), (1711, 0.051348483820652185), (1712, 0.0), (1713, 0.007120762667721926), (1714, 0.005733321773733562), (1715, 0.0), (1716, 0.04611912513352802), (1717, 0.0), (1718, 0.0), (1719, 0.02793404029907596), (1720, 0.0), (1721, 0.022639478080942983), (1722, 0.017939008346759936), (1723, 0.0), (1724, 0.011108961351819139), (1725, 0.0), (1726, 0.0), (1727, 0.01583757496020259), (1728, 0.004844170222474163), (1729, 0.02759423417251562), (1730, 0.0), (1731, 0.0), (1732, 0.048528938023141184), (1733, 0.0), (1734, 0.0065707137468435295), (1735, 0.015708706122729996), (1736, 0.01594622677762211), (1737, 0.0), (1738, 0.00850744695167166), (1739, 0.008057781751591471), (1740, 0.01553863831235218), (1741, 0.0), (1742, 0.06849794274204517), (1743, 0.0), (1744, 0.016946982161849127), (1745, 0.02406424210159356), (1746, 0.0), (1747, 0.0), (1748, 0.0), (1749, 0.071724536864036), (1750, 0.019521898925851024), (1751, 0.006344581648204913), (1752, 0.0), (1753, 0.0), (1754, 0.009871971143385), (1755, 0.0), (1756, 0.020599119714026108), (1757, 0.0), (1758, 0.0), (1759, 0.0), (1760, 0.0), (1761, 0.0), (1762, 0.0), (1763, 0.0), (1764, 0.005435675162827598), (1765, 0.0), (1766, 0.0), (1767, 0.0), (1768, 0.0), (1769, 0.0), (1770, 0.006742869552908201), (1771, 0.0), (1772, 0.02439717186020167), (1773, 0.0), (1774, 0.006842534590243061), (1775, 0.0185363778607723), (1776, 0.007892282981617456), (1777, 0.0), (1778, 0.01654649617460943), (1779, 0.0), (1780, 0.0), (1781, 0.01296074188441081), (1782, 0.009436355469444949), (1783, 0.11283517785513135), (1784, 0.0), (1785, 0.0), (1786, 0.011347336893178264), (1787, 0.0), (1788, 0.005896785112721168), (1789, 0.014065845451530112), (1790, 0.0), (1791, 0.055519041226079105), (1792, 0.0), (1793, 0.02964868552614427), (1794, 0.0), (1795, 0.0), (1796, 0.02331180676242154), (1797, 0.013354212757398959), (1798, 0.04722577180003453), (1799, 0.05024921103644295), (1800, 0.0), (1801, 0.0), (1802, 0.03273409369321135), (1803, 0.03308691615188599), (1804, 0.010348656009714506), (1805, 0.023140711142888067), (1806, 0.029177677759713007), (1807, 0.0881217582070819), (1808, 0.0501475870465425), (1809, 0.005667299532578099), (1810, 0.030748062253235786), (1811, 0.0), (1812, 0.006698813845272125), (1813, 0.0), (1814, 0.0), (1815, 0.06619433255712412), (1816, 0.024091685607448964), (1817, 0.0), (1818, 0.005942439111458728), (1819, 0.0), (1820, 0.0), (1821, 0.020230650602908073), (1822, 0.006619677090824539), (1823, 0.005801974020669018), (1824, 0.0), (1825, 0.0), (1826, 0.0), (1827, 0.009329783612470579), (1828, 0.005410908701698193), (1829, 0.030567191379219323), (1830, 0.0), (1831, 0.010201272122107976), (1832, 0.009152537775097173), (1833, 0.0), (1834, 0.0), (1835, 0.010825387490317504), (1836, 0.024253676982666107), (1837, 0.0), (1838, 0.0), (1839, 0.0), (1840, 0.018774550253209267), (1841, 0.006522195632991332), (1842, 0.0), (1843, 0.0), (1844, 0.0), (1845, 0.0), (1846, 0.006108803919095716), (1847, 0.01572699199567173), (1848, 0.0), (1849, 0.0), (1850, 0.0), (1851, 0.0), (1852, 0.0), (1853, 0.03492682132334701), (1854, 0.04170946497423665), (1855, 0.0), (1856, 0.0), (1857, 0.0), (1858, 0.010027557631206965), (1859, 0.0), (1860, 0.010610503250393213), (1861, 0.006792783377302312), (1862, 0.0), (1863, 0.038301947981362966), (1864, 0.030933497844503458), (1865, 0.02869739365146812), (1866, 0.0), (1867, 0.0), (1868, 0.0), (1869, 0.0), (1870, 0.0056047851313765), (1871, 0.01642346799567328), (1872, 0.0), (1873, 0.0), (1874, 0.009684866516402772), (1875, 0.0), (1876, 0.006306906912911882), (1877, 0.0), (1878, 0.0), (1879, 0.0), (1880, 0.0), (1881, 0.006558958094928771), (1882, 0.0), (1883, 0.023507993331810206), (1884, 0.0), (1885, 0.0), (1886, 0.004984233351088923), (1887, 0.0), (1888, 0.0), (1889, 0.0), (1890, 0.0), (1891, 0.0), (1892, 0.0), (1893, 0.0), (1894, 0.006795362401245833), (1895, 0.005907290458064031), (1896, 0.045112489931104116), (1897, 0.0), (1898, 0.00586363483346987), (1899, 0.0), (1900, 0.0), (1901, 0.006426784814615519), (1902, 0.010844595813302388), (1903, 0.020434062326045447), (1904, 0.029732859314485445), (1905, 0.0), (1906, 0.0), (1907, 0.03261148520573688), (1908, 0.03233236996111251), (1909, 0.0), (1910, 0.0), (1911, 0.022684470531167702), (1912, 0.026235561421918865), (1913, 0.0), (1914, 0.0), (1915, 0.0), (1916, 0.0), (1917, 0.0), (1918, 0.01089799540467228), (1919, 0.0), (1920, 0.0), (1921, 0.0), (1922, 0.009046473080076604), (1923, 0.009952660534362234), (1924, 0.011786969000721861), (1925, 0.019069068385183272), (1926, 0.0), (1927, 0.0), (1928, 0.01166414703243603), (1929, 0.0), (1930, 0.027701303918707683), (1931, 0.006407069306735442), (1932, 0.0), (1933, 0.026710981353555218), (1934, 0.030067082385477582), (1935, 0.0), (1936, 0.006409111302055202), (1937, 0.023764755305582787), (1938, 0.0), (1939, 0.06717876586562635), (1940, 0.0), (1941, 0.007505487889011992), (1942, 0.009117444717862735), (1943, 0.035640503507746626), (1944, 0.0), (1945, 0.02574373421874241), (1946, 0.0), (1947, 0.0), (1948, 0.0475434716399102), (1949, 0.026487985983334933), (1950, 0.0), (1951, 0.01884771634631689), (1952, 0.0), (1953, 0.0), (1954, 0.0), (1955, 0.0), (1956, 0.0), (1957, 0.0), (1958, 0.00914725578218523), (1959, 0.0), (1960, 0.0), (1961, 0.0), (1962, 0.0), (1963, 0.0), (1964, 0.0), (1965, 0.0), (1966, 0.021225687541911613), (1967, 0.02875189886596643), (1968, 0.007364322349960684), (1969, 0.0), (1970, 0.009130636005543594), (1971, 0.012910991500408862), (1972, 0.0), (1973, 0.014329384432294992), (1974, 0.00942879670282506), (1975, 0.0), (1976, 0.031407348099885074), (1977, 0.0055832908567263724), (1978, 0.0), (1979, 0.02787683131976192), (1980, 0.046593190301451065), (1981, 0.007483895083730022), (1982, 0.02575182253514927), (1983, 0.009333311551659338), (1984, 0.020077111113153863), (1985, 0.05462964665990511), (1986, 0.01906633555264564), (1987, 0.013982343489886619), (1988, 0.0), (1989, 0.0071978078286641), (1990, 0.0), (1991, 0.02215968410524618), (1992, 0.00837219604465863), (1993, 0.028926664911645382), (1994, 0.009179947395090534), (1995, 0.0), (1996, 0.009913454688695223), (1997, 0.041891735027272524), (1998, 0.0), (1999, 0.0), (2000, 0.008221768357899268), (2001, 0.0), (2002, 0.0), (2003, 0.0), (2004, 0.0), (2005, 0.0), (2006, 0.0), (2007, 0.0), (2008, 0.0), (2009, 0.0), (2010, 0.004952206666231438), (2011, 0.0), (2012, 0.007211650324932085), (2013, 0.013216598429667728), (2014, 0.016498596877052695), (2015, 0.0065480184894798794), (2016, 0.0454140308706657), (2017, 0.0), (2018, 0.017817327258789168), (2019, 0.0), (2020, 0.005349022681516377), (2021, 0.03722047026577049), (2022, 0.0), (2023, 0.026593901982443463), (2024, 0.04189113738428955), (2025, 0.00517294015976879), (2026, 0.008954437631306012), (2027, 0.0), (2028, 0.0), (2029, 0.008749123538142336), (2030, 0.0), (2031, 0.0), (2032, 0.020817051703793304), (2033, 0.005704052679393618), (2034, 0.0051664114563460236), (2035, 0.0), (2036, 0.0), (2037, 0.009766279338310915), (2038, 0.04066951266344828), (2039, 0.017357208564316596), (2040, 0.016828259883753763), (2041, 0.0), (2042, 0.0), (2043, 0.0), (2044, 0.00666096552897253), (2045, 0.0063729662196477885), (2046, 0.01030447953356708), (2047, 0.009117071156296803), (2048, 0.0), (2049, 0.03340057122471354), (2050, 0.0), (2051, 0.0), (2052, 0.0058482086379915525), (2053, 0.009252095099577078), (2054, 0.0), (2055, 0.013805560425080111), (2056, 0.0), (2057, 0.008690834596775315), (2058, 0.025371463183725212), (2059, 0.0), (2060, 0.048896088432360665), (2061, 0.028476270399033204), (2062, 0.021151374948202985), (2063, 0.0), (2064, 0.0), (2065, 0.04210503879995485), (2066, 0.017135753438457118), (2067, 0.04716692020457089), (2068, 0.0), (2069, 0.028015229441297616), (2070, 0.007665236679667049), (2071, 0.0), (2072, 0.010690928441765205), (2073, 0.0), (2074, 0.009108294997591679), (2075, 0.008216737610859585), (2076, 0.022540738573213103), (2077, 0.0185768777383942), (2078, 0.022360045439838234), (2079, 0.0), (2080, 0.008658478680027068), (2081, 0.006277515872434858), (2082, 0.01652500256285945), (2083, 0.006562571789910117), (2084, 0.0), (2085, 0.006533478805042267), (2086, 0.02326519075500016), (2087, 0.0462774480470526), (2088, 0.006570044957805765), (2089, 0.0), (2090, 0.022798041008735684), (2091, 0.028506309675275034), (2092, 0.0), (2093, 0.03191794860017184), (2094, 0.00593412470744036), (2095, 0.009964205518268349), (2096, 0.020548805998636406), (2097, 0.032206603043399736), (2098, 0.0), (2099, 0.04422437291823723), (2100, 0.0), (2101, 0.0), (2102, 0.020172673467300443), (2103, 0.006106127123470865), (2104, 0.0), (2105, 0.03697588069248011), (2106, 0.010665700910549943), (2107, 0.0), (2108, 0.0), (2109, 0.0), (2110, 0.017688641441882914), (2111, 0.0), (2112, 0.009891062841670715), (2113, 0.004907176697660271), (2114, 0.023669462369323758), (2115, 0.0), (2116, 0.0), (2117, 0.006015114336809464), (2118, 0.02415036149141146), (2119, 0.05009653440869275), (2120, 0.0), (2121, 0.0), (2122, 0.0), (2123, 0.0), (2124, 0.043998785818537875), (2125, 0.025713598811620626), (2126, 0.009241943148543676), (2127, 0.005264367416929007), (2128, 0.0), (2129, 0.0), (2130, 0.0), (2131, 0.0), (2132, 0.0), (2133, 0.01680264060661011), (2134, 0.0), (2135, 0.009408599626821848), (2136, 0.0304706552333897), (2137, 0.0), (2138, 0.0), (2139, 0.005885445132665473), (2140, 0.016891320315050237), (2141, 0.0), (2142, 0.0), (2143, 0.033969054093431136), (2144, 0.055281550016164145), (2145, 0.0), (2146, 0.0), (2147, 0.06231839478427234), (2148, 0.0), (2149, 0.0), (2150, 0.006072613123792103), (2151, 0.0), (2152, 0.0), (2153, 0.006305158166367673), (2154, 0.011478824952375767), (2155, 0.0), (2156, 0.0), (2157, 0.00867545994028448), (2158, 0.0581910399350428), (2159, 0.0), (2160, 0.0), (2161, 0.026976829486817424), (2162, 0.06847782818587102), (2163, 0.0), (2164, 0.007018967421840591), (2165, 0.0), (2166, 0.022636108233832462), (2167, 0.009914200338736408), (2168, 0.008828842932674372), (2169, 0.0), (2170, 0.0), (2171, 0.0), (2172, 0.0), (2173, 0.0), (2174, 0.008882840777960298), (2175, 0.0), (2176, 0.0), (2177, 0.053981741632848676), (2178, 0.036063565807075176), (2179, 0.0), (2180, 0.03213811248063073), (2181, 0.007117914481817335), (2182, 0.007044708120280654), (2183, 0.0), (2184, 0.014308843436705049), (2185, 0.005617778545504224), (2186, 0.0), (2187, 0.0), (2188, 0.007653106158819505), (2189, 0.0), (2190, 0.0), (2191, 0.03114120071066648), (2192, 0.017889812337688042), (2193, 0.0), (2194, 0.0), (2195, 0.038728693791379505), (2196, 0.00947681985220723), (2197, 0.0053038003515132595), (2198, 0.0), (2199, 0.0), (2200, 0.0), (2201, 0.0), (2202, 0.016735643662497177), (2203, 0.0), (2204, 0.0), (2205, 0.06433346377465908), (2206, 0.014559798805021137), (2207, 0.00944562309759619), (2208, 0.006646373005460523), (2209, 0.06745848167641366), (2210, 0.024598743854610236), (2211, 0.017290099382913246), (2212, 0.015199422566671408), (2213, 0.0), (2214, 0.00974370307329839), (2215, 0.0), (2216, 0.0087828113884257), (2217, 0.029432988410587106), (2218, 0.03046432654878499), (2219, 0.04332874073080092), (2220, 0.0), (2221, 0.018159869731253567), (2222, 0.0), (2223, 0.0), (2224, 0.014454178431128083), (2225, 0.0), (2226, 0.0), (2227, 0.005210780597354066), (2228, 0.011598593207628379), (2229, 0.021068616053557417), (2230, 0.010595757901933713), (2231, 0.0), (2232, 0.02746744235889345), (2233, 0.03085351428727797), (2234, 0.0), (2235, 0.05478032035820074), (2236, 0.0), (2237, 0.005502600343239598), (2238, 0.006494199979473871), (2239, 0.01618098962462709), (2240, 0.009053981707738114), (2241, 0.02797838451579813), (2242, 0.009806601807249146), (2243, 0.00672629680223925), (2244, 0.0), (2245, 0.0), (2246, 0.010297954378715625), (2247, 0.0), (2248, 0.0), (2249, 0.0), (2250, 0.019237287792540695), (2251, 0.0), (2252, 0.009655589359147445), (2253, 0.0), (2254, 0.009616613153810412), (2255, 0.0), (2256, 0.0), (2257, 0.0), (2258, 0.019263192628044584), (2259, 0.010725628475748924), (2260, 0.0), (2261, 0.0), (2262, 0.0), (2263, 0.03726798284031006), (2264, 0.007961545070337174), (2265, 0.019830525087706108), (2266, 0.0), (2267, 0.0), (2268, 0.0), (2269, 0.025352578853642345), (2270, 0.0), (2271, 0.0), (2272, 0.0), (2273, 0.0), (2274, 0.022115448608716802), (2275, 0.02062799438212383), (2276, 0.024851763233976372), (2277, 0.03895837499976804), (2278, 0.04996078030373186), (2279, 0.00873166562628125), (2280, 0.07459812858451233), (2281, 0.0), (2282, 0.0), (2283, 0.03427365247618309), (2284, 0.009009913337945255), (2285, 0.0), (2286, 0.02791586191204048), (2287, 0.0), (2288, 0.0), (2289, 0.0), (2290, 0.010528443629890505), (2291, 0.0), (2292, 0.0), (2293, 0.02986944818875388), (2294, 0.014330569404034873), (2295, 0.009104041055917703), (2296, 0.005267746833978694), (2297, 0.0), (2298, 0.006188085560422468), (2299, 0.0), (2300, 0.0), (2301, 0.009437746901972254), (2302, 0.0), (2303, 0.0), (2304, 0.010012858573459559), (2305, 0.0), (2306, 0.16556097189777474), (2307, 0.0), (2308, 0.0), (2309, 0.0), (2310, 0.0), (2311, 0.0), (2312, 0.0), (2313, 0.0), (2314, 0.0), (2315, 0.005780009981064493), (2316, 0.016315782486093673), (2317, 0.0), (2318, 0.04860739502115605), (2319, 0.10446761033085039), (2320, 0.0), (2321, 0.019807248029880303), (2322, 0.0), (2323, 0.0), (2324, 0.0), (2325, 0.0), (2326, 0.01715264241652065), (2327, 0.009619314688752025), (2328, 0.0), (2329, 0.046409231261717095), (2330, 0.029725913076387972), (2331, 0.0), (2332, 0.0), (2333, 0.0), (2334, 0.009223888462413739), (2335, 0.0), (2336, 0.008911261460453476), (2337, 0.02312693400858566), (2338, 0.009321533932005655), (2339, 0.0), (2340, 0.027470516538508915), (2341, 0.0), (2342, 0.0), (2343, 0.0), (2344, 0.0), (2345, 0.0), (2346, 0.03038729229821344), (2347, 0.0), (2348, 0.0), (2349, 0.0), (2350, 0.0), (2351, 0.0), (2352, 0.0), (2353, 0.006456400837754182), (2354, 0.0), (2355, 0.01821133322648269), (2356, 0.007010147679659403), (2357, 0.024798619326430894), (2358, 0.0), (2359, 0.017222844701093806), (2360, 0.015699825900858423), (2361, 0.006651527116929325), (2362, 0.0), (2363, 0.01882415842854631), (2364, 0.0), (2365, 0.0), (2366, 0.0), (2367, 0.009876039650067071), (2368, 0.0), (2369, 0.0), (2370, 0.0), (2371, 0.0), (2372, 0.0), (2373, 0.0), (2374, 0.010456242064367134), (2375, 0.01133460597555679), (2376, 0.013865910231870525), (2377, 0.008190092162989736), (2378, 0.007379882158515146), (2379, 0.0), (2380, 0.0), (2381, 0.006991612476653788), (2382, 0.0), (2383, 0.016936858514846397), (2384, 0.01149080564254793), (2385, 0.0), (2386, 0.0), (2387, 0.0), (2388, 0.0), (2389, 0.005593615290055598), (2390, 0.0), (2391, 0.0), (2392, 0.0), (2393, 0.0), (2394, 0.0), (2395, 0.0), (2396, 0.010411111741003861), (2397, 0.0), (2398, 0.0), (2399, 0.005788514313934136), (2400, 0.011669459813645776), (2401, 0.0), (2402, 0.025431540262959587), (2403, 0.0), (2404, 0.0), (2405, 0.0), (2406, 0.04271416737448534), (2407, 0.0), (2408, 0.0), (2409, 0.027157119366776717), (2410, 0.0), (2411, 0.0), (2412, 0.013226390960595311), (2413, 0.029491046608682597), (2414, 0.0), (2415, 0.007609276568867897), (2416, 0.0), (2417, 0.0), (2418, 0.0), (2419, 0.0), (2420, 0.0), (2421, 0.022256549840259075), (2422, 0.0), (2423, 0.0), (2424, 0.013806729758846947), (2425, 0.0), (2426, 0.005652201002139586), (2427, 0.0072840683868684655), (2428, 0.01830652513857607), (2429, 0.03058728869589766), (2430, 0.03523013946346674), (2431, 0.0), (2432, 0.037044798758108205), (2433, 0.005491466237346549), (2434, 0.0), (2435, 0.0), (2436, 0.0), (2437, 0.0), (2438, 0.0), (2439, 0.04905406543209913), (2440, 0.0), (2441, 0.00835472669598276), (2442, 0.06254355526354556), (2443, 0.014345978920343212), (2444, 0.01553766262227859), (2445, 0.0), (2446, 0.0), (2447, 0.01653501418732276), (2448, 0.0), (2449, 0.0), (2450, 0.02030659548359127), (2451, 0.0234609158682134), (2452, 0.0), (2453, 0.010038324895165545), (2454, 0.051349759490656684), (2455, 0.0), (2456, 0.02898368922713576), (2457, 0.0), (2458, 0.0), (2459, 0.007632688320999066), (2460, 0.0), (2461, 0.01000353924700486), (2462, 0.0), (2463, 0.0), (2464, 0.00982844106209087), (2465, 0.0), (2466, 0.0), (2467, 0.029230414553479078), (2468, 0.017797697153594666), (2469, 0.0), (2470, 0.06052117500101421), (2471, 0.021593360155726524), (2472, 0.0), (2473, 0.0), (2474, 0.0), (2475, 0.0), (2476, 0.007130462328524806), (2477, 0.0), (2478, 0.0), (2479, 0.03139521851430011), (2480, 0.0), (2481, 0.0), (2482, 0.0), (2483, 0.0), (2484, 0.0292070634728224), (2485, 0.0), (2486, 0.010231732362785377), (2487, 0.02724638635991248), (2488, 0.0), (2489, 0.009132707615939479), (2490, 0.0), (2491, 0.0), (2492, 0.02757413701007098), (2493, 0.01897513929060806), (2494, 0.0), (2495, 0.0), (2496, 0.020428060828183832), (2497, 0.0), (2498, 0.0), (2499, 0.006667383555450819), (2500, 0.030477290585957568), (2501, 0.0282502125084629), (2502, 0.0), (2503, 0.010230916920330348), (2504, 0.0), (2505, 0.0), (2506, 0.006291244454641494), (2507, 0.0), (2508, 0.0), (2509, 0.0), (2510, 0.0), (2511, 0.0), (2512, 0.008897256306110378), (2513, 0.005815967749138078), (2514, 0.0), (2515, 0.0), (2516, 0.0), (2517, 0.0), (2518, 0.020054395175482707), (2519, 0.009243809448919471), (2520, 0.0), (2521, 0.036603144447886), (2522, 0.016234320456174595), (2523, 0.0), (2524, 0.01553485009641407), (2525, 0.009715259706322628), (2526, 0.0), (2527, 0.018787596575087006), (2528, 0.0), (2529, 0.0), (2530, 0.00797024063816569), (2531, 0.0), (2532, 0.0), (2533, 0.0), (2534, 0.0), (2535, 0.0), (2536, 0.0), (2537, 0.0), (2538, 0.0), (2539, 0.05421966541804503), (2540, 0.005976636147486253), (2541, 0.0), (2542, 0.0), (2543, 0.0), (2544, 0.017983889761973473), (2545, 0.0), (2546, 0.009329129011664855), (2547, 0.07330678191492054), (2548, 0.0), (2549, 0.006351301498436971), (2550, 0.0), (2551, 0.01048312778158411), (2552, 0.009646058322440972), (2553, 0.010058466337584874), (2554, 0.006326115553049586), (2555, 0.03829228248403954), (2556, 0.0), (2557, 0.022032032665784487), (2558, 0.0274062409951909), (2559, 0.008243498951970123), (2560, 0.0), (2561, 0.0), (2562, 0.0), (2563, 0.0), (2564, 0.022069442953935904), (2565, 0.0), (2566, 0.0), (2567, 0.0074414608398070915), (2568, 0.0), (2569, 0.0), (2570, 0.0), (2571, 0.021104595455319963), (2572, 0.0293200055090898), (2573, 0.03760786830138137), (2574, 0.0), (2575, 0.037361438237737), (2576, 0.007094251491215586), (2577, 0.0), (2578, 0.10739638935475572), (2579, 0.0), (2580, 0.0), (2581, 0.019034771917718653), (2582, 0.0), (2583, 0.0), (2584, 0.02216206212689521), (2585, 0.0), (2586, 0.0), (2587, 0.025303884054948315), (2588, 0.011051124023572598), (2589, 0.0), (2590, 0.0), (2591, 0.0), (2592, 0.0), (2593, 0.0), (2594, 0.0), (2595, 0.0), (2596, 0.0), (2597, 0.0), (2598, 0.09279120115683989), (2599, 0.02360939502309611), (2600, 0.09759848644207797), (2601, 0.0), (2602, 0.007435851424736346), (2603, 0.014920021279192222), (2604, 0.0), (2605, 0.022802898292693604), (2606, 0.0), (2607, 0.008032654293957161), (2608, 0.0), (2609, 0.0), (2610, 0.0), (2611, 0.0), (2612, 0.0), (2613, 0.0), (2614, 0.0), (2615, 0.0), (2616, 0.016219180098284398), (2617, 0.00790102118606133), (2618, 0.020804272989395686), (2619, 0.0), (2620, 0.0), (2621, 0.007796695241265479), (2622, 0.023853123484146407), (2623, 0.0), (2624, 0.046531155427510726), (2625, 0.017500689832992956), (2626, 0.006882315193949049), (2627, 0.0), (2628, 0.0), (2629, 0.031106493848265304), (2630, 0.0), (2631, 0.038885378123780706), (2632, 0.010074826486786934), (2633, 0.0), (2634, 0.005859407228108548), (2635, 0.010500480598621562), (2636, 0.0), (2637, 0.011077158170323474), (2638, 0.02190474771606237), (2639, 0.0), (2640, 0.006561291259186297), (2641, 0.023032040757140843), (2642, 0.015982038998375234), (2643, 0.0), (2644, 0.03117761137502167), (2645, 0.019603431241989454), (2646, 0.005038668559129501), (2647, 0.016801023591918658), (2648, 0.0), (2649, 0.02531712679069654), (2650, 0.0), (2651, 0.0), (2652, 0.0), (2653, 0.0), (2654, 0.0), (2655, 0.0), (2656, 0.0), (2657, 0.00918553760204692), (2658, 0.0), (2659, 0.00903286466277402), (2660, 0.0), (2661, 0.0), (2662, 0.038271064799244685), (2663, 0.0), (2664, 0.0), (2665, 0.008495492481306422), (2666, 0.03641102916811179), (2667, 0.008544961641412682), (2668, 0.048221255663921464), (2669, 0.0), (2670, 0.025726901711573383), (2671, 0.007577911394419348), (2672, 0.007028659504968106), (2673, 0.0), (2674, 0.005772505175952962), (2675, 0.0), (2676, 0.007190751797573935), (2677, 0.010052430226579064), (2678, 0.0), (2679, 0.0), (2680, 0.026949831953657046), (2681, 0.017078731245778973), (2682, 0.035856954778502044), (2683, 0.0), (2684, 0.0), (2685, 0.01047070450832931), (2686, 0.0), (2687, 0.0), (2688, 0.025992566204808266), (2689, 0.04074037524999742), (2690, 0.0), (2691, 0.02925036413825555), (2692, 0.007781907770548946), (2693, 0.03434553124104931), (2694, 0.0), (2695, 0.008972616284998968), (2696, 0.0), (2697, 0.012470186763613774), (2698, 0.010052220169967997), (2699, 0.009625415925063897), (2700, 0.0), (2701, 0.0), (2702, 0.0), (2703, 0.0), (2704, 0.018935445754340363), (2705, 0.0), (2706, 0.005961707754071286), (2707, 0.007359871696812782), (2708, 0.02226568956298282), (2709, 0.0), (2710, 0.007050813325999516), (2711, 0.026751926566049473), (2712, 0.0), (2713, 0.061029942165283124), (2714, 0.03681380658204857), (2715, 0.028757056388436134), (2716, 0.017111128836021533), (2717, 0.0), (2718, 0.005472420845029194), (2719, 0.0), (2720, 0.0073496212325976674), (2721, 0.0), (2722, 0.0), (2723, 0.03724066677555126), (2724, 0.01941062129942087), (2725, 0.0), (2726, 0.031283905307350965), (2727, 0.010778672263450166), (2728, 0.0), (2729, 0.029994753028289328), (2730, 0.012676590046837324), (2731, 0.0), (2732, 0.010522195726869814), (2733, 0.0), (2734, 0.0), (2735, 0.0), (2736, 0.0), (2737, 0.0), (2738, 0.0), (2739, 0.009834523472512733), (2740, 0.0), (2741, 0.0), (2742, 0.014142628174033875), (2743, 0.0), (2744, 0.0), (2745, 0.0), (2746, 0.010490338959763253), (2747, 0.0), (2748, 0.0), (2749, 0.03497722062573236), (2750, 0.0), (2751, 0.014444877035351893), (2752, 0.008571295413373268), (2753, 0.0), (2754, 0.006574391168637468), (2755, 0.0), (2756, 0.038716848070526076), (2757, 0.0), (2758, 0.0), (2759, 0.0), (2760, 0.0), (2761, 0.0), (2762, 0.024129923533841212), (2763, 0.0), (2764, 0.0), (2765, 0.0), (2766, 0.0), (2767, 0.0048923709753924864), (2768, 0.02165279651010174), (2769, 0.03576016583931654), (2770, 0.018063644466027123), (2771, 0.02267784965898518), (2772, 0.007428334989747238), (2773, 0.0), (2774, 0.0050109395564102615), (2775, 0.0), (2776, 0.0), (2777, 0.02238656528530523), (2778, 0.007582591301136788), (2779, 0.0), (2780, 0.01577198759306068), (2781, 0.013162515339822498), (2782, 0.0), (2783, 0.0), (2784, 0.009159744054129592), (2785, 0.0), (2786, 0.0), (2787, 0.005962875511095193), (2788, 0.01550757650911035), (2789, 0.026733114917224774), (2790, 0.033815138481125454), (2791, 0.07499133324341976), (2792, 0.0), (2793, 0.0), (2794, 0.0), (2795, 0.019236594396812565), (2796, 0.0), (2797, 0.0), (2798, 0.036078602190200454), (2799, 0.01154761013896361), (2800, 0.0), (2801, 0.0), (2802, 0.0), (2803, 0.031262392341087325), (2804, 0.021850787865429416), (2805, 0.0), (2806, 0.0), (2807, 0.0), (2808, 0.008683587542099785), (2809, 0.04668137285715437), (2810, 0.030154231482891036), (2811, 0.026320975670010523), (2812, 0.0), (2813, 0.017802386113768647), (2814, 0.022143845761615693), (2815, 0.06370228185201626), (2816, 0.0), (2817, 0.011001451790868547), (2818, 0.0), (2819, 0.006643001760718976), (2820, 0.0054849309262471006), (2821, 0.0), (2822, 0.005411934982052105), (2823, 0.0), (2824, 0.02128153658453899), (2825, 0.015047830346342151), (2826, 0.0166767998206648), (2827, 0.0), (2828, 0.021114644453100583), (2829, 0.0), (2830, 0.0), (2831, 0.0), (2832, 0.0), (2833, 0.007987981896442337), (2834, 0.022039186732552882), (2835, 0.0), (2836, 0.0), (2837, 0.026316050425117657), (2838, 0.0), (2839, 0.010235434155547432), (2840, 0.006994021540682307), (2841, 0.005762820770927699), (2842, 0.00542172001164745), (2843, 0.031220715853688883), (2844, 0.00517918405453354), (2845, 0.0), (2846, 0.0), (2847, 0.00619133606171758), (2848, 0.0), (2849, 0.009474086461617641), (2850, 0.02794307082747501), (2851, 0.0), (2852, 0.0), (2853, 0.0), (2854, 0.006964418685269407), (2855, 0.0), (2856, 0.0), (2857, 0.0), (2858, 0.0), (2859, 0.06113143237993414), (2860, 0.030503640590885645), (2861, 0.0), (2862, 0.0058441320011923216), (2863, 0.0), (2864, 0.007128096186885559), (2865, 0.0), (2866, 0.0), (2867, 0.0), (2868, 0.0), (2869, 0.0), (2870, 0.046339152523342295), (2871, 0.007968323004439963), (2872, 0.0), (2873, 0.0), (2874, 0.008317326012981815), (2875, 0.0), (2876, 0.0), (2877, 0.008661857551202534), (2878, 0.0), (2879, 0.0), (2880, 0.006758644937409864), (2881, 0.007102180416149709), (2882, 0.0), (2883, 0.0), (2884, 0.03163312603417828), (2885, 0.0), (2886, 0.008549830244921017), (2887, 0.0), (2888, 0.006792840432686597), (2889, 0.03772255461312981), (2890, 0.0), (2891, 0.0), (2892, 0.00979365446901656), (2893, 0.0), (2894, 0.0), (2895, 0.007506062118220943), (2896, 0.0), (2897, 0.008559805053118937), (2898, 0.03063828979179436), (2899, 0.026429226317412624), (2900, 0.0), (2901, 0.04388783557544301), (2902, 0.03794062575626658), (2903, 0.017082150415502387), (2904, 0.010731160145446145), (2905, 0.0), (2906, 0.0), (2907, 0.0), (2908, 0.019442426795781013), (2909, 0.0), (2910, 0.05180960087175661), (2911, 0.0), (2912, 0.0), (2913, 0.019844508655111788), (2914, 0.0), (2915, 0.06589383436870826), (2916, 0.0), (2917, 0.0), (2918, 0.014675275195029275), (2919, 0.06325320807187125), (2920, 0.0), (2921, 0.0), (2922, 0.008532473015970812), (2923, 0.0), (2924, 0.0), (2925, 0.007195202468460247), (2926, 0.10257000575035882), (2927, 0.026471053414684014), (2928, 0.0), (2929, 0.0), (2930, 0.0), (2931, 0.008106463549264567), (2932, 0.011848626646199787), (2933, 0.0), (2934, 0.00902685299435371), (2935, 0.005569352595287677), (2936, 0.0), (2937, 0.009004727883762305), (2938, 0.0), (2939, 0.011161390653601003), (2940, 0.006702571085601834), (2941, 0.0), (2942, 0.0), (2943, 0.006248344984144631), (2944, 0.04905582632931795), (2945, 0.0), (2946, 0.0), (2947, 0.006427335156606155), (2948, 0.019836553717571294), (2949, 0.0), (2950, 0.02671779970052092), (2951, 0.0), (2952, 0.0), (2953, 0.0), (2954, 0.00942060828708186), (2955, 0.028710363536324057), (2956, 0.0), (2957, 0.0), (2958, 0.005842107631151766), (2959, 0.017462820808491705), (2960, 0.024514388320686965), (2961, 0.008821033180087262), (2962, 0.02431326528129331), (2963, 0.03523166143512128), (2964, 0.011025080766189653), (2965, 0.0), (2966, 0.0), (2967, 0.0), (2968, 0.0), (2969, 0.005200998489968398), (2970, 0.0), (2971, 0.013253897415247448), (2972, 0.0), (2973, 0.0), (2974, 0.0), (2975, 0.0), (2976, 0.009242328155816461), (2977, 0.0), (2978, 0.009744328179024798), (2979, 0.0068129372907483055), (2980, 0.01742245067945591), (2981, 0.0), (2982, 0.02485939673783075), (2983, 0.0), (2984, 0.0), (2985, 0.0), (2986, 0.0), (2987, 0.0), (2988, 0.0), (2989, 0.00873793002002047), (2990, 0.008441705511799085), (2991, 0.0), (2992, 0.005847019080308927), (2993, 0.0), (2994, 0.009019660963176598), (2995, 0.020702762231160177), (2996, 0.009862158780703826), (2997, 0.0), (2998, 0.00941422918333678), (2999, 0.0), (3000, 0.0), (3001, 0.02420709982353931), (3002, 0.006337204875934061), (3003, 0.0), (3004, 0.0), (3005, 0.0), (3006, 0.028601207986736932), (3007, 0.0), (3008, 0.030634639800076285), (3009, 0.0), (3010, 0.0), (3011, 0.0), (3012, 0.010047263743576144), (3013, 0.0), (3014, 0.0), (3015, 0.0), (3016, 0.0), (3017, 0.0), (3018, 0.009358798120855504), (3019, 0.010432380088066216), (3020, 0.0), (3021, 0.020615976332633536), (3022, 0.032708027723737286), (3023, 0.0), (3024, 0.005187465331253996), (3025, 0.0), (3026, 0.0), (3027, 0.0), (3028, 0.0), (3029, 0.0), (3030, 0.0), (3031, 0.0), (3032, 0.0), (3033, 0.0), (3034, 0.030493955645132593), (3035, 0.0), (3036, 0.0), (3037, 0.0), (3038, 0.0), (3039, 0.0), (3040, 0.0), (3041, 0.0), (3042, 0.0), (3043, 0.02182450492724726), (3044, 0.006835544401401241), (3045, 0.030618104522800622), (3046, 0.0), (3047, 0.019836259456856152), (3048, 0.023139335369219964), (3049, 0.0), (3050, 0.0), (3051, 0.031159232061719704), (3052, 0.0), (3053, 0.0), (3054, 0.0), (3055, 0.0), (3056, 0.008547141302949248), (3057, 0.0), (3058, 0.0), (3059, 0.030119514570660012), (3060, 0.0), (3061, 0.0), (3062, 0.0069522840173051), (3063, 0.019317526367312342), (3064, 0.006823473850398478), (3065, 0.005326456744007182), (3066, 0.0563733715014811), (3067, 0.0), (3068, 0.0351959770403316), (3069, 0.0), (3070, 0.013606776969727364), (3071, 0.0), (3072, 0.0), (3073, 0.0), (3074, 0.0), (3075, 0.0), (3076, 0.011728182666241297), (3077, 0.0), (3078, 0.0), (3079, 0.020131619743266892), (3080, 0.02434813466647067), (3081, 0.0), (3082, 0.0), (3083, 0.0), (3084, 0.029063515940882002), (3085, 0.014551753373338161), (3086, 0.009680881184717695), (3087, 0.0), (3088, 0.0), (3089, 0.026540426423336087), (3090, 0.0), (3091, 0.0), (3092, 0.0), (3093, 0.0), (3094, 0.0), (3095, 0.00962110143826859), (3096, 0.05107772921220196), (3097, 0.0698309060153951), (3098, 0.0), (3099, 0.013548882085792685), (3100, 0.035899887726249365), (3101, 0.011398607275012226), (3102, 0.0), (3103, 0.0), (3104, 0.03155909742423624), (3105, 0.02085883364332219), (3106, 0.0), (3107, 0.0), (3108, 0.04042559026593542), (3109, 0.010988175809722693), (3110, 0.010081231593297412), (3111, 0.0), (3112, 0.006743148142184933), (3113, 0.0), (3114, 0.02599105211227915), (3115, 0.06297660912192246), (3116, 0.0), (3117, 0.0), (3118, 0.00831624320046818), (3119, 0.012285796963514605), (3120, 0.008296832772632216), (3121, 0.04901890722263051), (3122, 0.019684863023156394), (3123, 0.026644447267795118), (3124, 0.006510568664477481), (3125, 0.0), (3126, 0.006005420602789692), (3127, 0.018674367824928453), (3128, 0.0), (3129, 0.014251873469127443), (3130, 0.005720811428507155), (3131, 0.030079331758081466), (3132, 0.029808036778877577), (3133, 0.026426296724099213), (3134, 0.029343982651415197), (3135, 0.005873400560480751), (3136, 0.015471405425704037), (3137, 0.0), (3138, 0.0), (3139, 0.0), (3140, 0.0), (3141, 0.021045303311656393), (3142, 0.012390203996981668), (3143, 0.005824050162464879), (3144, 0.0), (3145, 0.0), (3146, 0.0), (3147, 0.0), (3148, 0.0), (3149, 0.03614739469460194), (3150, 0.02867055039455396), (3151, 0.0), (3152, 0.0), (3153, 0.028217548175601057), (3154, 0.10691708739577496), (3155, 0.009022864101020756), (3156, 0.01597695955725023), (3157, 0.0), (3158, 0.024482998856750773), (3159, 0.0), (3160, 0.03784419196219589), (3161, 0.006186331287615972), (3162, 0.0), (3163, 0.036651430787803606), (3164, 0.0), (3165, 0.0072025884657413025), (3166, 0.0), (3167, 0.0), (3168, 0.007061223720552695), (3169, 0.0064286608099202985), (3170, 0.0), (3171, 0.008524617521418266), (3172, 0.007301832415981944), (3173, 0.010160668880283176), (3174, 0.006254141077304351), (3175, 0.0), (3176, 0.0), (3177, 0.0), (3178, 0.0), (3179, 0.0), (3180, 0.024302405204931533), (3181, 0.04187960554106813), (3182, 0.01809634840768693), (3183, 0.0), (3184, 0.04051391830788881), (3185, 0.00951518229196669), (3186, 0.0), (3187, 0.0), (3188, 0.010305581729601603), (3189, 0.0), (3190, 0.0), (3191, 0.12143432057990541), (3192, 0.016827760003127662), (3193, 0.026410520888335124), (3194, 0.0), (3195, 0.0), (3196, 0.0), (3197, 0.0), (3198, 0.0), (3199, 0.0), (3200, 0.00876631765073663), (3201, 0.01947065163067013), (3202, 0.026132671688068015), (3203, 0.0), (3204, 0.0), (3205, 0.017878475811191757), (3206, 0.020070063237292837), (3207, 0.030859605325503206), (3208, 0.0), (3209, 0.0), (3210, 0.02577178188807574), (3211, 0.017865902720482944), (3212, 0.0), (3213, 0.005256568788753873), (3214, 0.0), (3215, 0.005244430410039268), (3216, 0.0), (3217, 0.0), (3218, 0.0), (3219, 0.0), (3220, 0.0), (3221, 0.007013721438123402), (3222, 0.0), (3223, 0.01736086153532005), (3224, 0.0), (3225, 0.028810764356816822), (3226, 0.027864923218149883), (3227, 0.00632285027390307), (3228, 0.0), (3229, 0.0), (3230, 0.0), (3231, 0.03546915793343691), (3232, 0.09186662779741672), (3233, 0.022472325684442164), (3234, 0.051718001126812865), (3235, 0.010998675594355816), (3236, 0.0), (3237, 0.0), (3238, 0.0), (3239, 0.0), (3240, 0.0), (3241, 0.006542151712426576), (3242, 0.0), (3243, 0.0), (3244, 0.0), (3245, 0.009054481580279166), (3246, 0.00989086514862525), (3247, 0.09529307318178964), (3248, 0.0), (3249, 0.0), (3250, 0.016660816221527493), (3251, 0.0), (3252, 0.0), (3253, 0.007131131856184524), (3254, 0.00843591908373879), (3255, 0.0), (3256, 0.0), (3257, 0.0), (3258, 0.0), (3259, 0.016064413140308206), (3260, 0.0), (3261, 0.0), (3262, 0.0), (3263, 0.00683158221737006), (3264, 0.010894136344041521), (3265, 0.0), (3266, 0.0654520622887043), (3267, 0.03254492053062559), (3268, 0.0), (3269, 0.0), (3270, 0.02793217978053887), (3271, 0.019194527942202885), (3272, 0.0), (3273, 0.0), (3274, 0.0), (3275, 0.02986250917425317), (3276, 0.009466148855232615), (3277, 0.02172722720446656), (3278, 0.0), (3279, 0.0), (3280, 0.008343347669845144), (3281, 0.0), (3282, 0.03641810041641831), (3283, 0.0), (3284, 0.0), (3285, 0.0), (3286, 0.026604664692094764), (3287, 0.0), (3288, 0.0), (3289, 0.0), (3290, 0.0), (3291, 0.0), (3292, 0.0), (3293, 0.008482076258524976), (3294, 0.02014752015127853), (3295, 0.0), (3296, 0.0), (3297, 0.016185578319028764), (3298, 0.021100873291691268), (3299, 0.0176522408786358), (3300, 0.0), (3301, 0.02145855248850444), (3302, 0.0), (3303, 0.0), (3304, 0.00934221977509699), (3305, 0.02301876142319659), (3306, 0.02218061703829583), (3307, 0.0), (3308, 0.0), (3309, 0.0), (3310, 0.006541858919361295), (3311, 0.005672536494538967), (3312, 0.01769216606703205), (3313, 0.0), (3314, 0.0), (3315, 0.0), (3316, 0.0), (3317, 0.007340000310278747), (3318, 0.008076756212840408), (3319, 0.0), (3320, 0.0), (3321, 0.0), (3322, 0.0), (3323, 0.1636097582075929), (3324, 0.0), (3325, 0.0), (3326, 0.0), (3327, 0.0), (3328, 0.026589755607770604), (3329, 0.027697528924452396), (3330, 0.0), (3331, 0.01820904453548604), (3332, 0.028451671580618634), (3333, 0.02751474174820854), (3334, 0.009428807970295848), (3335, 0.0), (3336, 0.005644286828204863), (3337, 0.0), (3338, 0.0), (3339, 0.005396609345622166), (3340, 0.0062161767489832855), (3341, 0.0), (3342, 0.00958050767183986), (3343, 0.006264539963828141), (3344, 0.008762130870649143), (3345, 0.0), (3346, 0.0), (3347, 0.008659487616417083), (3348, 0.0), (3349, 0.0), (3350, 0.0), (3351, 0.0), (3352, 0.0), (3353, 0.0), (3354, 0.0), (3355, 0.0), (3356, 0.023858765963592057), (3357, 0.0), (3358, 0.0), (3359, 0.0), (3360, 0.0), (3361, 0.026614255415069052), (3362, 0.0), (3363, 0.0), (3364, 0.011910443131321512), (3365, 0.01169807777660263), (3366, 0.0), (3367, 0.028159211890841394), (3368, 0.02744919212973687), (3369, 0.0), (3370, 0.02594214929064903), (3371, 0.0), (3372, 0.0), (3373, 0.017144433114952243), (3374, 0.015117001839539207), (3375, 0.0), (3376, 0.0), (3377, 0.010486563842515706), (3378, 0.010766090271006425), (3379, 0.0), (3380, 0.0), (3381, 0.0), (3382, 0.020116855523597172), (3383, 0.007100587735579403), (3384, 0.02995377554982538), (3385, 0.024482385103456204), (3386, 0.0), (3387, 0.0), (3388, 0.010870455149880201), (3389, 0.020090195348207603), (3390, 0.009830244398957485), (3391, 0.0), (3392, 0.006855359280246202), (3393, 0.0), (3394, 0.0), (3395, 0.009477974303238027), (3396, 0.0), (3397, 0.0), (3398, 0.010640728535289336), (3399, 0.0), (3400, 0.020179665394259465), (3401, 0.0), (3402, 0.0), (3403, 0.01570266573642853), (3404, 0.0063801466322515495), (3405, 0.032665036543759934), (3406, 0.0), (3407, 0.008413070679268626), (3408, 0.025261060096829317), (3409, 0.0), (3410, 0.0), (3411, 0.0), (3412, 0.026725381990451456), (3413, 0.0), (3414, 0.0), (3415, 0.0), (3416, 0.015218188944842056), (3417, 0.01956553197400982), (3418, 0.00813273455376609), (3419, 0.00723679774482327), (3420, 0.0), (3421, 0.0685025615053746), (3422, 0.0), (3423, 0.0), (3424, 0.006870537890449894), (3425, 0.0), (3426, 0.009597607703828713), (3427, 0.028221186530657638), (3428, 0.0), (3429, 0.00426358844707436), (3430, 0.00858782574414564), (3431, 0.0), (3432, 0.006224946406614234), (3433, 0.0), (3434, 0.0), (3435, 0.0), (3436, 0.0), (3437, 0.00938157478326192), (3438, 0.017708939986558904), (3439, 0.0), (3440, 0.007285992998174337), (3441, 0.006219377363744539), (3442, 0.018843141493612787), (3443, 0.02370718110969336), (3444, 0.0), (3445, 0.0064221881647965415), (3446, 0.0), (3447, 0.0), (3448, 0.029157171876180662), (3449, 0.0), (3450, 0.07354968709572846), (3451, 0.006721355499996888), (3452, 0.04592157880837221), (3453, 1.0), (3454, 0.00613413580265085), (3455, 0.0), (3456, 0.0332718851960536), (3457, 0.0), (3458, 0.0), (3459, 0.0056980968879338225), (3460, 0.009487333377563504), (3461, 0.0), (3462, 0.05259249966131949), (3463, 0.02900232769003784), (3464, 0.016143693557561643), (3465, 0.014468383666458435), (3466, 0.04857348198354119), (3467, 0.028474376480253066), (3468, 0.07826087946268996), (3469, 0.03148527079545166), (3470, 0.0), (3471, 0.0), (3472, 0.007944574332528213), (3473, 0.0), (3474, 0.0), (3475, 0.0), (3476, 0.0), (3477, 0.0), (3478, 0.0), (3479, 0.0), (3480, 0.026866612249013308), (3481, 0.0), (3482, 0.0), (3483, 0.06376646218518049), (3484, 0.01816616809536424), (3485, 0.0), (3486, 0.006402748504060199), (3487, 0.0), (3488, 0.0), (3489, 0.0), (3490, 0.009907803767470705), (3491, 0.010357845763634596), (3492, 0.0), (3493, 0.010798727812259887), (3494, 0.0), (3495, 0.0), (3496, 0.0), (3497, 0.0), (3498, 0.0), (3499, 0.0), (3500, 0.0), (3501, 0.0), (3502, 0.026439821433556814), (3503, 0.0), (3504, 0.008583584602877304), (3505, 0.05287691669156474), (3506, 0.011899448767671975), (3507, 0.01579064633712422), (3508, 0.043784115001840436), (3509, 0.0), (3510, 0.0), (3511, 0.0), (3512, 0.0), (3513, 0.029456808014377223), (3514, 0.03515400793633196), (3515, 0.03496660479808831), (3516, 0.07160011613306377), (3517, 0.010682654208604798), (3518, 0.010269467080623665), (3519, 0.01955806641680456), (3520, 0.01740484362342301), (3521, 0.0), (3522, 0.006417984597708281), (3523, 0.0), (3524, 0.0), (3525, 0.09071721616376148), (3526, 0.011177524107993777), (3527, 0.0), (3528, 0.025898847370142395), (3529, 0.0), (3530, 0.0), (3531, 0.03200465590242304), (3532, 0.13580748561964842), (3533, 0.0), (3534, 0.017038612237468855), (3535, 0.010611670497649238), (3536, 0.0), (3537, 0.0), (3538, 0.0082267053405281), (3539, 0.018925999055859385), (3540, 0.040500012946783445), (3541, 0.040854368465023674), (3542, 0.02234978009125933), (3543, 0.025473261541039197), (3544, 0.0), (3545, 0.0), (3546, 0.0), (3547, 0.0), (3548, 0.0), (3549, 0.0), (3550, 0.04183864195553072), (3551, 0.010413120671862184), (3552, 0.0), (3553, 0.008881725766191907), (3554, 0.0075910522147220015), (3555, 0.006077715921498897), (3556, 0.03110200923701305), (3557, 0.0), (3558, 0.0), (3559, 0.018309332209018463), (3560, 0.00704591719586293), (3561, 0.0), (3562, 0.0), (3563, 0.009403322316279623), (3564, 0.010357369976942393), (3565, 0.017581037143850422), (3566, 0.0), (3567, 0.0), (3568, 0.0060139991525045775), (3569, 0.0), (3570, 0.008905493677865238), (3571, 0.0), (3572, 0.0), (3573, 0.0), (3574, 0.007923977605969556), (3575, 0.0), (3576, 0.02218581151023105), (3577, 0.021953984530892583), (3578, 0.0), (3579, 0.0), (3580, 0.0), (3581, 0.0), (3582, 0.0146741747202718), (3583, 0.043062700856314785), (3584, 0.0), (3585, 0.0), (3586, 0.056987231940062874), (3587, 0.011622176724207046), (3588, 0.007704679836300645), (3589, 0.0), (3590, 0.0), (3591, 0.00654485199415135), (3592, 0.0), (3593, 0.007000191745031405), (3594, 0.02175780860067196), (3595, 0.02689950079525802), (3596, 0.0), (3597, 0.06481251417938816), (3598, 0.0), (3599, 0.0), (3600, 0.005654590206929785), (3601, 0.0), (3602, 0.016310547520767313), (3603, 0.006390562804608677), (3604, 0.02639937929548825), (3605, 0.026877235002672875), (3606, 0.0), (3607, 0.0), (3608, 0.0), (3609, 0.005896449906661532), (3610, 0.032364589762026684), (3611, 0.0), (3612, 0.04370222065750594), (3613, 0.0), (3614, 0.0), (3615, 0.0), (3616, 0.0), (3617, 0.0), (3618, 0.01093624554024869), (3619, 0.0), (3620, 0.0), (3621, 0.0), (3622, 0.0), (3623, 0.02900297965417583), (3624, 0.0), (3625, 0.021264134246205692), (3626, 0.007915543613199828), (3627, 0.0), (3628, 0.006857424122656613), (3629, 0.0), (3630, 0.005412408735621196), (3631, 0.0), (3632, 0.0), (3633, 0.00924027743926853), (3634, 0.018469078218367033), (3635, 0.008478284514791365), (3636, 0.0), (3637, 0.013321045994591864), (3638, 0.012863381925104481), (3639, 0.0), (3640, 0.00999421689399842), (3641, 0.021096580354690753), (3642, 0.02770591894791636), (3643, 0.0), (3644, 0.010136775643321801), (3645, 0.011481356145451113), (3646, 0.0), (3647, 0.0), (3648, 0.0), (3649, 0.0), (3650, 0.018000085979574226), (3651, 0.0), (3652, 0.009902024144621668), (3653, 0.0290659500702088), (3654, 0.010850730366152472), (3655, 0.008978903337057382), (3656, 0.009508421707254893), (3657, 0.005291903850029988), (3658, 0.012799934154461484), (3659, 0.009767074345056173), (3660, 0.014689174978033657), (3661, 0.0), (3662, 0.0), (3663, 0.0), (3664, 0.0), (3665, 0.0), (3666, 0.0), (3667, 0.0), (3668, 0.005307806074285913), (3669, 0.0), (3670, 0.009038174915191289), (3671, 0.043223555145075386), (3672, 0.0), (3673, 0.0), (3674, 0.007564684578457928), (3675, 0.010682567733669037), (3676, 0.006337063617951246), (3677, 0.0), (3678, 0.0), (3679, 0.0), (3680, 0.007091143424265229), (3681, 0.0), (3682, 0.0), (3683, 0.0), (3684, 0.013219613567950124), (3685, 0.021429912853512822), (3686, 0.0), (3687, 0.0), (3688, 0.024204242468582934), (3689, 0.0), (3690, 0.02873212888296563), (3691, 0.0), (3692, 0.030271569731977394), (3693, 0.02398820034361549), (3694, 0.00969846983449486), (3695, 0.011285079032874878), (3696, 0.0), (3697, 0.05903389583526833), (3698, 0.0), (3699, 0.009153298227967871), (3700, 0.005956427412205979), (3701, 0.0), (3702, 0.0), (3703, 0.009359945177606114), (3704, 0.0), (3705, 0.0), (3706, 0.01618893165276142), (3707, 0.006382333518720049), (3708, 0.03809840660851714), (3709, 0.02129092015704175), (3710, 0.006666671439819744), (3711, 0.017762647646116896), (3712, 0.009773068477558695), (3713, 0.016073733328952823), (3714, 0.02387633176427877), (3715, 0.03101491984722792), (3716, 0.03072260283042214), (3717, 0.0), (3718, 0.02025555655709047), (3719, 0.0), (3720, 0.12417594819422723), (3721, 0.0), (3722, 0.0182648428288842), (3723, 0.005918067350845458), (3724, 0.02981110979434626), (3725, 0.0), (3726, 0.0), (3727, 0.0), (3728, 0.0), (3729, 0.0), (3730, 0.044397643453509994), (3731, 0.007642455620296854), (3732, 0.03783862079858468), (3733, 0.0), (3734, 0.02651732885561796), (3735, 0.0), (3736, 0.016682913454340097), (3737, 0.0), (3738, 0.03181641853272099), (3739, 0.0), (3740, 0.0), (3741, 0.05031365267009055), (3742, 0.08294870834385355), (3743, 0.029090655381740008), (3744, 0.03421638322232783), (3745, 0.0), (3746, 0.0), (3747, 0.02969464928972506), (3748, 0.00892678319129071), (3749, 0.0), (3750, 0.00697692190955207), (3751, 0.023436138868016033), (3752, 0.0), (3753, 0.0), (3754, 0.011965133927575066), (3755, 0.0), (3756, 0.007330384389376192), (3757, 0.0), (3758, 0.0), (3759, 0.011812358238399627), (3760, 0.0), (3761, 0.0), (3762, 0.0), (3763, 0.0), (3764, 0.0), (3765, 0.0), (3766, 0.010686944899117003), (3767, 0.0), (3768, 0.009629674038622998), (3769, 0.0), (3770, 0.0), (3771, 0.006792149608903889), (3772, 0.0), (3773, 0.037588808052539335), (3774, 0.0), (3775, 0.017890803422409333), (3776, 0.005370632314079844), (3777, 0.009468491621797994), (3778, 0.0), (3779, 0.0), (3780, 0.0), (3781, 0.0), (3782, 0.025745467519923685), (3783, 0.026517038720265302), (3784, 0.0), (3785, 0.0), (3786, 0.006016860516772981), (3787, 0.030779951097384586), (3788, 0.009644251365202425), (3789, 0.0), (3790, 0.0), (3791, 0.0), (3792, 0.0), (3793, 0.0), (3794, 0.01442753387530837), (3795, 0.005609480166283418), (3796, 0.0), (3797, 0.06259793746251284), (3798, 0.029162899796794425), (3799, 0.0), (3800, 0.0), (3801, 0.008028936656590399), (3802, 0.03078536971492506), (3803, 0.0), (3804, 0.0), (3805, 0.0), (3806, 0.008703958806248501), (3807, 0.01515257653515284), (3808, 0.0), (3809, 0.0), (3810, 0.0), (3811, 0.03222472322581413), (3812, 0.027891036414127837), (3813, 0.0), (3814, 0.006168023625571735), (3815, 0.0), (3816, 0.0), (3817, 0.09993842001012343), (3818, 0.017616988885374767), (3819, 0.00846140206882704), (3820, 0.0), (3821, 0.0), (3822, 0.0), (3823, 0.00970063907818063), (3824, 0.009847281420694177), (3825, 0.0), (3826, 0.0), (3827, 0.0), (3828, 0.054564804655124054), (3829, 0.0), (3830, 0.0), (3831, 0.0), (3832, 0.0), (3833, 0.0), (3834, 0.04112118003230823), (3835, 0.0), (3836, 0.0), (3837, 0.031298702108454694), (3838, 0.0), (3839, 0.02794481248841714), (3840, 0.039398162523030675), (3841, 0.009252427196695771), (3842, 0.008156639665978169), (3843, 0.0), (3844, 0.012928861190866723), (3845, 0.0), (3846, 0.006682573282771389), (3847, 0.0), (3848, 0.0), (3849, 0.015821092590121905), (3850, 0.06051821057418624), (3851, 0.0), (3852, 0.0), (3853, 0.0), (3854, 0.008287181147051436), (3855, 0.023827794341908133), (3856, 0.0), (3857, 0.0), (3858, 0.031423327551097856), (3859, 0.0), (3860, 0.04128009868185883), (3861, 0.0), (3862, 0.015908692511034023), (3863, 0.0), (3864, 0.0), (3865, 0.0), (3866, 0.0), (3867, 0.0), (3868, 0.0), (3869, 0.05343983294644998), (3870, 0.01734201444719411), (3871, 0.0), (3872, 0.0), (3873, 0.03438966377033401), (3874, 0.0), (3875, 0.0), (3876, 0.031377721655340106), (3877, 0.01148725496547273), (3878, 0.03690820831600598), (3879, 0.0), (3880, 0.0), (3881, 0.009838994966593925), (3882, 0.03654552130993083), (3883, 0.010215140509488624), (3884, 0.012004039975688432), (3885, 0.043042620392021017), (3886, 0.02097839588169156), (3887, 0.0), (3888, 0.03048061863688402), (3889, 0.023690278406967583), (3890, 0.0), (3891, 0.016822844892379785), (3892, 0.0), (3893, 0.0), (3894, 0.04149632132458061), (3895, 0.0), (3896, 0.017129716241430393), (3897, 0.060829656772074546), (3898, 0.0), (3899, 0.0), (3900, 0.02100511470458756), (3901, 0.0), (3902, 0.0), (3903, 0.011817662209858852), (3904, 0.0), (3905, 0.009479374467963082), (3906, 0.01747806505616657), (3907, 0.04759973254056403), (3908, 0.12995982789727992), (3909, 0.0), (3910, 0.0), (3911, 0.0), (3912, 0.0), (3913, 0.0), (3914, 0.0), (3915, 0.0), (3916, 0.0), (3917, 0.006032274176978024), (3918, 0.0), (3919, 0.022834988450928247), (3920, 0.0), (3921, 0.0), (3922, 0.0), (3923, 0.025833244681315357), (3924, 0.009851081548271237), (3925, 0.0), (3926, 0.017793046568546016), (3927, 0.0), (3928, 0.0), (3929, 0.0), (3930, 0.01068132528872556), (3931, 0.0), (3932, 0.031528015590833264), (3933, 0.02442582596292267), (3934, 0.0), (3935, 0.0), (3936, 0.0), (3937, 0.03792992813314034), (3938, 0.0), (3939, 0.03649716372908794), (3940, 0.0), (3941, 0.008397913519894953), (3942, 0.012585436621415938), (3943, 0.0), (3944, 0.027554565265388162), (3945, 0.0), (3946, 0.025711799496123136), (3947, 0.01760269285777474), (3948, 0.0157066170104437), (3949, 0.012318790569157403), (3950, 0.0), (3951, 0.0), (3952, 0.0), (3953, 0.036807295100491355), (3954, 0.0), (3955, 0.02805688633593622), (3956, 0.03618200221938127), (3957, 0.018004979793694673), (3958, 0.005377642802379658), (3959, 0.05396816007966127), (3960, 0.02013942473865178), (3961, 0.009891365330088723), (3962, 0.0), (3963, 0.006223941924076451), (3964, 0.019839972558718826), (3965, 0.026851011056470114), (3966, 0.02037263138050445), (3967, 0.0), (3968, 0.02952434395976254), (3969, 0.0), (3970, 0.0), (3971, 0.0), (3972, 0.032202066089032984), (3973, 0.05117061678052952), (3974, 0.0), (3975, 0.0), (3976, 0.0), (3977, 0.030365112310125703), (3978, 0.0230767454133267), (3979, 0.006657820369750888), (3980, 0.005030674686893218), (3981, 0.0), (3982, 0.028107940329768086), (3983, 0.0), (3984, 0.00942463371145133), (3985, 0.03319474580911625), (3986, 0.009283111751711615), (3987, 0.0), (3988, 0.0), (3989, 0.0), (3990, 0.0), (3991, 0.0), (3992, 0.04588736706642388), (3993, 0.014073702326654402), (3994, 0.021227890459468133), (3995, 0.0), (3996, 0.0), (3997, 0.029931013816214425), (3998, 0.02708614418000034), (3999, 0.011034510865176752), (4000, 0.0191226461410079), (4001, 0.006281439361059735), (4002, 0.011981920613885498), (4003, 0.0), (4004, 0.009088255334303125), (4005, 0.017725020662353663), (4006, 0.0), (4007, 0.03800233830436888), (4008, 0.0), (4009, 0.0), (4010, 0.0), (4011, 0.02677872364467606), (4012, 0.005918378221763713), (4013, 0.0), (4014, 0.022101858338565913), (4015, 0.045796704715577716), (4016, 0.0), (4017, 0.0), (4018, 0.009309132028135486), (4019, 0.0), (4020, 0.02357980306005585), (4021, 0.0), (4022, 0.0), (4023, 0.035778907347577195), (4024, 0.0), (4025, 0.0), (4026, 0.0), (4027, 0.01875831453206241), (4028, 0.0), (4029, 0.0), (4030, 0.0), (4031, 0.0), (4032, 0.05520999292796185), (4033, 0.01606977661622431), (4034, 0.019708283686987852), (4035, 0.0), (4036, 0.0), (4037, 0.005940525952052839), (4038, 0.03718768691536636), (4039, 0.006112922094421473), (4040, 0.0), (4041, 0.02843677436187008), (4042, 0.0), (4043, 0.0), (4044, 0.0056898287098162735), (4045, 0.034859982783145685), (4046, 0.05029632638976148), (4047, 0.0), (4048, 0.009810566034263626), (4049, 0.0), (4050, 0.0), (4051, 0.0), (4052, 0.032020099398800884), (4053, 0.008131654847948878), (4054, 0.02316240443833137), (4055, 0.034187936627484164), (4056, 0.006236997224417126), (4057, 0.028117248705883235), (4058, 0.04251802064506634), (4059, 0.0), (4060, 0.008903467942520586), (4061, 0.05168198053549441), (4062, 0.02151648137636294), (4063, 0.02015925168454068), (4064, 0.0), (4065, 0.0), (4066, 0.0), (4067, 0.0), (4068, 0.015475051160012548), (4069, 0.009965446215059962), (4070, 0.02812016420322551), (4071, 0.0), (4072, 0.0), (4073, 0.0), (4074, 0.0), (4075, 0.020728281802069305), (4076, 0.02353283490648822), (4077, 0.03097880779877642), (4078, 0.011448377909066004), (4079, 0.0), (4080, 0.0), (4081, 0.0), (4082, 0.04828943625522064), (4083, 0.0), (4084, 0.0), (4085, 0.0), (4086, 0.0), (4087, 0.05427316525302931), (4088, 0.06344932369627501), (4089, 0.0), (4090, 0.0), (4091, 0.04222866086359461), (4092, 0.0), (4093, 0.0155816364039792), (4094, 0.02304516707415846), (4095, 0.012927122410114386), (4096, 0.00776379509447542), (4097, 0.0), (4098, 0.03885334712980895), (4099, 0.0062692263811728694), (4100, 0.029368808117901844), (4101, 0.022521694592264316), (4102, 0.0), (4103, 0.024165447855655726), (4104, 0.0), (4105, 0.02999941408030915), (4106, 0.0), (4107, 0.05842409607222425), (4108, 0.0), (4109, 0.0), (4110, 0.0), (4111, 0.0), (4112, 0.006120968916081687), (4113, 0.0), (4114, 0.005442420124203154), (4115, 0.0), (4116, 0.01660682452704391), (4117, 0.0), (4118, 0.009663942457666339), (4119, 0.01843691204316875), (4120, 0.03377085758314737), (4121, 0.017324884522577563), (4122, 0.018917599193724703), (4123, 0.009462254217013685), (4124, 0.008479631274759444), (4125, 0.0), (4126, 0.0), (4127, 0.0), (4128, 0.02801232180410508), (4129, 0.0), (4130, 0.006854035196675235), (4131, 0.006710643942440736), (4132, 0.0), (4133, 0.0), (4134, 0.0), (4135, 0.04798616415291253), (4136, 0.010747922794951677), (4137, 0.0), (4138, 0.035063119802781935), (4139, 0.054102877499151845), (4140, 0.0), (4141, 0.01598037746785258), (4142, 0.008017346262284536), (4143, 0.005636851576654294), (4144, 0.0), (4145, 0.0), (4146, 0.018189224740995952), (4147, 0.0), (4148, 0.04668224006803583), (4149, 0.034558936231801965), (4150, 0.01171166210749822), (4151, 0.0), (4152, 0.02084104717218504), (4153, 0.025620653190473384), (4154, 0.019738615721966925), (4155, 0.0), (4156, 0.026557520001986044), (4157, 0.0), (4158, 0.029350497764079345), (4159, 0.0), (4160, 0.0), (4161, 0.0), (4162, 0.0), (4163, 0.0), (4164, 0.008184130263979504), (4165, 0.12836758229333717), (4166, 0.0), (4167, 0.0), (4168, 0.032892706846482565), (4169, 0.0), (4170, 0.0), (4171, 0.0), (4172, 0.0), (4173, 0.0), (4174, 0.0), (4175, 0.01098605561023151), (4176, 0.0), (4177, 0.0), (4178, 0.009409815308663333), (4179, 0.0), (4180, 0.0), (4181, 0.07575835386593731), (4182, 0.007827594511007544), (4183, 0.0), (4184, 0.01935757505167241), (4185, 0.007032124052638304), (4186, 0.005740335584749179), (4187, 0.010168347844786036), (4188, 0.006230730770360773), (4189, 0.009166675578831216), (4190, 0.0), (4191, 0.0), (4192, 0.008677999955057348), (4193, 0.005702843493297426), (4194, 0.012636809877837774), (4195, 0.0), (4196, 0.0), (4197, 0.034847646995090124), (4198, 0.0), (4199, 0.007779450934439994), (4200, 0.03412105346666149), (4201, 0.018478544316744668), (4202, 0.008768484823333339), (4203, 0.010387760706702852), (4204, 0.0), (4205, 0.0), (4206, 0.0), (4207, 0.0), (4208, 0.022228320192729377), (4209, 0.012642672536165515), (4210, 0.006360588385707969), (4211, 0.006155660047917615), (4212, 0.0), (4213, 0.0), (4214, 0.0), (4215, 0.0), (4216, 0.008660473208503085), (4217, 0.01715787485087839), (4218, 0.0), (4219, 0.0), (4220, 0.0), (4221, 0.008384165252939894), (4222, 0.0), (4223, 0.0), (4224, 0.006132813262677693), (4225, 0.0), (4226, 0.0), (4227, 0.07787855179683227), (4228, 0.0), (4229, 0.0), (4230, 0.0), (4231, 0.00955959454532078), (4232, 0.0352914600854058), (4233, 0.01613356082651099), (4234, 0.026732141202587958), (4235, 0.008211068241546753), (4236, 0.005799440696708882), (4237, 0.0), (4238, 0.13764338916586494), (4239, 0.0), (4240, 0.1261859269522075), (4241, 0.006201858095087563), (4242, 0.0222663753036337), (4243, 0.0), (4244, 0.017450588551010893), (4245, 0.0), (4246, 0.01697015639844775), (4247, 0.03315297613033623), (4248, 0.006233747219191612), (4249, 0.006470242805794846), (4250, 0.022764463091922253), (4251, 0.0), (4252, 0.0), (4253, 0.0), (4254, 0.0), (4255, 0.006356932312765724), (4256, 0.0335687339947356), (4257, 0.0), (4258, 0.0), (4259, 0.0), (4260, 0.0), (4261, 0.027507857985142336), (4262, 0.0), (4263, 0.0), (4264, 0.02770580509760789), (4265, 0.009484131952523426), (4266, 0.032453126754755396), (4267, 0.0), (4268, 0.008925368315981817), (4269, 0.0), (4270, 0.0), (4271, 0.0), (4272, 0.005949111728524951), (4273, 0.0), (4274, 0.022039128710672606), (4275, 0.0), (4276, 0.03256525451823288), (4277, 0.0), (4278, 0.0), (4279, 0.0), (4280, 0.048527775660962176), (4281, 0.031671101330584345), (4282, 0.0), (4283, 0.006392187157161917), (4284, 0.033539850150880526), (4285, 0.053840476155943916), (4286, 0.0), (4287, 0.0), (4288, 0.009117451282975166), (4289, 0.016212581306351566), (4290, 0.0), (4291, 0.0), (4292, 0.026458133394830947), (4293, 0.01699754973188354), (4294, 0.006422608759283433), (4295, 0.0), (4296, 0.0), (4297, 0.0325578137045124), (4298, 0.0), (4299, 0.026750756872444215), (4300, 0.034450156823208816), (4301, 0.0), (4302, 0.027453978179800134), (4303, 0.0), (4304, 0.0), (4305, 0.03773022875671599), (4306, 0.0), (4307, 0.0), (4308, 0.0), (4309, 0.0), (4310, 0.006277235694904252), (4311, 0.0), (4312, 0.030206337938945175), (4313, 0.0), (4314, 0.0), (4315, 0.0), (4316, 0.0), (4317, 0.0), (4318, 0.018771539076363666), (4319, 0.0), (4320, 0.0), (4321, 0.0), (4322, 0.0), (4323, 0.0), (4324, 0.0), (4325, 0.01412860477900146), (4326, 0.0), (4327, 0.0), (4328, 0.0058581904355599), (4329, 0.018240377593716262), (4330, 0.0), (4331, 0.0), (4332, 0.0), (4333, 0.0), (4334, 0.022577034997426883), (4335, 0.050676083571092136), (4336, 0.0), (4337, 0.0), (4338, 0.1071238495409797), (4339, 0.0293783708120147), (4340, 0.0), (4341, 0.0), (4342, 0.0), (4343, 0.0), (4344, 0.018672669995366414), (4345, 0.005948210798142749), (4346, 0.025342779058826287), (4347, 0.0), (4348, 0.0), (4349, 0.0), (4350, 0.0), (4351, 0.0), (4352, 0.04623298832752439), (4353, 0.005445809942290048), (4354, 0.0), (4355, 0.010991444248822417), (4356, 0.00959521834185367), (4357, 0.0), (4358, 0.0), (4359, 0.0), (4360, 0.0), (4361, 0.0), (4362, 0.0), (4363, 0.0), (4364, 0.03964622657792608), (4365, 0.01924039364480667), (4366, 0.017334584497704218), (4367, 0.0), (4368, 0.0), (4369, 0.0), (4370, 0.0), (4371, 0.01904982200075311), (4372, 0.0), (4373, 0.02116463757268538), (4374, 0.04832771192206683), (4375, 0.0), (4376, 0.035220102466883584), (4377, 0.0), (4378, 0.0), (4379, 0.04417399541217636), (4380, 0.028739692733080517), (4381, 0.0), (4382, 0.0), (4383, 0.056222755534226565), (4384, 0.0066419252519522905), (4385, 0.029752097895393296), (4386, 0.0), (4387, 0.00873818763991176), (4388, 0.0), (4389, 0.0387298523426211), (4390, 0.01582884868619905), (4391, 0.022075607613043925), (4392, 0.006603227398838972), (4393, 0.007074099955262433), (4394, 0.0), (4395, 0.05318213445686072), (4396, 0.011543122428068169), (4397, 0.0), (4398, 0.0), (4399, 0.0), (4400, 0.0), (4401, 0.024405738108494338), (4402, 0.0), (4403, 0.011422195883854984), (4404, 0.0), (4405, 0.0), (4406, 0.023105414822184353), (4407, 0.0), (4408, 0.0), (4409, 0.0), (4410, 0.00659934775451121), (4411, 0.0), (4412, 0.04161925986256142), (4413, 0.0), (4414, 0.0), (4415, 0.0), (4416, 0.0), (4417, 0.020832416299238043), (4418, 0.0), (4419, 0.00653740261526502), (4420, 0.0), (4421, 0.0), (4422, 0.0), (4423, 0.0), (4424, 0.0), (4425, 0.0), (4426, 0.0), (4427, 0.0), (4428, 0.01686831254107431), (4429, 0.005444751129071247), (4430, 0.0065655643223678384), (4431, 0.0), (4432, 0.01451922943114505), (4433, 0.0), (4434, 0.0), (4435, 0.015305113413202894), (4436, 0.027550730335644286), (4437, 0.04256052596209584), (4438, 0.0), (4439, 0.005763494297005678), (4440, 0.019480168449396623), (4441, 0.009800778116369964), (4442, 0.008692346602900258), (4443, 0.007681969717233574), (4444, 0.008214511171408135), (4445, 0.004707611739050921), (4446, 0.0), (4447, 0.005689258827103103), (4448, 0.0), (4449, 0.0), (4450, 0.022648714638361316), (4451, 0.0), (4452, 0.0), (4453, 0.03139151983617705), (4454, 0.0), (4455, 0.0), (4456, 0.006458026029631352), (4457, 0.017699022890739494), (4458, 0.0), (4459, 0.0), (4460, 0.0), (4461, 0.0), (4462, 0.007086563728153866), (4463, 0.01145217082029983), (4464, 0.0), (4465, 0.020541240258105373), (4466, 0.02274605907551283), (4467, 0.0225638915411521), (4468, 0.06354170105046282), (4469, 0.011196895853156127), (4470, 0.0), (4471, 0.0), (4472, 0.031088938181680653), (4473, 0.0), (4474, 0.028140392394821072), (4475, 0.008058670804988564), (4476, 0.0), (4477, 0.017795850903606362), (4478, 0.0), (4479, 0.0), (4480, 0.0), (4481, 0.01455378345660361), (4482, 0.010232952041863603), (4483, 0.0), (4484, 0.0), (4485, 0.017981899346129135), (4486, 0.015788661761651297), (4487, 0.021521064956307893), (4488, 0.029635371119841925), (4489, 0.0), (4490, 0.03334223358887532), (4491, 0.006823239704271265), (4492, 0.0), (4493, 0.030448216582630874), (4494, 0.0), (4495, 0.0), (4496, 0.0), (4497, 0.0), (4498, 0.0), (4499, 0.0), (4500, 0.0), (4501, 0.0), (4502, 0.024409662801244465), (4503, 0.025767698542785718), (4504, 0.0), (4505, 0.0), (4506, 0.0), (4507, 0.0), (4508, 0.0), (4509, 0.04057919357463651), (4510, 0.00951180310773903), (4511, 0.01766877129330696), (4512, 0.010041244355222741), (4513, 0.0), (4514, 0.0), (4515, 0.0), (4516, 0.0), (4517, 0.010379748911588901), (4518, 0.0), (4519, 0.0), (4520, 0.0), (4521, 0.0), (4522, 0.0), (4523, 0.0), (4524, 0.02119895660376794), (4525, 0.0), (4526, 0.0), (4527, 0.0), (4528, 0.0), (4529, 0.0), (4530, 0.0), (4531, 0.021365579980937417), (4532, 0.0), (4533, 0.0), (4534, 0.0060990115842477575), (4535, 0.024449448159641833), (4536, 0.0), (4537, 0.0), (4538, 0.0), (4539, 0.0), (4540, 0.0), (4541, 0.0), (4542, 0.0), (4543, 0.014671925552900224), (4544, 0.05304879066548924), (4545, 0.0), (4546, 0.02823578130259778), (4547, 0.04569289886886594), (4548, 0.0), (4549, 0.02666327613077504), (4550, 0.006079242692419046), (4551, 0.009917698781953204), (4552, 0.0), (4553, 0.022340714916232605), (4554, 0.048254923682695114), (4555, 0.026773680382644608), (4556, 0.0), (4557, 0.016157908696641902), (4558, 0.02460506736660891), (4559, 0.0), (4560, 0.0), (4561, 0.0), (4562, 0.05611071035429682), (4563, 0.0), (4564, 0.006037988355019512), (4565, 0.0), (4566, 0.010876184223899271), (4567, 0.0), (4568, 0.005861332235496887), (4569, 0.08433431930170429), (4570, 0.0), (4571, 0.0), (4572, 0.0), (4573, 0.006079094070865579), (4574, 0.0), (4575, 0.0), (4576, 0.0), (4577, 0.0), (4578, 0.0), (4579, 0.0), (4580, 0.0), (4581, 0.037421894503359955), (4582, 0.030490798952650087), (4583, 0.047805274707957014), (4584, 0.0), (4585, 0.044273469853531644), (4586, 0.006529803618015304), (4587, 0.0), (4588, 0.021155294795756386), (4589, 0.0073398082192425405), (4590, 0.005615213499242387), (4591, 0.005832261325759244), (4592, 0.0), (4593, 0.011472559551139343), (4594, 0.01215245945604005), (4595, 0.05717818976767293), (4596, 0.0), (4597, 0.007265697029350018), (4598, 0.0), (4599, 0.0), (4600, 0.0057387415979611965), (4601, 0.011292789070472457), (4602, 0.011319810430102408), (4603, 0.028260844872037606), (4604, 0.0), (4605, 0.0), (4606, 0.007938921523900213), (4607, 0.01498193687858566), (4608, 0.005564808108091286), (4609, 0.05395429012687854), (4610, 0.03294827344302127), (4611, 0.0), (4612, 0.12209614621520076), (4613, 0.010922052956582495), (4614, 0.0), (4615, 0.0), (4616, 0.0), (4617, 0.13512905770300632), (4618, 0.0), (4619, 0.01680648239646857), (4620, 0.009426804520583257), (4621, 0.0), (4622, 0.023187127182311595), (4623, 0.008929201692494372), (4624, 0.04293766997633404), (4625, 0.0), (4626, 0.022730737915074687), (4627, 0.0), (4628, 0.0), (4629, 0.00654172624333784), (4630, 0.007032357080706825), (4631, 0.00761511221122505), (4632, 0.0), (4633, 0.012125146573750578), (4634, 0.0), (4635, 0.0), (4636, 0.0), (4637, 0.010633792002137609), (4638, 0.019926227563800757), (4639, 0.0), (4640, 0.0), (4641, 0.0), (4642, 0.007400437253331284), (4643, 0.0), (4644, 0.0), (4645, 0.0), (4646, 0.021149986878465574), (4647, 0.036580801003072545), (4648, 0.0), (4649, 0.022073145123324672), (4650, 0.0), (4651, 0.0), (4652, 0.03104354681857214), (4653, 0.007666989675346123), (4654, 0.0), (4655, 0.0), (4656, 0.060220848606819956), (4657, 0.0), (4658, 0.00861548795534552), (4659, 0.03707063835314399), (4660, 0.03965898462198017), (4661, 0.005558603727943411), (4662, 0.01091651284801753), (4663, 0.009169986028393097), (4664, 0.025918873593403356), (4665, 0.017619004935877668), (4666, 0.008489714706694667), (4667, 0.0), (4668, 0.0), (4669, 0.009760340421699114), (4670, 0.020924530334914943), (4671, 0.0), (4672, 0.0), (4673, 0.045391547389778346), (4674, 0.008286567338797188), (4675, 0.03405444459822422), (4676, 0.03051714159994227), (4677, 0.02207850929553405), (4678, 0.01054497581978017), (4679, 0.057354692717095354), (4680, 0.0), (4681, 0.0), (4682, 0.0060848385565100156), (4683, 0.02191767202747746), (4684, 0.015544505717122674), (4685, 0.0), (4686, 0.0), (4687, 0.0), (4688, 0.0), (4689, 0.0), (4690, 0.005880846161809722), (4691, 0.0), (4692, 0.0), (4693, 0.0), (4694, 0.0), (4695, 0.0), (4696, 0.0), (4697, 0.02030492031554293), (4698, 0.007565819508117862), (4699, 0.0), (4700, 0.0), (4701, 0.012296573425553597), (4702, 0.0), (4703, 0.040625155047442386), (4704, 0.0), (4705, 0.008965736537602693), (4706, 0.0), (4707, 0.010037259302757907), (4708, 0.006222985094401891), (4709, 0.020704735122386783), (4710, 0.0), (4711, 0.0), (4712, 0.0), (4713, 0.0), (4714, 0.02500862802882563), (4715, 0.0), (4716, 0.006499243338666494), (4717, 0.0), (4718, 0.0), (4719, 0.0), (4720, 0.0), (4721, 0.0), (4722, 0.019430562735685664), (4723, 0.007667203770243244), (4724, 0.011046971913275527), (4725, 0.034320894068786446), (4726, 0.0), (4727, 0.01636365478329157), (4728, 0.0), (4729, 0.0), (4730, 0.026021557568778643), (4731, 0.0), (4732, 0.0), (4733, 0.04223683642318975), (4734, 0.0), (4735, 0.010604500218520744), (4736, 0.010311053953600208), (4737, 0.0), (4738, 0.0), (4739, 0.03106214085713869), (4740, 0.0), (4741, 0.0071458383356856345), (4742, 0.006961797169641897), (4743, 0.006118626396075159), (4744, 0.0), (4745, 0.0), (4746, 0.0), (4747, 0.029404485840264283), (4748, 0.0), (4749, 0.02384059393602948), (4750, 0.0), (4751, 0.033735865268086515), (4752, 0.004491875335384817), (4753, 0.0), (4754, 0.0061747497614951215), (4755, 0.0), (4756, 0.0184388863146731), (4757, 0.0), (4758, 0.0), (4759, 0.0)]\n"
          ]
        }
      ]
    },
    {
      "cell_type": "code",
      "source": [
        "len(Recomendation_Score)"
      ],
      "metadata": {
        "colab": {
          "base_uri": "https://localhost:8080/"
        },
        "id": "in9jEKRuv5qJ",
        "outputId": "52528595-40fb-4d38-8d38-ba0bc7293d6c"
      },
      "execution_count": null,
      "outputs": [
        {
          "output_type": "execute_result",
          "data": {
            "text/plain": [
              "4760"
            ]
          },
          "metadata": {},
          "execution_count": 52
        }
      ]
    },
    {
      "cell_type": "markdown",
      "source": [
        "# **Get All Movies Sort Based On Recommendation Score Wrt Favorite Movie**"
      ],
      "metadata": {
        "id": "6rq6TB_fv_ln"
      }
    },
    {
      "cell_type": "code",
      "source": [
        "Sorted_Similar_Movies = sorted(Recomendation_Score, key = lambda x:x[1], reverse = True)\n",
        "print(Sorted_Similar_Movies)"
      ],
      "metadata": {
        "colab": {
          "base_uri": "https://localhost:8080/"
        },
        "id": "KGeV-CffwCIB",
        "outputId": "eb4bfcc2-ece8-4e56-c548-92d70f5e3f6e"
      },
      "execution_count": null,
      "outputs": [
        {
          "output_type": "stream",
          "name": "stdout",
          "text": [
            "[(3453, 1.0), (2306, 0.16556097189777474), (3323, 0.1636097582075929), (1015, 0.14958090783032435), (4238, 0.13764338916586494), (3532, 0.13580748561964842), (4617, 0.13512905770300632), (3908, 0.12995982789727992), (4165, 0.12836758229333717), (4240, 0.1261859269522075), (3720, 0.12417594819422723), (4612, 0.12209614621520076), (3191, 0.12143432057990541), (797, 0.11708710909086502), (1783, 0.11283517785513135), (763, 0.11135700129535202), (2578, 0.10739638935475572), (4338, 0.1071238495409797), (3154, 0.10691708739577496), (2319, 0.10446761033085039), (728, 0.10366156963875639), (2926, 0.10257000575035882), (1022, 0.10115741407535944), (3817, 0.09993842001012343), (1207, 0.09968789683006125), (504, 0.09866934991218557), (2600, 0.09759848644207797), (3247, 0.09529307318178964), (162, 0.0944572301630358), (1056, 0.0932942029513594), (2598, 0.09279120115683989), (1224, 0.09252023713497708), (3232, 0.09186662779741672), (3525, 0.09071721616376148), (1135, 0.08918770064686063), (1807, 0.0881217582070819), (1233, 0.0879818837328816), (4569, 0.08433431930170429), (3742, 0.08294870834385355), (3468, 0.07826087946268996), (151, 0.0779191446161612), (4227, 0.07787855179683227), (1139, 0.07702804060485015), (389, 0.07685972688355922), (1115, 0.0763036636523532), (38, 0.07599304036286364), (4181, 0.07575835386593731), (1091, 0.07524300119225831), (613, 0.07511940935770899), (2791, 0.07499133324341976), (2280, 0.07459812858451233), (1554, 0.07370779563939285), (3450, 0.07354968709572846), (2547, 0.07330678191492054), (1031, 0.07307436674697546), (21, 0.0727154172359196), (1749, 0.071724536864036), (3516, 0.07160011613306377), (913, 0.07133373311540893), (440, 0.07095423500535897), (1122, 0.0707659873950611), (3097, 0.0698309060153951), (676, 0.06936292016421852), (123, 0.06928632776358978), (3421, 0.0685025615053746), (1742, 0.06849794274204517), (2162, 0.06847782818587102), (497, 0.06781946781123306), (2209, 0.06745848167641366), (666, 0.06723352459647815), (1939, 0.06717876586562635), (68, 0.06716320918151258), (1678, 0.06679608932364907), (1503, 0.06619947004786592), (1815, 0.06619433255712412), (7, 0.0661220936276484), (697, 0.06610098590752989), (2915, 0.06589383436870826), (3266, 0.0654520622887043), (3597, 0.06481251417938816), (683, 0.06455536842649308), (2205, 0.06433346377465908), (3483, 0.06376646218518049), (2815, 0.06370228185201626), (4468, 0.06354170105046282), (4088, 0.06344932369627501), (2919, 0.06325320807187125), (343, 0.0631721622619113), (139, 0.06303207654919274), (40, 0.06301945485371047), (48, 0.06300706281058072), (3115, 0.06297660912192246), (181, 0.06290702823807393), (3797, 0.06259793746251284), (2442, 0.06254355526354556), (2147, 0.06231839478427234), (317, 0.062202861205701954), (15, 0.06169283707538069), (2859, 0.06113143237993414), (2713, 0.061029942165283124), (3897, 0.060829656772074546), (2470, 0.06052117500101421), (3850, 0.06051821057418624), (4656, 0.060220848606819956), (167, 0.05949154070498358), (718, 0.05942036272431112), (3697, 0.05903389583526833), (1703, 0.05900394806340293), (4107, 0.05842409607222425), (2158, 0.0581910399350428), (572, 0.05805301728594644), (812, 0.057657540412017365), (4679, 0.057354692717095354), (4595, 0.05717818976767293), (3586, 0.056987231940062874), (461, 0.056956192734455846), (1137, 0.05684659692935755), (1444, 0.056746319207240964), (234, 0.05666079318156876), (3066, 0.0563733715014811), (4383, 0.056222755534226565), (4562, 0.05611071035429682), (1017, 0.055580711251450324), (1791, 0.055519041226079105), (2144, 0.055281550016164145), (4032, 0.05520999292796185), (669, 0.054821906812935785), (2235, 0.05478032035820074), (1985, 0.05462964665990511), (3828, 0.054564804655124054), (1143, 0.05450763456583187), (4087, 0.05427316525302931), (710, 0.0542338925997158), (2539, 0.05421966541804503), (4139, 0.054102877499151845), (878, 0.05401004812636277), (2177, 0.053981741632848676), (1044, 0.053979856065043796), (3959, 0.05396816007966127), (4609, 0.05395429012687854), (4285, 0.053840476155943916), (55, 0.053615776868160187), (512, 0.0536061891958509), (3869, 0.05343983294644998), (4395, 0.05318213445686072), (774, 0.053117385840509145), (276, 0.053062584961217754), (4544, 0.05304879066548924), (3505, 0.05287691669156474), (3462, 0.05259249966131949), (1296, 0.052309084733671046), (56, 0.05224304889320444), (166, 0.0519914628812725), (2910, 0.05180960087175661), (3234, 0.051718001126812865), (4061, 0.05168198053549441), (1359, 0.05164433864624246), (2454, 0.051349759490656684), (1711, 0.051348483820652185), (3973, 0.05117061678052952), (28, 0.05112873880574595), (3096, 0.05107772921220196), (651, 0.05073362122652974), (4335, 0.050676083571092136), (484, 0.05052968343166711), (1183, 0.05046342573177438), (1240, 0.050321710953824345), (3741, 0.05031365267009055), (4046, 0.05029632638976148), (1799, 0.05024921103644295), (1808, 0.0501475870465425), (2119, 0.05009653440869275), (122, 0.05008182597554399), (2278, 0.04996078030373186), (671, 0.04962736390110663), (1192, 0.049573215804158514), (34, 0.04923457125216391), (2944, 0.04905582632931795), (2439, 0.04905406543209913), (3121, 0.04901890722263051), (85, 0.04897802642410158), (201, 0.04889637095213631), (2060, 0.048896088432360665), (756, 0.04875081305827236), (2318, 0.04860739502115605), (3466, 0.04857348198354119), (503, 0.04854934050537583), (1732, 0.048528938023141184), (4280, 0.048527775660962176), (4374, 0.04832771192206683), (287, 0.0483104682154243), (4082, 0.04828943625522064), (4554, 0.048254923682695114), (2668, 0.048221255663921464), (1084, 0.048159046553130844), (4135, 0.04798616415291253), (4583, 0.047805274707957014), (3907, 0.04759973254056403), (1681, 0.04755361210113936), (1948, 0.0475434716399102), (322, 0.047484235769131605), (1535, 0.04725486511500888), (1798, 0.04722577180003453), (2067, 0.04716692020457089), (4148, 0.04668224006803583), (2809, 0.04668137285715437), (1168, 0.046629490809950346), (1980, 0.046593190301451065), (2624, 0.046531155427510726), (2329, 0.046409231261717095), (2870, 0.046339152523342295), (871, 0.04627909494886929), (2087, 0.0462774480470526), (4352, 0.04623298832752439), (746, 0.04620444048133793), (283, 0.04618657958292878), (1716, 0.04611912513352802), (257, 0.046095814721496896), (653, 0.04607143281662782), (959, 0.04595729385878367), (3452, 0.04592157880837221), (1129, 0.04589681240291004), (3992, 0.04588736706642388), (4015, 0.045796704715577716), (1267, 0.04573943556947603), (4547, 0.04569289886886594), (619, 0.045666855136263264), (928, 0.045651424331785914), (42, 0.04550782137356428), (422, 0.045442968870350695), (2016, 0.0454140308706657), (4673, 0.045391547389778346), (223, 0.04514793213245426), (118, 0.04513746501381442), (1896, 0.045112489931104116), (1082, 0.04505936698611955), (1696, 0.04498936868424568), (841, 0.044595666008568444), (1369, 0.044497787816557194), (272, 0.044487002075266055), (3730, 0.044397643453509994), (4585, 0.044273469853531644), (2099, 0.04422437291823723), (4379, 0.04417399541217636), (328, 0.04409842492373955), (2124, 0.043998785818537875), (1480, 0.04397837766141798), (2901, 0.04388783557544301), (3508, 0.043784115001840436), (3612, 0.04370222065750594), (2219, 0.04332874073080092), (3671, 0.043223555145075386), (680, 0.04319245552217932), (329, 0.04316875201270496), (3583, 0.043062700856314785), (3885, 0.043042620392021017), (273, 0.04303695237041485), (4624, 0.04293766997633404), (952, 0.04281644335720279), (2406, 0.04271416737448534), (1249, 0.042695072734371106), (1430, 0.04262978395990284), (1271, 0.042612411482777654), (4437, 0.04256052596209584), (4058, 0.04251802064506634), (1387, 0.04230758880785027), (1534, 0.04226813837275523), (729, 0.042267303431983386), (1252, 0.04224125972366588), (4733, 0.04223683642318975), (4091, 0.04222866086359461), (2065, 0.04210503879995485), (102, 0.04198782468327325), (806, 0.04189280495596709), (1997, 0.041891735027272524), (2024, 0.04189113738428955), (3181, 0.04187960554106813), (3550, 0.04183864195553072), (1265, 0.04177019105535988), (1854, 0.04170946497423665), (1454, 0.04163266981253596), (54, 0.04163216150693673), (4412, 0.04161925986256142), (876, 0.041506583429802416), (3894, 0.04149632132458061), (6, 0.041350336790863265), (3860, 0.04128009868185883), (957, 0.04112804783546922), (3834, 0.04112118003230823), (555, 0.041091907414748934), (142, 0.04100085776844569), (564, 0.040999297177864484), (1170, 0.04099302116943208), (305, 0.04095505270588077), (1232, 0.04090789134738138), (606, 0.040900779101561244), (603, 0.04087747511797761), (3541, 0.040854368465023674), (2689, 0.04074037524999742), (2038, 0.04066951266344828), (4703, 0.040625155047442386), (1502, 0.04058507202928696), (4509, 0.04057919357463651), (3184, 0.04051391830788881), (3540, 0.040500012946783445), (29, 0.04049566667570715), (1003, 0.040485759485538335), (891, 0.04048344208903952), (3108, 0.04042559026593542), (1409, 0.040353681852611276), (1647, 0.040197681602798505), (193, 0.0398809792342329), (206, 0.03975315603821969), (4660, 0.03965898462198017), (4364, 0.03964622657792608), (1259, 0.039589329938298404), (298, 0.0394026419791866), (3840, 0.039398162523030675), (1708, 0.0392755190828156), (1443, 0.039106565667027346), (2277, 0.03895837499976804), (2631, 0.038885378123780706), (4098, 0.03885334712980895), (226, 0.038825758148409606), (4389, 0.0387298523426211), (2195, 0.038728693791379505), (2756, 0.038716848070526076), (1536, 0.03855511313975472), (918, 0.038369491385790516), (1863, 0.038301947981362966), (126, 0.03830141770856144), (2555, 0.03829228248403954), (2662, 0.038271064799244685), (372, 0.03815215078338671), (3708, 0.03809840660851714), (4007, 0.03800233830436888), (194, 0.03796201116045472), (2902, 0.03794062575626658), (3937, 0.03792992813314034), (3160, 0.03784419196219589), (3732, 0.03783862079858468), (4305, 0.03773022875671599), (2889, 0.03772255461312981), (84, 0.03762990357373687), (2573, 0.03760786830138137), (3773, 0.037588808052539335), (5, 0.037586805369265425), (1653, 0.03747802621829639), (41, 0.03746921529517898), (4581, 0.037421894503359955), (1597, 0.03740558167309581), (2575, 0.037361438237737), (1334, 0.037329795009206766), (2263, 0.03726798284031006), (2723, 0.03724066677555126), (2021, 0.03722047026577049), (1074, 0.03719043652808571), (4038, 0.03718768691536636), (77, 0.037115864724844655), (4659, 0.03707063835314399), (290, 0.03705160014089795), (2432, 0.037044798758108205), (368, 0.036977257339066344), (2105, 0.03697588069248011), (3878, 0.03690820831600598), (1237, 0.0368502279335), (2714, 0.03681380658204857), (93, 0.0368100830082894), (3953, 0.036807295100491355), (1685, 0.036738480499813014), (3163, 0.036651430787803606), (566, 0.036650443923460146), (2521, 0.036603144447886), (4647, 0.036580801003072545), (3882, 0.03654552130993083), (3939, 0.03649716372908794), (994, 0.03644965813948352), (3282, 0.03641810041641831), (2666, 0.03641102916811179), (931, 0.036339088711269014), (1335, 0.03622426059756259), (3956, 0.03618200221938127), (3149, 0.03614739469460194), (2798, 0.036078602190200454), (2178, 0.036063565807075176), (1069, 0.03598352686917779), (963, 0.035924860196647576), (3100, 0.035899887726249365), (2682, 0.035856954778502044), (59, 0.03583832987674119), (4023, 0.035778907347577195), (2769, 0.03576016583931654), (1943, 0.035640503507746626), (1281, 0.035630095119390574), (1230, 0.035587419328488974), (733, 0.03558074344064121), (3231, 0.03546915793343691), (231, 0.035310909492341114), (4232, 0.0352914600854058), (1338, 0.03527696190680795), (2963, 0.03523166143512128), (2430, 0.03523013946346674), (4376, 0.035220102466883584), (1465, 0.03521164866510775), (3068, 0.0351959770403316), (802, 0.03519061618736251), (1473, 0.03517134176852798), (3514, 0.03515400793633196), (977, 0.03508114678544641), (4138, 0.035063119802781935), (2749, 0.03497722062573236), (3515, 0.03496660479808831), (1853, 0.03492682132334701), (1436, 0.03491305609281346), (4045, 0.034859982783145685), (4197, 0.034847646995090124), (1154, 0.03479488367756849), (1393, 0.034647118637951876), (848, 0.03464479938091417), (1134, 0.034642625693208196), (981, 0.034599742688714755), (855, 0.034593423558841103), (1021, 0.03458795303990278), (997, 0.03456473740404492), (4149, 0.034558936231801965), (604, 0.034465698089694796), (526, 0.03445835660935951), (4300, 0.034450156823208816), (3873, 0.03438966377033401), (2693, 0.03434553124104931), (4725, 0.034320894068786446), (191, 0.03429025057283247), (2283, 0.03427365247618309), (3744, 0.03421638322232783), (4055, 0.034187936627484164), (4200, 0.03412105346666149), (215, 0.03411371785548654), (1707, 0.03410150441184549), (1509, 0.034094991527248035), (4675, 0.03405444459822422), (898, 0.03397965708215079), (2143, 0.033969054093431136), (1002, 0.033851879756045374), (2790, 0.033815138481125454), (4120, 0.03377085758314737), (4751, 0.033735865268086515), (4256, 0.0335687339947356), (4284, 0.033539850150880526), (2049, 0.03340057122471354), (327, 0.03339108129160112), (4490, 0.03334223358887532), (3456, 0.0332718851960536), (1034, 0.033253595307102576), (3985, 0.03319474580911625), (4247, 0.03315297613033623), (472, 0.033110306726588164), (1803, 0.03308691615188599), (333, 0.032978872185539465), (4610, 0.03294827344302127), (4168, 0.032892706846482565), (491, 0.032868213837777056), (794, 0.03274171244193023), (1802, 0.03273409369321135), (3022, 0.032708027723737286), (3405, 0.032665036543759934), (1907, 0.03261148520573688), (1014, 0.03257303241006139), (4276, 0.03256525451823288), (4297, 0.0325578137045124), (468, 0.032550185092328154), (3267, 0.03254492053062559), (4266, 0.032453126754755396), (3610, 0.032364589762026684), (1908, 0.03233236996111251), (881, 0.032300680270724996), (347, 0.032270347889043836), (1381, 0.03226359010178276), (614, 0.03225784758622045), (3811, 0.03222472322581413), (2097, 0.032206603043399736), (3972, 0.032202066089032984), (1641, 0.032200239733709425), (2180, 0.03213811248063073), (723, 0.032087571102011395), (1489, 0.03203987658968915), (1452, 0.03202335844915922), (4052, 0.032020099398800884), (3531, 0.03200465590242304), (537, 0.0320029319430592), (439, 0.03197217387392136), (4, 0.031966663139363735), (2093, 0.03191794860017184), (65, 0.03189318146807749), (681, 0.03183040788230052), (3738, 0.03181641853272099), (1188, 0.03179959011102484), (1011, 0.03175155923968325), (218, 0.031701366286753276), (4281, 0.031671101330584345), (2884, 0.03163312603417828), (1039, 0.031568160067234674), (3104, 0.03155909742423624), (1341, 0.031543131561626955), (3932, 0.031528015590833264), (3469, 0.03148527079545166), (3858, 0.031423327551097856), (1976, 0.031407348099885074), (2479, 0.03139521851430011), (4453, 0.03139151983617705), (3876, 0.031377721655340106), (827, 0.03130328473995315), (3837, 0.031298702108454694), (2726, 0.031283905307350965), (2803, 0.031262392341087325), (2843, 0.031220715853688883), (1651, 0.0312031450792832), (128, 0.03118992819963764), (2644, 0.03117761137502167), (3051, 0.031159232061719704), (2191, 0.03114120071066648), (2629, 0.031106493848265304), (3556, 0.03110200923701305), (4472, 0.031088938181680653), (4739, 0.03106214085713869), (4652, 0.03104354681857214), (3715, 0.03101491984722792), (4077, 0.03097880779877642), (1486, 0.03096267547677308), (1864, 0.030933497844503458), (235, 0.030929523706582727), (1349, 0.03087576333329646), (591, 0.030875701549428137), (69, 0.030870334739116094), (3207, 0.030859605325503206), (2233, 0.03085351428727797), (3802, 0.03078536971492506), (3787, 0.030779951097384586), (1810, 0.030748062253235786), (3716, 0.03072260283042214), (2898, 0.03063828979179436), (3008, 0.030634639800076285), (3045, 0.030618104522800622), (2429, 0.03058728869589766), (1829, 0.030567191379219323), (4676, 0.03051714159994227), (303, 0.030508660324011637), (2860, 0.030503640590885645), (3034, 0.030493955645132593), (4582, 0.030490798952650087), (3888, 0.03048061863688402), (2500, 0.030477290585957568), (2136, 0.0304706552333897), (2218, 0.03046432654878499), (4493, 0.030448216582630874), (2346, 0.03038729229821344), (1256, 0.03036631956912448), (3977, 0.030365112310125703), (1150, 0.030324487397545258), (246, 0.030323629601028947), (3692, 0.030271569731977394), (106, 0.030220502794700455), (4312, 0.030206337938945175), (205, 0.03019299942865732), (1148, 0.030175493322148382), (571, 0.030173364380261535), (1057, 0.030167561963845124), (2810, 0.030154231482891036), (3059, 0.030119514570660012), (872, 0.030098713439354642), (3131, 0.030079331758081466), (992, 0.03007800860822024), (904, 0.030075950753102133), (1934, 0.030067082385477582), (4105, 0.02999941408030915), (2729, 0.029994753028289328), (3384, 0.02995377554982538), (1280, 0.02993813135336433), (3997, 0.029931013816214425), (2293, 0.02986944818875388), (3275, 0.02986250917425317), (116, 0.02985552069116205), (3724, 0.02981110979434626), (3132, 0.029808036778877577), (211, 0.02980398879117401), (580, 0.029795708176476476), (1660, 0.02979205542327191), (4385, 0.029752097895393296), (1904, 0.029732859314485445), (2330, 0.029725913076387972), (220, 0.029723819474910727), (3747, 0.02969464928972506), (1793, 0.02964868552614427), (4488, 0.029635371119841925), (600, 0.029583734564501175), (599, 0.029578127700842304), (656, 0.029537208534218345), (3968, 0.02952434395976254), (367, 0.02951111610515262), (2413, 0.029491046608682597), (3513, 0.029456808014377223), (2217, 0.029432988410587106), (4747, 0.029404485840264283), (1396, 0.02940205572711569), (4339, 0.0293783708120147), (4100, 0.029368808117901844), (4158, 0.029350497764079345), (3134, 0.029343982651415197), (2572, 0.0293200055090898), (516, 0.029306025234470907), (2691, 0.02925036413825555), (2467, 0.029230414553479078), (517, 0.029217214935721325), (2484, 0.0292070634728224), (1806, 0.029177677759713007), (3798, 0.029162899796794425), (3448, 0.029157171876180662), (189, 0.02911423055392628), (1469, 0.02910582799756124), (3743, 0.029090655381740008), (384, 0.029078673707924833), (3653, 0.0290659500702088), (3084, 0.029063515940882002), (788, 0.029044439484279254), (1446, 0.029033397600522697), (3623, 0.02900297965417583), (3463, 0.02900232769003784), (297, 0.02899062585155741), (2456, 0.02898368922713576), (1993, 0.028926664911645382), (95, 0.028920760496821105), (902, 0.028840441490537955), (3225, 0.028810764356816822), (2715, 0.028757056388436134), (1967, 0.02875189886596643), (4380, 0.028739692733080517), (3690, 0.02873212888296563), (1111, 0.028730289417298886), (2955, 0.028710363536324057), (1865, 0.02869739365146812), (1108, 0.028686797549324773), (3150, 0.02867055039455396), (3006, 0.028601207986736932), (795, 0.028595825371966418), (1590, 0.028567988981673717), (1413, 0.02853332385306801), (563, 0.028524304083283703), (1304, 0.02852321492732952), (2091, 0.028506309675275034), (1458, 0.028500373095282278), (745, 0.02848226753295035), (2061, 0.028476270399033204), (3467, 0.028474376480253066), (3332, 0.028451671580618634), (4041, 0.02843677436187008), (1608, 0.028388369130465253), (1351, 0.02831832493014786), (258, 0.028306821426295918), (1515, 0.02829818351960833), (4603, 0.028260844872037606), (545, 0.02825267713711585), (2501, 0.0282502125084629), (4546, 0.02823578130259778), (39, 0.028230389546611126), (3427, 0.028221186530657638), (3153, 0.028217548175601057), (1151, 0.0281914013836452), (3367, 0.028159211890841394), (264, 0.028153685376903995), (4474, 0.028140392394821072), (1566, 0.028137563871421575), (4070, 0.02812016420322551), (4057, 0.028117248705883235), (3982, 0.028107940329768086), (135, 0.028090809126857515), (1269, 0.028069650037863908), (3955, 0.02805688633593622), (132, 0.02804504598044587), (1262, 0.02804004968538664), (1110, 0.02802717828531643), (2069, 0.028015229441297616), (4128, 0.02801232180410508), (2241, 0.02797838451579813), (259, 0.027954007224746488), (3839, 0.02794481248841714), (2850, 0.02794307082747501), (1719, 0.02793404029907596), (3270, 0.02793217978053887), (108, 0.02793117185070471), (621, 0.02791828415963262), (2286, 0.02791586191204048), (26, 0.02789919484031183), (3812, 0.027891036414127837), (1979, 0.02787683131976192), (674, 0.027869741517673713), (3226, 0.027864923218149883), (375, 0.027785458546433384), (1358, 0.027708929887010743), (3642, 0.02770591894791636), (4264, 0.02770580509760789), (1930, 0.027701303918707683), (3329, 0.027697528924452396), (1729, 0.02759423417251562), (2492, 0.02757413701007098), (3944, 0.027554565265388162), (4436, 0.027550730335644286), (3333, 0.02751474174820854), (4261, 0.027507857985142336), (90, 0.027492822018660927), (2340, 0.027470516538508915), (2232, 0.02746744235889345), (4302, 0.027453978179800134), (3368, 0.02744919212973687), (567, 0.027416621174350755), (2558, 0.0274062409951909), (486, 0.027382356328041736), (782, 0.02736126476227238), (1315, 0.027347085447642874), (1284, 0.02733630919274354), (152, 0.027303069861572857), (487, 0.027295588196542212), (554, 0.0272725884818125), (1592, 0.027267362752918464), (2487, 0.02724638635991248), (1437, 0.027235353580538725), (1645, 0.02716074832357336), (2409, 0.027157119366776717), (249, 0.027144767866548576), (261, 0.027125580102748147), (3998, 0.02708614418000034), (1560, 0.027084947633675426), (390, 0.02705991639340095), (1023, 0.02701742254463327), (2161, 0.026976829486817424), (24, 0.026954132747323393), (2680, 0.026949831953657046), (64, 0.02693650057732796), (654, 0.02692865083693006), (1185, 0.026917916318223017), (1285, 0.026916980547165327), (3595, 0.02689950079525802), (1036, 0.02689268863904396), (3605, 0.026877235002672875), (3480, 0.026866612249013308), (3965, 0.026851011056470114), (4011, 0.02677872364467606), (4555, 0.026773680382644608), (2711, 0.026751926566049473), (4299, 0.026750756872444215), (2789, 0.026733114917224774), (4234, 0.026732141202587958), (3412, 0.026725381990451456), (2950, 0.02671779970052092), (1933, 0.026710981353555218), (171, 0.02668773042028979), (370, 0.026682771399831863), (260, 0.026666815948686997), (4549, 0.02666327613077504), (3123, 0.026644447267795118), (1631, 0.026642777040560513), (3361, 0.026614255415069052), (1460, 0.026608445601671797), (263, 0.026605938885384362), (3286, 0.026604664692094764), (2023, 0.026593901982443463), (3328, 0.026589755607770604), (4156, 0.026557520001986044), (3089, 0.026540426423336087), (715, 0.02652285145690387), (3734, 0.02651732885561796), (3783, 0.026517038720265302), (1949, 0.026487985983334933), (2927, 0.026471053414684014), (4292, 0.026458133394830947), (3502, 0.026439821433556814), (573, 0.026439607606582847), (2899, 0.026429226317412624), (1579, 0.026427215587862266), (3133, 0.026426296724099213), (399, 0.026420966023059315), (3193, 0.026410520888335124), (3604, 0.02639937929548825), (751, 0.026359544692470354), (2811, 0.026320975670010523), (2837, 0.026316050425117657), (842, 0.026293192240012076), (638, 0.02628001604588002), (565, 0.026259596099794624), (492, 0.026249262556912213), (1912, 0.026235561421918865), (121, 0.026206535350332353), (1649, 0.026202120351580618), (3202, 0.026132671688068015), (46, 0.02613138143419646), (416, 0.026129224996325945), (624, 0.026080771808163164), (465, 0.026031711209412264), (4730, 0.026021557568778643), (2688, 0.025992566204808266), (3114, 0.02599105211227915), (3370, 0.02594214929064903), (1354, 0.025935810824405634), (4664, 0.025918873593403356), (3528, 0.025898847370142395), (1066, 0.025893991769463158), (379, 0.02589184655250976), (1216, 0.025856232619215387), (3923, 0.025833244681315357), (94, 0.025818662895231693), (3210, 0.02577178188807574), (160, 0.025770064554953037), (4503, 0.025767698542785718), (80, 0.025760913206079147), (1982, 0.02575182253514927), (3782, 0.025745467519923685), (1945, 0.02574373421874241), (1572, 0.02574349708728844), (2670, 0.025726901711573383), (2125, 0.025713598811620626), (3946, 0.025711799496123136), (397, 0.025706190186168102), (4153, 0.025620653190473384), (67, 0.025494456165363777), (3543, 0.025473261541039197), (2402, 0.025431540262959587), (1657, 0.025392220358871075), (2058, 0.025371463183725212), (687, 0.02536135163402249), (2269, 0.025352578853642345), (1483, 0.025351612621386854), (4346, 0.025342779058826287), (2649, 0.02531712679069654), (2587, 0.025303884054948315), (3408, 0.025261060096829317), (1251, 0.025231673502115286), (845, 0.025162824831426303), (1, 0.0251122418417866), (380, 0.025094608833414606), (386, 0.025027593279842435), (4714, 0.02500862802882563), (1468, 0.02492078619486405), (2982, 0.02485939673783075), (2276, 0.024851763233976372), (2357, 0.024798619326430894), (4558, 0.02460506736660891), (2210, 0.024598743854610236), (829, 0.02455132978292669), (2960, 0.024514388320686965), (3158, 0.024482998856750773), (3385, 0.024482385103456204), (4535, 0.024449448159641833), (3933, 0.02442582596292267), (4502, 0.024409662801244465), (4401, 0.024405738108494338), (1772, 0.02439717186020167), (762, 0.024369481585343442), (747, 0.024353992864953638), (3080, 0.02434813466647067), (2962, 0.02431326528129331), (3180, 0.024302405204931533), (663, 0.024278032608163864), (735, 0.02425745550152151), (1212, 0.02425449763775244), (1836, 0.024253676982666107), (1340, 0.02421510494807414), (3001, 0.02420709982353931), (3688, 0.024204242468582934), (1546, 0.024186696585339673), (403, 0.0241679785364812), (4103, 0.024165447855655726), (2118, 0.02415036149141146), (686, 0.02414231968524692), (2762, 0.024129923533841212), (1816, 0.024091685607448964), (1172, 0.024064594425638373), (1745, 0.02406424210159356), (394, 0.024027130500822468), (3693, 0.02398820034361549), (601, 0.023984376299019117), (1046, 0.02387981662762695), (3714, 0.02387633176427877), (3356, 0.023858765963592057), (2622, 0.023853123484146407), (4749, 0.02384059393602948), (3855, 0.023827794341908133), (1937, 0.023764755305582787), (417, 0.023732439668582853), (47, 0.023722266143461092), (3443, 0.02370718110969336), (3889, 0.023690278406967583), (2114, 0.023669462369323758), (78, 0.02363304155545056), (2599, 0.02360939502309611), (4020, 0.02357980306005585), (369, 0.023576343342773462), (314, 0.02356802502937748), (4076, 0.02353283490648822), (430, 0.023511412167815306), (1883, 0.023507993331810206), (2451, 0.0234609158682134), (3751, 0.023436138868016033), (405, 0.023417918017919447), (1140, 0.02338901954987067), (1575, 0.0233888058975265), (413, 0.023325697717339968), (1796, 0.02331180676242154), (2086, 0.02326519075500016), (1205, 0.02324250387505481), (74, 0.023232003590612525), (1680, 0.023204224331423814), (4622, 0.023187127182311595), (4054, 0.02316240443833137), (170, 0.023149604730875697), (1805, 0.023140711142888067), (3048, 0.023139335369219964), (2337, 0.02312693400858566), (4406, 0.023105414822184353), (1013, 0.02308123612528718), (3978, 0.0230767454133267), (4094, 0.02304516707415846), (13, 0.023037220818477287), (2641, 0.023032040757140843), (1530, 0.02302458690201561), (3305, 0.02301876142319659), (334, 0.02299029547462884), (602, 0.022954931687038046), (76, 0.022940311628481244), (553, 0.022871705559809302), (889, 0.02286233090631766), (1164, 0.0228609955166941), (3919, 0.022834988450928247), (2605, 0.022802898292693604), (2090, 0.022798041008735684), (4250, 0.022764463091922253), (4466, 0.02274605907551283), (418, 0.02274521675917348), (4626, 0.022730737915074687), (1083, 0.022727884139986346), (1613, 0.02272128054200999), (27, 0.022691092479069367), (1911, 0.022684470531167702), (2771, 0.02267784965898518), (1305, 0.0226540790806915), (4450, 0.022648714638361316), (1195, 0.02264302538177242), (1721, 0.022639478080942983), (2166, 0.022636108233832462), (4334, 0.022577034997426883), (4467, 0.0225638915411521), (2076, 0.022540738573213103), (4101, 0.022521694592264316), (778, 0.022480231888649404), (3233, 0.022472325684442164), (509, 0.022401563444614598), (2777, 0.02238656528530523), (2078, 0.022360045439838234), (3542, 0.02234978009125933), (4553, 0.022340714916232605), (243, 0.02227072378084669), (4242, 0.0222663753036337), (2708, 0.02226568956298282), (1250, 0.022264132659217728), (2421, 0.022256549840259075), (750, 0.022254238226728642), (4208, 0.022228320192729377), (1101, 0.022203157714009075), (1361, 0.02218913828017566), (3576, 0.02218581151023105), (540, 0.022183073290939367), (3306, 0.02218061703829583), (2584, 0.02216206212689521), (1991, 0.02215968410524618), (2814, 0.022143845761615693), (1467, 0.022117848176206347), (2274, 0.022115448608716802), (4014, 0.022101858338565913), (4677, 0.02207850929553405), (4391, 0.022075607613043925), (4649, 0.022073145123324672), (2564, 0.022069442953935904), (2834, 0.022039186732552882), (4274, 0.022039128710672606), (2557, 0.022032032665784487), (1184, 0.02199394477460693), (455, 0.02196361789735471), (3577, 0.021953984530892583), (378, 0.021937660695187218), (4683, 0.02191767202747746), (1505, 0.021907337394440025), (2638, 0.02190474771606237), (2804, 0.021850787865429416), (3043, 0.02182450492724726), (79, 0.02177599328605068), (3594, 0.02175780860067196), (460, 0.02174257156879525), (89, 0.021737325768534377), (3277, 0.02172722720446656), (22, 0.02168945465313273), (2768, 0.02165279651010174), (1295, 0.021629978515143252), (2471, 0.021593360155726524), (769, 0.021558145187396748), (4487, 0.021521064956307893), (4062, 0.02151648137636294), (3301, 0.02145855248850444), (1290, 0.021434202714639475), (3685, 0.021429912853512822), (1097, 0.02142269526908124), (1371, 0.021415537203697835), (150, 0.021383154046998816), (888, 0.021366840255041517), (4531, 0.021365579980937417), (531, 0.021328778066608302), (3709, 0.02129092015704175), (2824, 0.02128153658453899), (3625, 0.021264134246205692), (3994, 0.021227890459468133), (1966, 0.021225687541911613), (4524, 0.02119895660376794), (685, 0.021197133262850006), (1245, 0.021174269315112453), (4373, 0.02116463757268538), (4588, 0.021155294795756386), (2062, 0.021151374948202985), (4646, 0.021149986878465574), (1146, 0.021121095923747515), (2828, 0.021114644453100583), (2571, 0.021104595455319963), (3298, 0.021100873291691268), (3641, 0.021096580354690753), (546, 0.021076115889633092), (19, 0.021075737843624674), (2229, 0.021068616053557417), (3141, 0.021045303311656393), (675, 0.021024338162709936), (678, 0.021017235559131445), (3900, 0.02100511470458756), (3886, 0.02097839588169156), (427, 0.020952487263670654), (4670, 0.020924530334914943), (1187, 0.02087159201158442), (711, 0.020866519530316423), (3105, 0.02085883364332219), (4152, 0.02084104717218504), (4417, 0.020832416299238043), (2032, 0.020817051703793304), (2618, 0.020804272989395686), (561, 0.020732102720254372), (45, 0.02073165339618232), (4075, 0.020728281802069305), (4709, 0.020704735122386783), (2995, 0.020702762231160177), (1664, 0.020688405652811156), (2275, 0.02062799438212383), (3021, 0.020615976332633536), (1501, 0.02060856085153621), (1756, 0.020599119714026108), (2096, 0.020548805998636406), (947, 0.02054750854841582), (1627, 0.020545635794920504), (31, 0.020543751336198138), (4465, 0.020541240258105373), (307, 0.020489659579956927), (903, 0.02047596736232881), (702, 0.020437197391178587), (1903, 0.020434062326045447), (2496, 0.020428060828183832), (1234, 0.02041505071635189), (3966, 0.02037263138050445), (1662, 0.020359082069166253), (1433, 0.02032245857171104), (2450, 0.02030659548359127), (4697, 0.02030492031554293), (3718, 0.02025555655709047), (1821, 0.020230650602908073), (3400, 0.020179665394259465), (2102, 0.020172673467300443), (4063, 0.02015925168454068), (1477, 0.020148109948044005), (3294, 0.02014752015127853), (3960, 0.02013942473865178), (3079, 0.020131619743266892), (831, 0.02012948809971209), (3382, 0.020116855523597172), (3389, 0.020090195348207603), (1047, 0.020086398983990235), (1984, 0.020077111113153863), (3206, 0.020070063237292837), (2518, 0.020054395175482707), (1584, 0.019949008915806428), (1055, 0.019945952172867543), (776, 0.01993731149343708), (4638, 0.019926227563800757), (1629, 0.019900591008958732), (511, 0.019894257201839186), (2913, 0.019844508655111788), (3964, 0.019839972558718826), (2948, 0.019836553717571294), (3047, 0.019836259456856152), (2265, 0.019830525087706108), (2321, 0.019807248029880303), (1171, 0.019787164602377002), (4154, 0.019738615721966925), (4034, 0.019708283686987852), (3122, 0.019684863023156394), (780, 0.019632345716631562), (2645, 0.019603431241989454), (3417, 0.01956553197400982), (3519, 0.01955806641680456), (932, 0.019527025929678952), (1750, 0.019521898925851024), (1095, 0.01952147106120054), (818, 0.019493718225058326), (1479, 0.019483882774469725), (4440, 0.019480168449396623), (3201, 0.01947065163067013), (2908, 0.019442426795781013), (4722, 0.019430562735685664), (2724, 0.01941062129942087), (4184, 0.01935757505167241), (252, 0.01934915628197953), (91, 0.0193385153924829), (1466, 0.019337983889075882), (3063, 0.019317526367312342), (1563, 0.01929989801782429), (2258, 0.019263192628044584), (4365, 0.01924039364480667), (2250, 0.019237287792540695), (2795, 0.019236594396812565), (912, 0.019208283463646354), (3271, 0.019194527942202885), (1640, 0.019186825495514884), (948, 0.019179505436902257), (187, 0.019160508078693607), (988, 0.019148913981536855), (589, 0.019123627869042897), (4000, 0.0191226461410079), (1925, 0.019069068385183272), (1986, 0.01906633555264564), (4371, 0.01904982200075311), (2581, 0.019034771917718653), (282, 0.018992737000681416), (530, 0.01897772673890171), (376, 0.018975245248959705), (2493, 0.01897513929060806), (1197, 0.018972382934655613), (1471, 0.01894672082935503), (2704, 0.018935445754340363), (3539, 0.018925999055859385), (4122, 0.018917599193724703), (73, 0.018911610119475012), (612, 0.018861039532472507), (960, 0.018853458278535604), (1951, 0.01884771634631689), (3442, 0.018843141493612787), (2363, 0.01882415842854631), (625, 0.018798130358824792), (364, 0.018792598766279433), (2527, 0.018787596575087006), (1840, 0.018774550253209267), (4318, 0.018771539076363666), (4027, 0.01875831453206241), (1400, 0.018725752280410617), (72, 0.018697272306831162), (3127, 0.018674367824928453), (4344, 0.018672669995366414), (1120, 0.01862355734688763), (2077, 0.0185768777383942), (1775, 0.0185363778607723), (890, 0.01852721172273967), (138, 0.018511096804707756), (586, 0.01850481317313263), (1332, 0.018482106291609655), (4201, 0.018478544316744668), (3634, 0.018469078218367033), (4756, 0.0184388863146731), (4119, 0.01843691204316875), (961, 0.018379802015407357), (75, 0.018347149210850476), (708, 0.018328206501593156), (3559, 0.018309332209018463), (2428, 0.01830652513857607), (145, 0.01827135055812187), (3722, 0.0182648428288842), (4329, 0.018240377593716262), (2355, 0.01821133322648269), (3331, 0.01820904453548604), (4146, 0.018189224740995952), (3484, 0.01816616809536424), (1686, 0.018161528222826677), (2221, 0.018159869731253567), (3182, 0.01809634840768693), (2770, 0.018063644466027123), (3957, 0.018004979793694673), (3650, 0.018000085979574226), (2544, 0.017983889761973473), (4485, 0.017981899346129135), (1722, 0.017939008346759936), (758, 0.017902303175880648), (3775, 0.017890803422409333), (2192, 0.017889812337688042), (3205, 0.017878475811191757), (109, 0.017868819459307968), (463, 0.017867128674991798), (3211, 0.017865902720482944), (438, 0.01785772832593133), (2018, 0.017817327258789168), (2813, 0.017802386113768647), (2468, 0.017797697153594666), (4477, 0.017795850903606362), (1540, 0.017794092738881676), (3926, 0.017793046568546016), (3711, 0.017762647646116896), (4005, 0.017725020662353663), (3438, 0.017708939986558904), (4457, 0.017699022890739494), (3312, 0.01769216606703205), (2110, 0.017688641441882914), (1659, 0.017681120469489185), (4511, 0.01766877129330696), (753, 0.01765748894170167), (3299, 0.0176522408786358), (1591, 0.01764143131144209), (17, 0.01762106049516504), (905, 0.017620661311289934), (4665, 0.017619004935877668), (3818, 0.017616988885374767), (3947, 0.01760269285777474), (3565, 0.017581037143850422), (291, 0.017572874958006197), (1236, 0.017532805199571427), (2625, 0.017500689832992956), (1380, 0.01749448808439887), (3906, 0.01747806505616657), (877, 0.017468803986099395), (2959, 0.017462820808491705), (1622, 0.01746251828111191), (4244, 0.017450588551010893), (2980, 0.01742245067945591), (3520, 0.01740484362342301), (633, 0.017403229321730815), (995, 0.01740275626807239), (3223, 0.01736086153532005), (2039, 0.017357208564316596), (1671, 0.01735262893067334), (3870, 0.01734201444719411), (4366, 0.017334584497704218), (4121, 0.017324884522577563), (2211, 0.017290099382913246), (1701, 0.01724910311774659), (349, 0.017229319862101397), (2359, 0.017222844701093806), (49, 0.017218947750525643), (1677, 0.017185603719042625), (4217, 0.01715787485087839), (2326, 0.01715264241652065), (3373, 0.017144433114952243), (2066, 0.017135753438457118), (533, 0.017132670430956922), (682, 0.017131499511750116), (3896, 0.017129716241430393), (2716, 0.017111128836021533), (1244, 0.01711044496197336), (2903, 0.017082150415502387), (2681, 0.017078731245778973), (25, 0.017068988326352327), (3534, 0.017038612237468855), (1132, 0.017033506191638896), (809, 0.01702999979809181), (4293, 0.01699754973188354), (458, 0.01699644888151092), (4246, 0.01697015639844775), (1654, 0.016956850077967087), (1744, 0.016946982161849127), (2383, 0.016936858514846397), (2140, 0.016891320315050237), (1073, 0.016889010006442363), (4428, 0.01686831254107431), (1363, 0.016859258669214647), (353, 0.016847434648362705), (2040, 0.016828259883753763), (3192, 0.016827760003127662), (3891, 0.016822844892379785), (4619, 0.01680648239646857), (2133, 0.01680264060661011), (2647, 0.016801023591918658), (862, 0.01679539024814725), (2202, 0.016735643662497177), (1577, 0.01673303313340316), (875, 0.01671832292245565), (453, 0.016703472731254738), (3736, 0.016682913454340097), (2826, 0.0166767998206648), (3250, 0.016660816221527493), (451, 0.016659876983042138), (673, 0.016622582323118227), (1162, 0.016618405288942956), (4116, 0.01660682452704391), (1206, 0.016606506365034617), (1374, 0.016600214535080978), (1179, 0.016585923320322337), (598, 0.016551584750445113), (1778, 0.01654649617460943), (2447, 0.01653501418732276), (2082, 0.01652500256285945), (251, 0.016523984459427012), (2014, 0.016498596877052695), (1456, 0.016488805072509993), (1050, 0.016424175269272246), (1871, 0.01642346799567328), (210, 0.01641674915896339), (284, 0.016396552077027837), (4727, 0.01636365478329157), (2316, 0.016315782486093673), (1705, 0.01631143106476083), (3602, 0.016310547520767313), (1300, 0.016301731024395832), (1141, 0.0162784884664249), (180, 0.016277428389752862), (863, 0.016238231804139955), (2522, 0.016234320456174595), (10, 0.016232862937188612), (2616, 0.016219180098284398), (4289, 0.016212581306351566), (3706, 0.01618893165276142), (3297, 0.016185578319028764), (2239, 0.01618098962462709), (4557, 0.016157908696641902), (1687, 0.016150464936624233), (3464, 0.016143693557561643), (4233, 0.01613356082651099), (3713, 0.016073733328952823), (4033, 0.01606977661622431), (3259, 0.016064413140308206), (1485, 0.016027330110722837), (2642, 0.015982038998375234), (4141, 0.01598037746785258), (143, 0.015979130332247647), (3156, 0.01597695955725023), (1736, 0.01594622677762211), (3862, 0.015908692511034023), (607, 0.01590034427493352), (1513, 0.015867679102001032), (1432, 0.015866890876885857), (1024, 0.015865079973683974), (1727, 0.01583757496020259), (4390, 0.01582884868619905), (3849, 0.015821092590121905), (3507, 0.01579064633712422), (4486, 0.015788661761651297), (2780, 0.01577198759306068), (1847, 0.01572699199567173), (1735, 0.015708706122729996), (3948, 0.0157066170104437), (3403, 0.01570266573642853), (2360, 0.015699825900858423), (869, 0.015617740401615371), (1344, 0.015589325471708538), (4093, 0.0155816364039792), (908, 0.015561312930500618), (548, 0.015555513132323565), (1337, 0.015544801683570851), (4684, 0.015544505717122674), (1740, 0.01553863831235218), (2444, 0.01553766262227859), (2524, 0.01553485009641407), (2788, 0.01550757650911035), (4068, 0.015475051160012548), (3136, 0.015471405425704037), (1440, 0.015467597751012734), (868, 0.015401520316737876), (568, 0.015385086291467847), (4435, 0.015305113413202894), (494, 0.01530236754245773), (306, 0.01528366950171756), (560, 0.015278511149178244), (1385, 0.015251601450245754), (1419, 0.0152505947104408), (986, 0.015220816649594389), (3416, 0.015218188944842056), (1455, 0.01521393453866887), (2212, 0.015199422566671408), (569, 0.015199261834200898), (3807, 0.01515257653515284), (37, 0.015143127211324109), (3374, 0.015117001839539207), (1675, 0.015111822347183985), (1504, 0.01508655537047552), (1226, 0.015079083232505223), (2825, 0.015047830346342151), (534, 0.01504452640846861), (1314, 0.014984419432963657), (4607, 0.01498193687858566), (1292, 0.01497918550101567), (2603, 0.014920021279192222), (1527, 0.01490756724199888), (539, 0.014905715075048488), (244, 0.014901418347007818), (1406, 0.01488725095150928), (709, 0.014875480827218904), (500, 0.014852535753708415), (217, 0.014846839531726039), (1035, 0.014797942168614096), (825, 0.014773438952832788), (1063, 0.014717596651701033), (3660, 0.014689174978033657), (1076, 0.014683190395685568), (2918, 0.014675275195029275), (3582, 0.0146741747202718), (4543, 0.014671925552900224), (915, 0.01465750328702764), (1544, 0.014622287044573145), (1478, 0.014586534057401195), (2206, 0.014559798805021137), (4481, 0.01455378345660361), (3085, 0.014551753373338161), (4432, 0.01451922943114505), (1412, 0.014498493022502178), (1301, 0.01449228763896431), (144, 0.01447562128629136), (3465, 0.014468383666458435), (2224, 0.014454178431128083), (2751, 0.014444877035351893), (3794, 0.01442753387530837), (506, 0.014395982120086874), (1054, 0.01438347369515381), (2443, 0.014345978920343212), (2294, 0.014330569404034873), (1973, 0.014329384432294992), (2184, 0.014308843436705049), (1665, 0.014262270852083165), (3129, 0.014251873469127443), (779, 0.0141797549299174), (866, 0.01416072780357034), (532, 0.014144586642930286), (2742, 0.014142628174033875), (4325, 0.01412860477900146), (3993, 0.014073702326654402), (1789, 0.014065845451530112), (1987, 0.013982343489886619), (2376, 0.013865910231870525), (148, 0.013822897809593154), (2424, 0.013806729758846947), (2055, 0.013805560425080111), (1567, 0.013798311236271569), (1173, 0.013784813669146325), (632, 0.013766916806136254), (515, 0.013730332829181069), (1000, 0.01370066383283779), (501, 0.013678343445194929), (1241, 0.013636805606095398), (3070, 0.013606776969727364), (3099, 0.013548882085792685), (295, 0.013527917177177516), (1797, 0.013354212757398959), (851, 0.013344173363445361), (3637, 0.013321045994591864), (1348, 0.013268198712750909), (155, 0.013256131734645996), (2971, 0.013253897415247448), (477, 0.013231998227951873), (2412, 0.013226390960595311), (3684, 0.013219613567950124), (2013, 0.013216598429667728), (294, 0.013207909067838296), (692, 0.013165323786828793), (2781, 0.013162515339822498), (1781, 0.01296074188441081), (3844, 0.012928861190866723), (4095, 0.012927122410114386), (1971, 0.012910991500408862), (3638, 0.012863381925104481), (3658, 0.012799934154461484), (1214, 0.012772688766054256), (266, 0.012763515253532146), (1092, 0.012696292084360423), (1669, 0.012694660177884854), (2730, 0.012676590046837324), (4209, 0.012642672536165515), (4194, 0.012636809877837774), (3942, 0.012585436621415938), (88, 0.012563599826699827), (2697, 0.012470186763613774), (3142, 0.012390203996981668), (435, 0.012351564185518037), (3949, 0.012318790569157403), (4701, 0.012296573425553597), (1377, 0.01228754651905772), (3119, 0.012285796963514605), (1506, 0.012273988252916788), (4594, 0.01215245945604005), (4633, 0.012125146573750578), (668, 0.012050971927905513), (3884, 0.012004039975688432), (4002, 0.011981920613885498), (3754, 0.011965133927575066), (1320, 0.011957493931312624), (3364, 0.011910443131321512), (3506, 0.011899448767671975), (1417, 0.011890367586767987), (225, 0.011865676295757558), (2932, 0.011848626646199787), (3903, 0.011817662209858852), (3759, 0.011812358238399627), (1924, 0.011786969000721861), (1709, 0.011757439840455252), (3076, 0.011728182666241297), (4150, 0.01171166210749822), (107, 0.011701555665929852), (3365, 0.01169807777660263), (2400, 0.011669459813645776), (1928, 0.01166414703243603), (1383, 0.011646508736732833), (1005, 0.011642878790864702), (3587, 0.011622176724207046), (2228, 0.011598593207628379), (2799, 0.01154761013896361), (436, 0.011543333982506237), (4396, 0.011543122428068169), (1474, 0.011506019626931985), (2384, 0.01149080564254793), (3877, 0.01148725496547273), (3645, 0.011481356145451113), (2154, 0.011478824952375767), (4593, 0.011472559551139343), (1498, 0.011470304404768551), (4463, 0.01145217082029983), (4078, 0.011448377909066004), (4403, 0.011422195883854984), (3101, 0.011398607275012226), (62, 0.011390913330257693), (1276, 0.011361573158312377), (1786, 0.011347336893178264), (2375, 0.01133460597555679), (4602, 0.011319810430102408), (4601, 0.011292789070472457), (3695, 0.011285079032874878), (253, 0.01128017239288515), (4469, 0.011196895853156127), (856, 0.011194974469111886), (672, 0.011183505351552147), (3526, 0.011177524107993777), (684, 0.011177356387958809), (2939, 0.011161390653601003), (1246, 0.011145841703546513), (1518, 0.011111790654267657), (1724, 0.011108961351819139), (791, 0.011083632864548963), (2637, 0.011077158170323474), (1637, 0.011067013102405869), (2588, 0.011051124023572598), (4724, 0.011046971913275527), (3999, 0.011034510865176752), (2964, 0.011025080766189653), (12, 0.011017694765182528), (2817, 0.011001451790868547), (3235, 0.010998675594355816), (4355, 0.010991444248822417), (3109, 0.010988175809722693), (4175, 0.01098605561023151), (1058, 0.010984121109176324), (493, 0.010954343046754226), (748, 0.0109479720370931), (3618, 0.01093624554024869), (4613, 0.010922052956582495), (4662, 0.01091651284801753), (1918, 0.01089799540467228), (3264, 0.010894136344041521), (4566, 0.010876184223899271), (3388, 0.010870455149880201), (1064, 0.010857236655035794), (3654, 0.010850730366152472), (523, 0.010845592598547537), (1902, 0.010844595813302388), (1835, 0.010825387490317504), (3493, 0.010798727812259887), (1264, 0.010794872643669396), (20, 0.010791578646385231), (2727, 0.010778672263450166), (660, 0.01077728763044915), (3378, 0.010766090271006425), (23, 0.010751549435405731), (4136, 0.010747922794951677), (884, 0.010734228743311178), (2904, 0.010731160145446145), (2259, 0.010725628475748924), (588, 0.010721025184981229), (1364, 0.010713086863532405), (1124, 0.010696475121200918), (2072, 0.010690928441765205), (3766, 0.010686944899117003), (3517, 0.010682654208604798), (3675, 0.010682567733669037), (542, 0.010681693560454857), (3930, 0.01068132528872556), (2106, 0.010665700910549943), (980, 0.010663239306162206), (1343, 0.010653185032784266), (3398, 0.010640728535289336), (4637, 0.010633792002137609), (3535, 0.010611670497649238), (1860, 0.010610503250393213), (4735, 0.010604500218520744), (2230, 0.010595757901933713), (846, 0.01056450630593545), (1435, 0.010548090213229732), (4678, 0.01054497581978017), (1053, 0.010540538447929512), (2290, 0.010528443629890505), (2732, 0.010522195726869814), (2635, 0.010500480598621562), (219, 0.010497432935978582), (1495, 0.010496661793030548), (2746, 0.010490338959763253), (3377, 0.010486563842515706), (2551, 0.01048312778158411), (2685, 0.01047070450832931), (1105, 0.010470535005031804), (937, 0.010470022311689722), (811, 0.010459989383480124), (2374, 0.010456242064367134), (3019, 0.010432380088066216), (3551, 0.010413120671862184), (2396, 0.010411111741003861), (897, 0.01039580627110371), (4203, 0.010387760706702852), (860, 0.010383216152727944), (4517, 0.010379748911588901), (3491, 0.010357845763634596), (3564, 0.010357369976942393), (1804, 0.010348656009714506), (938, 0.010341799650226058), (1275, 0.01034032485167794), (4736, 0.010311053953600208), (3188, 0.010305581729601603), (2046, 0.01030447953356708), (1163, 0.010299156768904768), (2246, 0.010297954378715625), (274, 0.010289681117490294), (760, 0.010280526120975145), (3518, 0.010269467080623665), (1507, 0.010262344388116853), (689, 0.010260752973199443), (2839, 0.010235434155547432), (4482, 0.010232952041863603), (2486, 0.010231732362785377), (2503, 0.010230916920330348), (3883, 0.010215140509488624), (1831, 0.010201272122107976), (4187, 0.010168347844786036), (3173, 0.010160668880283176), (3644, 0.010136775643321801), (169, 0.010136729208727067), (207, 0.01012222661397558), (281, 0.010116691109483137), (3110, 0.010081231593297412), (2632, 0.010074826486786934), (1617, 0.010072421049508774), (618, 0.010072296416551949), (2553, 0.010058466337584874), (2677, 0.010052430226579064), (2698, 0.010052220169967997), (1408, 0.010048362155970464), (3012, 0.010047263743576144), (127, 0.010045909691606503), (4512, 0.010041244355222741), (2453, 0.010038324895165545), (4707, 0.010037259302757907), (1858, 0.010027557631206965), (2304, 0.010012858573459559), (701, 0.010003581806123357), (2461, 0.01000353924700486), (1260, 0.009996557030560613), (3640, 0.00999421689399842), (1030, 0.009987093162039535), (4069, 0.009965446215059962), (1247, 0.009965141879162765), (2095, 0.009964205518268349), (1923, 0.009952660534362234), (1463, 0.009947552009259826), (1421, 0.00994626919214926), (923, 0.00993582943684255), (385, 0.009920507272543892), (4551, 0.009917698781953204), (2167, 0.009914200338736408), (1996, 0.009913454688695223), (3490, 0.009907803767470705), (3652, 0.009902024144621668), (3961, 0.009891365330088723), (2112, 0.009891062841670715), (3246, 0.00989086514862525), (254, 0.009877478897650808), (2367, 0.009876039650067071), (1754, 0.009871971143385), (2996, 0.009862158780703826), (883, 0.00985564792987025), (3924, 0.009851081548271237), (3824, 0.009847281420694177), (1218, 0.00984253628832145), (356, 0.009841258519515648), (1067, 0.009840293089138374), (3881, 0.009838994966593925), (2739, 0.009834523472512733), (450, 0.009833417131419414), (3390, 0.009830244398957485), (2464, 0.00982844106209087), (713, 0.009822677687473011), (984, 0.00981391528107429), (4048, 0.009810566034263626), (2242, 0.009806601807249146), (1375, 0.009806068159289754), (70, 0.00980175725491299), (4441, 0.009800778116369964), (2892, 0.00979365446901656), (896, 0.009789851369229404), (1487, 0.009782027786552152), (53, 0.009776611476538867), (1674, 0.009775793868836487), (3712, 0.009773068477558695), (3659, 0.009767074345056173), (2037, 0.009766279338310915), (342, 0.009762370602913434), (4669, 0.009760340421699114), (859, 0.0097525803945791), (481, 0.009745765211232656), (2978, 0.009744328179024798), (2214, 0.00974370307329839), (387, 0.009730468720674838), (2525, 0.009715259706322628), (1325, 0.009713269626692533), (3823, 0.00970063907818063), (3694, 0.00969846983449486), (1874, 0.009684866516402772), (1041, 0.009684628045092823), (3086, 0.009680881184717695), (1372, 0.009678293411453385), (4118, 0.009663942457666339), (2252, 0.009655589359147445), (2552, 0.009646058322440972), (3788, 0.009644251365202425), (648, 0.009642142012245614), (3768, 0.009629674038622998), (2699, 0.009625415925063897), (3095, 0.00962110143826859), (2327, 0.009619314688752025), (2254, 0.009616613153810412), (659, 0.00961051641323643), (485, 0.0096036636208781), (3426, 0.009597607703828713), (4356, 0.00959521834185367), (1282, 0.009580619424748428), (3342, 0.00958050767183986), (1119, 0.009567958672789421), (4231, 0.00955959454532078), (1519, 0.009540756438003223), (805, 0.009540713793839781), (792, 0.009532660561576272), (770, 0.009529483503465004), (1339, 0.009525411021987042), (622, 0.009522420962565933), (3185, 0.00951518229196669), (4510, 0.00951180310773903), (3656, 0.009508421707254893), (1114, 0.009502920561065772), (1116, 0.00949382386230329), (3460, 0.009487333377563504), (4265, 0.009484131952523426), (3905, 0.009479374467963082), (3395, 0.009477974303238027), (2196, 0.00947681985220723), (2849, 0.009474086461617641), (3777, 0.009468491621797994), (3276, 0.009466148855232615), (4123, 0.009462254217013685), (483, 0.009461919987039115), (2207, 0.00944562309759619), (976, 0.009445480302475147), (354, 0.009441705190315319), (2301, 0.009437746901972254), (1782, 0.009436355469444949), (1104, 0.009432462324358822), (3334, 0.009428807970295848), (1974, 0.00942879670282506), (51, 0.00942861472928688), (4620, 0.009426804520583257), (3984, 0.00942463371145133), (667, 0.009421783971536462), (2954, 0.00942060828708186), (474, 0.009416357098138931), (2998, 0.00941422918333678), (4178, 0.009409815308663333), (2135, 0.009408599626821848), (3563, 0.009403322316279623), (759, 0.009393633347435752), (173, 0.009392178665676217), (429, 0.00939195772427267), (1288, 0.009387360724657895), (502, 0.009381757505987512), (3437, 0.00938157478326192), (270, 0.009372348771228734), (3703, 0.009359945177606114), (3018, 0.009358798120855504), (879, 0.009349454647281041), (3304, 0.00934221977509699), (543, 0.009333585559020896), (1983, 0.009333311551659338), (1827, 0.009329783612470579), (2546, 0.009329129011664855), (2338, 0.009321533932005655), (4018, 0.009309132028135486), (447, 0.009305423406555163), (893, 0.009303409703065004), (216, 0.009290775810185807), (3986, 0.009283111751711615), (1542, 0.009278351192338781), (584, 0.009272725149780779), (3841, 0.009252427196695771), (2053, 0.009252095099577078), (2519, 0.009243809448919471), (2976, 0.009242328155816461), (120, 0.009242302168795732), (2126, 0.009241943148543676), (577, 0.009240405870845271), (3633, 0.00924027743926853), (137, 0.009226413442067892), (2334, 0.009223888462413739), (732, 0.009210288955921174), (1414, 0.009204340136390952), (2657, 0.00918553760204692), (1994, 0.009179947395090534), (1585, 0.00917040203692241), (4663, 0.009169986028393097), (4189, 0.009166675578831216), (652, 0.009166301806856215), (2784, 0.009159744054129592), (3699, 0.009153298227967871), (1832, 0.009152537775097173), (1958, 0.00914725578218523), (2489, 0.009132707615939479), (1970, 0.009130636005543594), (4288, 0.009117451282975166), (1942, 0.009117444717862735), (2047, 0.009117071156296803), (820, 0.009113705934490086), (2074, 0.009108294997591679), (2295, 0.009104041055917703), (1199, 0.009101389916436943), (544, 0.009094111490647308), (4004, 0.009088255334303125), (83, 0.009081231907682301), (1461, 0.009061833914924267), (1186, 0.00905925256890232), (864, 0.009055363645632425), (3245, 0.009054481580279166), (2240, 0.009053981707738114), (1922, 0.009046473080076604), (209, 0.009042741552353283), (3670, 0.009038174915191289), (2659, 0.00903286466277402), (2934, 0.00902685299435371), (3155, 0.009022864101020756), (2994, 0.009019660963176598), (2284, 0.009009913337945255), (2937, 0.009004727883762305), (1388, 0.009000582662675883), (172, 0.008989977379868576), (3655, 0.008978903337057382), (2695, 0.008972616284998968), (4705, 0.008965736537602693), (2026, 0.008954437631306012), (479, 0.00895097969009916), (280, 0.008938130472120429), (242, 0.008932793574320867), (4623, 0.008929201692494372), (3748, 0.00892678319129071), (4268, 0.008925368315981817), (1698, 0.008911803768067899), (2336, 0.008911261460453476), (3570, 0.008905493677865238), (4060, 0.008903467942520586), (2512, 0.008897256306110378), (105, 0.008887771221323075), (2174, 0.008882840777960298), (3553, 0.008881725766191907), (81, 0.00887908576209333), (894, 0.008877377429687278), (1438, 0.008874999342670508), (50, 0.008850015250362874), (996, 0.008848807225661592), (1621, 0.00883450503064458), (2168, 0.008828842932674372), (2961, 0.008821033180087262), (989, 0.008814369808454984), (1330, 0.008797125932583449), (2216, 0.0087828113884257), (1128, 0.008781124986234163), (4202, 0.008768484823333339), (3200, 0.00876631765073663), (870, 0.008762780644008138), (3344, 0.008762130870649143), (2029, 0.008749123538142336), (4387, 0.00873818763991176), (2989, 0.00873793002002047), (799, 0.00873615596896811), (2279, 0.00873166562628125), (1312, 0.008706780373125144), (3806, 0.008703958806248501), (4442, 0.008692346602900258), (2057, 0.008690834596775315), (790, 0.008685833481164447), (345, 0.008685455918390369), (643, 0.008683993234435016), (2808, 0.008683587542099785), (4192, 0.008677999955057348), (2157, 0.00867545994028448), (1481, 0.00867356324611902), (2877, 0.008661857551202534), (4216, 0.008660473208503085), (3347, 0.008659487616417083), (2080, 0.008658478680027068), (87, 0.008651021769080837), (112, 0.00862760230882223), (1042, 0.008616877416658758), (4658, 0.00861548795534552), (396, 0.008611755839702818), (1125, 0.00861159764303313), (1248, 0.008610160007562012), (1582, 0.008603472258103722), (18, 0.008593133043060757), (3430, 0.00858782574414564), (1231, 0.008587434981678145), (3504, 0.008583584602877304), (2752, 0.008571295413373268), (52, 0.008568549928586924), (570, 0.008565139828070546), (2897, 0.008559805053118937), (2886, 0.008549830244921017), (3056, 0.008547141302949248), (2667, 0.008544961641412682), (2922, 0.008532473015970812), (1571, 0.008529997674940249), (3171, 0.008524617521418266), (1738, 0.00850744695167166), (1160, 0.008506004924521526), (360, 0.008503388194484703), (1630, 0.00850317439445658), (2665, 0.008495492481306422), (4666, 0.008489714706694667), (3293, 0.008482076258524976), (4124, 0.008479631274759444), (3635, 0.008478284514791365), (434, 0.008478088587982855), (408, 0.008472739040883937), (828, 0.008465516147885797), (3819, 0.00846140206882704), (939, 0.008452663405111355), (2990, 0.008441705511799085), (3254, 0.00843591908373879), (236, 0.008417735547249606), (3407, 0.008413070679268626), (311, 0.00841141202045623), (3941, 0.008397913519894953), (833, 0.008386906536412055), (4221, 0.008384165252939894), (1620, 0.008379572086132622), (1992, 0.00837219604465863), (2441, 0.00835472669598276), (3280, 0.008343347669845144), (1107, 0.008337906169746003), (111, 0.008324793621424367), (2874, 0.008317326012981815), (3118, 0.00831624320046818), (916, 0.008303757241922964), (3120, 0.008296832772632216), (96, 0.008294146450346417), (1068, 0.008287648678058743), (3854, 0.008287181147051436), (4674, 0.008286567338797188), (558, 0.008263616652358032), (304, 0.008262080284554498), (1667, 0.008259041477070381), (695, 0.00825417509322312), (2559, 0.008243498951970123), (3538, 0.0082267053405281), (43, 0.008225599106342496), (2000, 0.008221768357899268), (2075, 0.008216737610859585), (4444, 0.008214511171408135), (4235, 0.008211068241546753), (801, 0.008208980149983783), (2377, 0.008190092162989736), (4164, 0.008184130263979504), (124, 0.008182917427147692), (199, 0.00817128910414429), (3842, 0.008156639665978169), (1360, 0.008156093672771788), (3418, 0.00813273455376609), (4053, 0.008131654847948878), (285, 0.008116281111875488), (1595, 0.00810994566087282), (168, 0.008108691732533266), (2931, 0.008106463549264567), (3318, 0.008076756212840408), (1061, 0.008067805264649121), (4475, 0.008058670804988564), (1739, 0.008057781751591471), (664, 0.008033060921217208), (2607, 0.008032654293957161), (3801, 0.008028936656590399), (4142, 0.008017346262284536), (2833, 0.007987981896442337), (421, 0.00797930820312481), (2530, 0.00797024063816569), (2871, 0.007968323004439963), (2264, 0.007961545070337174), (1694, 0.00795663817191806), (3472, 0.007944574332528213), (4606, 0.007938921523900213), (1548, 0.007937729978464774), (3574, 0.007923977605969556), (3626, 0.007915543613199828), (2617, 0.00790102118606133), (1776, 0.007892282981617456), (1213, 0.007872180208475318), (1194, 0.007829734487283585), (4182, 0.007827594511007544), (562, 0.007827250527540576), (1018, 0.007814720561307218), (228, 0.007813876610206438), (2621, 0.007796695241265479), (2692, 0.007781907770548946), (4199, 0.007779450934439994), (4096, 0.00776379509447542), (147, 0.00775320240760827), (99, 0.0077503846121807), (629, 0.007738436254804476), (874, 0.007728233258999147), (670, 0.0077281511892961525), (86, 0.007707012408264588), (3588, 0.007704679836300645), (4443, 0.007681969717233574), (4723, 0.007667203770243244), (4653, 0.007666989675346123), (2070, 0.007665236679667049), (2188, 0.007653106158819505), (190, 0.007647451356238944), (3731, 0.007642455620296854), (2459, 0.007632688320999066), (4631, 0.00761511221122505), (2415, 0.007609276568867897), (3554, 0.0075910522147220015), (1258, 0.007586099803493977), (2778, 0.007582591301136788), (2671, 0.007577911394419348), (4698, 0.007565819508117862), (3674, 0.007564684578457928), (547, 0.00755557637218745), (1306, 0.007521189212389149), (2895, 0.007506062118220943), (1941, 0.007505487889011992), (1981, 0.007483895083730022), (1078, 0.007463034289537069), (2567, 0.0074414608398070915), (2602, 0.007435851424736346), (2772, 0.007428334989747238), (4642, 0.007400437253331284), (149, 0.007400334223737106), (336, 0.007399463946496346), (2378, 0.007379882158515146), (153, 0.007370272771863257), (1968, 0.007364322349960684), (2707, 0.007359871696812782), (2720, 0.0073496212325976674), (3317, 0.007340000310278747), (4589, 0.0073398082192425405), (3756, 0.007330384389376192), (1547, 0.007303642726371975), (3172, 0.007301832415981944), (816, 0.007293909623603766), (3440, 0.007285992998174337), (942, 0.007285449475367418), (2427, 0.0072840683868684655), (4597, 0.007265697029350018), (1317, 0.007260890648407011), (1398, 0.0072592806771514294), (3419, 0.00723679774482327), (1303, 0.007225332275211204), (1321, 0.007217126859810745), (2012, 0.007211650324932085), (3165, 0.0072025884657413025), (1989, 0.0071978078286641), (2925, 0.007195202468460247), (2676, 0.007190751797573935), (824, 0.007184658848175258), (125, 0.007178977818262919), (757, 0.007158361915154488), (4741, 0.0071458383356856345), (3253, 0.007131131856184524), (2476, 0.007130462328524806), (2864, 0.007128096186885559), (1713, 0.007120762667721926), (424, 0.0071201713524829), (2181, 0.007117914481817335), (425, 0.007113993811922886), (2881, 0.007102180416149709), (3383, 0.007100587735579403), (2576, 0.007094251491215586), (3680, 0.007091143424265229), (4462, 0.007086563728153866), (4393, 0.007074099955262433), (3168, 0.007061223720552695), (2710, 0.007050813325999516), (3560, 0.00704591719586293), (2182, 0.007044708120280654), (4630, 0.007032357080706825), (4185, 0.007032124052638304), (2672, 0.007028659504968106), (2164, 0.007018967421840591), (3221, 0.007013721438123402), (2356, 0.007010147679659403), (3593, 0.007000191745031405), (2840, 0.006994021540682307), (2381, 0.006991612476653788), (3750, 0.00697692190955207), (2854, 0.006964418685269407), (4742, 0.006961797169641897), (101, 0.006952994756746579), (3062, 0.0069522840173051), (688, 0.006946697147011039), (853, 0.006928873406514163), (550, 0.006926494204309532), (740, 0.006921293225309637), (595, 0.006896662754768599), (990, 0.006888681424735802), (2626, 0.006882315193949049), (3424, 0.006870537890449894), (956, 0.006870519111819339), (3628, 0.006857424122656613), (224, 0.006856481017671501), (3392, 0.006855359280246202), (4130, 0.006854035196675235), (635, 0.006846410809460158), (1774, 0.006842534590243061), (3044, 0.006835544401401241), (3263, 0.00683158221737006), (350, 0.006826861696072991), (3064, 0.006823473850398478), (4491, 0.006823239704271265), (513, 0.006816820559188269), (2979, 0.0068129372907483055), (1511, 0.006809446166657027), (514, 0.006800504257958923), (1894, 0.006795362401245833), (2888, 0.006792840432686597), (1861, 0.006792783377302312), (3771, 0.006792149608903889), (2880, 0.006758644937409864), (232, 0.006751704165795633), (3112, 0.006743148142184933), (1770, 0.006742869552908201), (2243, 0.00672629680223925), (3451, 0.006721355499996888), (1537, 0.00671380078901773), (4131, 0.006710643942440736), (2940, 0.006702571085601834), (1812, 0.006698813845272125), (256, 0.006695058026404349), (1324, 0.006689184330094697), (826, 0.006687841510778695), (3846, 0.006682573282771389), (2499, 0.006667383555450819), (3710, 0.006666671439819744), (2044, 0.00666096552897253), (3979, 0.006657820369750888), (208, 0.006657563939550584), (2361, 0.006651527116929325), (1099, 0.006649485727354537), (2208, 0.006646373005460523), (2819, 0.006643001760718976), (4384, 0.0066419252519522905), (1484, 0.006633337094295975), (1822, 0.006619677090824539), (1225, 0.006615422381508684), (470, 0.006613799838488255), (1328, 0.006612882012949376), (4392, 0.006603227398838972), (1007, 0.006601679616021738), (4410, 0.00659934775451121), (1570, 0.006594914445857829), (1603, 0.006580810163299806), (716, 0.006575878726239973), (2754, 0.006574391168637468), (320, 0.006574107880161678), (1734, 0.0065707137468435295), (2088, 0.006570044957805765), (4430, 0.0065655643223678384), (2083, 0.006562571789910117), (2640, 0.006561291259186297), (1881, 0.006558958094928771), (2015, 0.0065480184894798794), (1229, 0.00654676923074493), (3591, 0.00654485199415135), (3241, 0.006542151712426576), (3310, 0.006541858919361295), (4629, 0.00654172624333784), (4419, 0.00653740261526502), (2085, 0.006533478805042267), (4586, 0.006529803618015304), (1841, 0.006522195632991332), (793, 0.006512536006842612), (3124, 0.006510568664477481), (4716, 0.006499243338666494), (615, 0.006495903616783885), (2238, 0.006494199979473871), (1470, 0.006490847157099587), (4249, 0.006470242805794846), (1516, 0.006458144231846477), (4456, 0.006458026029631352), (2353, 0.006456400837754182), (631, 0.0064476516304290375), (0, 0.006440170402891585), (1045, 0.0064301762814159185), (3169, 0.0064286608099202985), (2947, 0.006427335156606155), (1254, 0.0064269314113786094), (1901, 0.006426784814615519), (4294, 0.006422608759283433), (1564, 0.006422434209774533), (3445, 0.0064221881647965415), (3522, 0.006417984597708281), (1174, 0.006410725941819193), (1936, 0.006409111302055202), (1931, 0.006407069306735442), (3486, 0.006402748504060199), (1266, 0.006397666960244356), (4283, 0.006392187157161917), (3603, 0.006390562804608677), (528, 0.006385156524594974), (1587, 0.0063832226800836405), (3707, 0.006382333518720049), (3404, 0.0063801466322515495), (1386, 0.006375347552354271), (2045, 0.0063729662196477885), (919, 0.006372671689367658), (592, 0.006369139496538433), (4210, 0.006360588385707969), (1302, 0.006360178116006729), (4255, 0.006356932312765724), (2549, 0.006351301498436971), (945, 0.006349658286590089), (1599, 0.006349134878702427), (714, 0.006345059937564892), (1751, 0.006344581648204913), (1138, 0.006343435974332906), (1611, 0.006337312114703904), (3002, 0.006337204875934061), (3676, 0.006337063617951246), (1522, 0.006332398479607199), (1510, 0.006330684412632792), (2554, 0.006326115553049586), (3227, 0.00632285027390307), (1512, 0.006311729979333882), (1876, 0.006306906912911882), (1346, 0.00630670772654924), (2153, 0.006305158166367673), (2506, 0.006291244454641494), (315, 0.006290169287229316), (4001, 0.006281439361059735), (2081, 0.006277515872434858), (4310, 0.006277235694904252), (749, 0.006274652372176349), (4099, 0.0062692263811728694), (849, 0.006266746324646423), (3343, 0.006264539963828141), (965, 0.0062571695696619425), (3174, 0.006254141077304351), (2943, 0.006248344984144631), (946, 0.006240324856950581), (4056, 0.006236997224417126), (610, 0.006234850241945811), (4248, 0.006233747219191612), (4188, 0.006230730770360773), (3432, 0.006224946406614234), (3963, 0.006223941924076451), (1102, 0.00622372587034946), (4708, 0.006222985094401891), (3441, 0.006219377363744539), (1604, 0.006217422575014369), (3340, 0.0062161767489832855), (1012, 0.006212149841844234), (1442, 0.006208259209573595), (1692, 0.006204570733331114), (4241, 0.006201858095087563), (2847, 0.00619133606171758), (233, 0.0061891420263534514), (2298, 0.006188085560422468), (3161, 0.006186331287615972), (1263, 0.006183935177946611), (1253, 0.00618336938660352), (467, 0.006181562313652316), (1257, 0.006179382494900314), (4754, 0.0061747497614951215), (1459, 0.006172569911576954), (1127, 0.006172093125185075), (3814, 0.006168023625571735), (727, 0.006161022864422688), (4211, 0.006155660047917615), (119, 0.006152304344917275), (3454, 0.00613413580265085), (4224, 0.006132813262677693), (4112, 0.006120968916081687), (4743, 0.006118626396075159), (4039, 0.006112922094421473), (1846, 0.006108803919095716), (1350, 0.006108387052964874), (230, 0.006106893418343108), (2103, 0.006106127123470865), (1096, 0.006100708466437078), (4534, 0.0060990115842477575), (321, 0.006086566254845712), (4682, 0.0060848385565100156), (292, 0.006084107243064672), (4550, 0.006079242692419046), (4573, 0.006079094070865579), (3555, 0.006077715921498897), (2150, 0.006072613123792103), (1113, 0.006053671526531679), (1368, 0.006050395624002394), (4564, 0.006037988355019512), (3917, 0.006032274176978024), (1293, 0.0060274023556782805), (310, 0.0060249489491424404), (3786, 0.006016860516772981), (2117, 0.006015114336809464), (3568, 0.0060139991525045775), (1545, 0.006013370661081927), (3126, 0.006005420602789692), (1552, 0.00599559164583932), (854, 0.005984637743370329), (498, 0.005978322882373213), (2540, 0.005976636147486253), (1001, 0.005976633140194011), (1273, 0.005968112580917803), (2787, 0.005962875511095193), (2706, 0.005961707754071286), (644, 0.0059570701743577445), (3700, 0.005956427412205979), (1274, 0.005955356579242649), (4272, 0.005949111728524951), (4345, 0.005948210798142749), (1818, 0.005942439111458728), (911, 0.005940931639516493), (4037, 0.005940525952052839), (2094, 0.00593412470744036), (966, 0.00592082194060718), (4012, 0.005918378221763713), (3723, 0.005918067350845458), (1895, 0.005907290458064031), (1788, 0.005896785112721168), (3609, 0.005896449906661532), (2139, 0.005885445132665473), (661, 0.005882654208574918), (4690, 0.005880846161809722), (3135, 0.005873400560480751), (974, 0.005870345274803467), (426, 0.005865400659515581), (1898, 0.00586363483346987), (4568, 0.005861332235496887), (2634, 0.005859407228108548), (4328, 0.0058581904355599), (2052, 0.0058482086379915525), (2992, 0.005847019080308927), (2862, 0.0058441320011923216), (2958, 0.005842107631151766), (690, 0.005834469447085479), (4591, 0.005832261325759244), (3143, 0.005824050162464879), (2513, 0.005815967749138078), (316, 0.005811824709542754), (9, 0.005803102618161061), (1823, 0.005801974020669018), (4236, 0.005799440696708882), (2399, 0.005788514313934136), (35, 0.005786310376819822), (2315, 0.005780009981064493), (1357, 0.0057789141877972235), (2674, 0.005772505175952962), (382, 0.0057677482950404734), (4439, 0.005763494297005678), (2841, 0.005762820770927699), (411, 0.005755841903219924), (821, 0.005743106356911282), (4186, 0.005740335584749179), (4600, 0.0057387415979611965), (1714, 0.005733321773733562), (1065, 0.00573155829598921), (36, 0.0057305699261876964), (3130, 0.005720811428507155), (2033, 0.005704052679393618), (4193, 0.005702843493297426), (3459, 0.0056980968879338225), (130, 0.0056929473133345496), (4044, 0.0056898287098162735), (4447, 0.005689258827103103), (3311, 0.005672536494538967), (1809, 0.005667299532578099), (1310, 0.005659789768990725), (1366, 0.005656611408488104), (3600, 0.005654590206929785), (2426, 0.005652201002139586), (3336, 0.005644286828204863), (804, 0.00564016965547424), (4143, 0.005636851576654294), (800, 0.005636474292825726), (2185, 0.005617778545504224), (4590, 0.005615213499242387), (3795, 0.005609480166283418), (323, 0.005609337911463762), (1870, 0.0056047851313765), (803, 0.005604739271154081), (954, 0.005604548975561525), (2389, 0.005593615290055598), (1977, 0.0055832908567263724), (1384, 0.00558115523653935), (2935, 0.005569352595287677), (4608, 0.005564808108091286), (4661, 0.005558603727943411), (495, 0.005546358352214703), (519, 0.005536857417167522), (92, 0.005518620734197571), (1283, 0.005514703312940549), (2237, 0.005502600343239598), (32, 0.005499188464154196), (2433, 0.005491466237346549), (2820, 0.0054849309262471006), (2718, 0.005472420845029194), (4353, 0.005445809942290048), (4429, 0.005444751129071247), (4114, 0.005442420124203154), (1764, 0.005435675162827598), (1379, 0.005435316633478375), (2842, 0.00542172001164745), (165, 0.005420936071184292), (3630, 0.005412408735621196), (2822, 0.005411934982052105), (1828, 0.005410908701698193), (3339, 0.005396609345622166), (269, 0.00538084141680133), (3958, 0.005377642802379658), (3776, 0.005370632314079844), (1309, 0.005366949060389841), (496, 0.005353764463345574), (2020, 0.005349022681516377), (725, 0.005334509725962219), (1352, 0.005326725642748702), (3065, 0.005326456744007182), (288, 0.005325479098893632), (3668, 0.005307806074285913), (1010, 0.005303853248317469), (2197, 0.0053038003515132595), (639, 0.0052952463898473376), (3657, 0.005291903850029988), (2296, 0.005267746833978694), (2127, 0.005264367416929007), (3213, 0.005256568788753873), (640, 0.0052496973553941804), (3215, 0.005244430410039268), (44, 0.0052200594602688525), (2227, 0.005210780597354066), (2969, 0.005200998489968398), (442, 0.00519964631782582), (3024, 0.005187465331253996), (469, 0.0051823422932478665), (2844, 0.00517918405453354), (2025, 0.00517294015976879), (2034, 0.0051664114563460236), (738, 0.005165945668166224), (319, 0.005138160798587502), (1326, 0.005119127514368882), (2646, 0.005038668559129501), (719, 0.005037893351893865), (289, 0.005033009283428107), (3980, 0.005030674686893218), (1576, 0.0050228132353324), (2774, 0.0050109395564102615), (63, 0.004990786555403512), (1886, 0.004984233351088923), (2010, 0.004952206666231438), (159, 0.00490790715264448), (2113, 0.004907176697660271), (2767, 0.0048923709753924864), (1728, 0.004844170222474163), (1418, 0.004820193368493592), (271, 0.004805875296805524), (452, 0.004723030969554239), (4445, 0.004707611739050921), (296, 0.004699892706007544), (332, 0.00469542813562046), (1210, 0.0045599282700511), (929, 0.004523593341901792), (4752, 0.004491875335384817), (1153, 0.00439676115374947), (3429, 0.00426358844707436), (2, 0.0), (3, 0.0), (8, 0.0), (11, 0.0), (14, 0.0), (16, 0.0), (30, 0.0), (33, 0.0), (57, 0.0), (58, 0.0), (60, 0.0), (61, 0.0), (66, 0.0), (71, 0.0), (82, 0.0), (97, 0.0), (98, 0.0), (100, 0.0), (103, 0.0), (104, 0.0), (110, 0.0), (113, 0.0), (114, 0.0), (115, 0.0), (117, 0.0), (129, 0.0), (131, 0.0), (133, 0.0), (134, 0.0), (136, 0.0), (140, 0.0), (141, 0.0), (146, 0.0), (154, 0.0), (156, 0.0), (157, 0.0), (158, 0.0), (161, 0.0), (163, 0.0), (164, 0.0), (174, 0.0), (175, 0.0), (176, 0.0), (177, 0.0), (178, 0.0), (179, 0.0), (182, 0.0), (183, 0.0), (184, 0.0), (185, 0.0), (186, 0.0), (188, 0.0), (192, 0.0), (195, 0.0), (196, 0.0), (197, 0.0), (198, 0.0), (200, 0.0), (202, 0.0), (203, 0.0), (204, 0.0), (212, 0.0), (213, 0.0), (214, 0.0), (221, 0.0), (222, 0.0), (227, 0.0), (229, 0.0), (237, 0.0), (238, 0.0), (239, 0.0), (240, 0.0), (241, 0.0), (245, 0.0), (247, 0.0), (248, 0.0), (250, 0.0), (255, 0.0), (262, 0.0), (265, 0.0), (267, 0.0), (268, 0.0), (275, 0.0), (277, 0.0), (278, 0.0), (279, 0.0), (286, 0.0), (293, 0.0), (299, 0.0), (300, 0.0), (301, 0.0), (302, 0.0), (308, 0.0), (309, 0.0), (312, 0.0), (313, 0.0), (318, 0.0), (324, 0.0), (325, 0.0), (326, 0.0), (330, 0.0), (331, 0.0), (335, 0.0), (337, 0.0), (338, 0.0), (339, 0.0), (340, 0.0), (341, 0.0), (344, 0.0), (346, 0.0), (348, 0.0), (351, 0.0), (352, 0.0), (355, 0.0), (357, 0.0), (358, 0.0), (359, 0.0), (361, 0.0), (362, 0.0), (363, 0.0), (365, 0.0), (366, 0.0), (371, 0.0), (373, 0.0), (374, 0.0), (377, 0.0), (381, 0.0), (383, 0.0), (388, 0.0), (391, 0.0), (392, 0.0), (393, 0.0), (395, 0.0), (398, 0.0), (400, 0.0), (401, 0.0), (402, 0.0), (404, 0.0), (406, 0.0), (407, 0.0), (409, 0.0), (410, 0.0), (412, 0.0), (414, 0.0), (415, 0.0), (419, 0.0), (420, 0.0), (423, 0.0), (428, 0.0), (431, 0.0), (432, 0.0), (433, 0.0), (437, 0.0), (441, 0.0), (443, 0.0), (444, 0.0), (445, 0.0), (446, 0.0), (448, 0.0), (449, 0.0), (454, 0.0), (456, 0.0), (457, 0.0), (459, 0.0), (462, 0.0), (464, 0.0), (466, 0.0), (471, 0.0), (473, 0.0), (475, 0.0), (476, 0.0), (478, 0.0), (480, 0.0), (482, 0.0), (488, 0.0), (489, 0.0), (490, 0.0), (499, 0.0), (505, 0.0), (507, 0.0), (508, 0.0), (510, 0.0), (518, 0.0), (520, 0.0), (521, 0.0), (522, 0.0), (524, 0.0), (525, 0.0), (527, 0.0), (529, 0.0), (535, 0.0), (536, 0.0), (538, 0.0), (541, 0.0), (549, 0.0), (551, 0.0), (552, 0.0), (556, 0.0), (557, 0.0), (559, 0.0), (574, 0.0), (575, 0.0), (576, 0.0), (578, 0.0), (579, 0.0), (581, 0.0), (582, 0.0), (583, 0.0), (585, 0.0), (587, 0.0), (590, 0.0), (593, 0.0), (594, 0.0), (596, 0.0), (597, 0.0), (605, 0.0), (608, 0.0), (609, 0.0), (611, 0.0), (616, 0.0), (617, 0.0), (620, 0.0), (623, 0.0), (626, 0.0), (627, 0.0), (628, 0.0), (630, 0.0), (634, 0.0), (636, 0.0), (637, 0.0), (641, 0.0), (642, 0.0), (645, 0.0), (646, 0.0), (647, 0.0), (649, 0.0), (650, 0.0), (655, 0.0), (657, 0.0), (658, 0.0), (662, 0.0), (665, 0.0), (677, 0.0), (679, 0.0), (691, 0.0), (693, 0.0), (694, 0.0), (696, 0.0), (698, 0.0), (699, 0.0), (700, 0.0), (703, 0.0), (704, 0.0), (705, 0.0), (706, 0.0), (707, 0.0), (712, 0.0), (717, 0.0), (720, 0.0), (721, 0.0), (722, 0.0), (724, 0.0), (726, 0.0), (730, 0.0), (731, 0.0), (734, 0.0), (736, 0.0), (737, 0.0), (739, 0.0), (741, 0.0), (742, 0.0), (743, 0.0), (744, 0.0), (752, 0.0), (754, 0.0), (755, 0.0), (761, 0.0), (764, 0.0), (765, 0.0), (766, 0.0), (767, 0.0), (768, 0.0), (771, 0.0), (772, 0.0), (773, 0.0), (775, 0.0), (777, 0.0), (781, 0.0), (783, 0.0), (784, 0.0), (785, 0.0), (786, 0.0), (787, 0.0), (789, 0.0), (796, 0.0), (798, 0.0), (807, 0.0), (808, 0.0), (810, 0.0), (813, 0.0), (814, 0.0), (815, 0.0), (817, 0.0), (819, 0.0), (822, 0.0), (823, 0.0), (830, 0.0), (832, 0.0), (834, 0.0), (835, 0.0), (836, 0.0), (837, 0.0), (838, 0.0), (839, 0.0), (840, 0.0), (843, 0.0), (844, 0.0), (847, 0.0), (850, 0.0), (852, 0.0), (857, 0.0), (858, 0.0), (861, 0.0), (865, 0.0), (867, 0.0), (873, 0.0), (880, 0.0), (882, 0.0), (885, 0.0), (886, 0.0), (887, 0.0), (892, 0.0), (895, 0.0), (899, 0.0), (900, 0.0), (901, 0.0), (906, 0.0), (907, 0.0), (909, 0.0), (910, 0.0), (914, 0.0), (917, 0.0), (920, 0.0), (921, 0.0), (922, 0.0), (924, 0.0), (925, 0.0), (926, 0.0), (927, 0.0), (930, 0.0), (933, 0.0), (934, 0.0), (935, 0.0), (936, 0.0), (940, 0.0), (941, 0.0), (943, 0.0), (944, 0.0), (949, 0.0), (950, 0.0), (951, 0.0), (953, 0.0), (955, 0.0), (958, 0.0), (962, 0.0), (964, 0.0), (967, 0.0), (968, 0.0), (969, 0.0), (970, 0.0), (971, 0.0), (972, 0.0), (973, 0.0), (975, 0.0), (978, 0.0), (979, 0.0), (982, 0.0), (983, 0.0), (985, 0.0), (987, 0.0), (991, 0.0), (993, 0.0), (998, 0.0), (999, 0.0), (1004, 0.0), (1006, 0.0), (1008, 0.0), (1009, 0.0), (1016, 0.0), (1019, 0.0), (1020, 0.0), (1025, 0.0), (1026, 0.0), (1027, 0.0), (1028, 0.0), (1029, 0.0), (1032, 0.0), (1033, 0.0), (1037, 0.0), (1038, 0.0), (1040, 0.0), (1043, 0.0), (1048, 0.0), (1049, 0.0), (1051, 0.0), (1052, 0.0), (1059, 0.0), (1060, 0.0), (1062, 0.0), (1070, 0.0), (1071, 0.0), (1072, 0.0), (1075, 0.0), (1077, 0.0), (1079, 0.0), (1080, 0.0), (1081, 0.0), (1085, 0.0), (1086, 0.0), (1087, 0.0), (1088, 0.0), (1089, 0.0), (1090, 0.0), (1093, 0.0), (1094, 0.0), (1098, 0.0), (1100, 0.0), (1103, 0.0), (1106, 0.0), (1109, 0.0), (1112, 0.0), (1117, 0.0), (1118, 0.0), (1121, 0.0), (1123, 0.0), (1126, 0.0), (1130, 0.0), (1131, 0.0), (1133, 0.0), (1136, 0.0), (1142, 0.0), (1144, 0.0), (1145, 0.0), (1147, 0.0), (1149, 0.0), (1152, 0.0), (1155, 0.0), (1156, 0.0), (1157, 0.0), (1158, 0.0), (1159, 0.0), (1161, 0.0), (1165, 0.0), (1166, 0.0), (1167, 0.0), (1169, 0.0), (1175, 0.0), (1176, 0.0), (1177, 0.0), (1178, 0.0), (1180, 0.0), (1181, 0.0), (1182, 0.0), (1189, 0.0), (1190, 0.0), (1191, 0.0), (1193, 0.0), (1196, 0.0), (1198, 0.0), (1200, 0.0), (1201, 0.0), (1202, 0.0), (1203, 0.0), (1204, 0.0), (1208, 0.0), (1209, 0.0), (1211, 0.0), (1215, 0.0), (1217, 0.0), (1219, 0.0), (1220, 0.0), (1221, 0.0), (1222, 0.0), (1223, 0.0), (1227, 0.0), (1228, 0.0), (1235, 0.0), (1238, 0.0), (1239, 0.0), (1242, 0.0), (1243, 0.0), (1255, 0.0), (1261, 0.0), (1268, 0.0), (1270, 0.0), (1272, 0.0), (1277, 0.0), (1278, 0.0), (1279, 0.0), (1286, 0.0), (1287, 0.0), (1289, 0.0), (1291, 0.0), (1294, 0.0), (1297, 0.0), (1298, 0.0), (1299, 0.0), (1307, 0.0), (1308, 0.0), (1311, 0.0), (1313, 0.0), (1316, 0.0), (1318, 0.0), (1319, 0.0), (1322, 0.0), (1323, 0.0), (1327, 0.0), (1329, 0.0), (1331, 0.0), (1333, 0.0), (1336, 0.0), (1342, 0.0), (1345, 0.0), (1347, 0.0), (1353, 0.0), (1355, 0.0), (1356, 0.0), (1362, 0.0), (1365, 0.0), (1367, 0.0), (1370, 0.0), (1373, 0.0), (1376, 0.0), (1378, 0.0), (1382, 0.0), (1389, 0.0), (1390, 0.0), (1391, 0.0), (1392, 0.0), (1394, 0.0), (1395, 0.0), (1397, 0.0), (1399, 0.0), (1401, 0.0), (1402, 0.0), (1403, 0.0), (1404, 0.0), (1405, 0.0), (1407, 0.0), (1410, 0.0), (1411, 0.0), (1415, 0.0), (1416, 0.0), (1420, 0.0), (1422, 0.0), (1423, 0.0), (1424, 0.0), (1425, 0.0), (1426, 0.0), (1427, 0.0), (1428, 0.0), (1429, 0.0), (1431, 0.0), (1434, 0.0), (1439, 0.0), (1441, 0.0), (1445, 0.0), (1447, 0.0), (1448, 0.0), (1449, 0.0), (1450, 0.0), (1451, 0.0), (1453, 0.0), (1457, 0.0), (1462, 0.0), (1464, 0.0), (1472, 0.0), (1475, 0.0), (1476, 0.0), (1482, 0.0), (1488, 0.0), (1490, 0.0), (1491, 0.0), (1492, 0.0), (1493, 0.0), (1494, 0.0), (1496, 0.0), (1497, 0.0), (1499, 0.0), (1500, 0.0), (1508, 0.0), (1514, 0.0), (1517, 0.0), (1520, 0.0), (1521, 0.0), (1523, 0.0), (1524, 0.0), (1525, 0.0), (1526, 0.0), (1528, 0.0), (1529, 0.0), (1531, 0.0), (1532, 0.0), (1533, 0.0), (1538, 0.0), (1539, 0.0), (1541, 0.0), (1543, 0.0), (1549, 0.0), (1550, 0.0), (1551, 0.0), (1553, 0.0), (1555, 0.0), (1556, 0.0), (1557, 0.0), (1558, 0.0), (1559, 0.0), (1561, 0.0), (1562, 0.0), (1565, 0.0), (1568, 0.0), (1569, 0.0), (1573, 0.0), (1574, 0.0), (1578, 0.0), (1580, 0.0), (1581, 0.0), (1583, 0.0), (1586, 0.0), (1588, 0.0), (1589, 0.0), (1593, 0.0), (1594, 0.0), (1596, 0.0), (1598, 0.0), (1600, 0.0), (1601, 0.0), (1602, 0.0), (1605, 0.0), (1606, 0.0), (1607, 0.0), (1609, 0.0), (1610, 0.0), (1612, 0.0), (1614, 0.0), (1615, 0.0), (1616, 0.0), (1618, 0.0), (1619, 0.0), (1623, 0.0), (1624, 0.0), (1625, 0.0), (1626, 0.0), (1628, 0.0), (1632, 0.0), (1633, 0.0), (1634, 0.0), (1635, 0.0), (1636, 0.0), (1638, 0.0), (1639, 0.0), (1642, 0.0), (1643, 0.0), (1644, 0.0), (1646, 0.0), (1648, 0.0), (1650, 0.0), (1652, 0.0), (1655, 0.0), (1656, 0.0), (1658, 0.0), (1661, 0.0), (1663, 0.0), (1666, 0.0), (1668, 0.0), (1670, 0.0), (1672, 0.0), (1673, 0.0), (1676, 0.0), (1679, 0.0), (1682, 0.0), (1683, 0.0), (1684, 0.0), (1688, 0.0), (1689, 0.0), (1690, 0.0), (1691, 0.0), (1693, 0.0), (1695, 0.0), (1697, 0.0), (1699, 0.0), (1700, 0.0), (1702, 0.0), (1704, 0.0), (1706, 0.0), (1710, 0.0), (1712, 0.0), (1715, 0.0), (1717, 0.0), (1718, 0.0), (1720, 0.0), (1723, 0.0), (1725, 0.0), (1726, 0.0), (1730, 0.0), (1731, 0.0), (1733, 0.0), (1737, 0.0), (1741, 0.0), (1743, 0.0), (1746, 0.0), (1747, 0.0), (1748, 0.0), (1752, 0.0), (1753, 0.0), (1755, 0.0), (1757, 0.0), (1758, 0.0), (1759, 0.0), (1760, 0.0), (1761, 0.0), (1762, 0.0), (1763, 0.0), (1765, 0.0), (1766, 0.0), (1767, 0.0), (1768, 0.0), (1769, 0.0), (1771, 0.0), (1773, 0.0), (1777, 0.0), (1779, 0.0), (1780, 0.0), (1784, 0.0), (1785, 0.0), (1787, 0.0), (1790, 0.0), (1792, 0.0), (1794, 0.0), (1795, 0.0), (1800, 0.0), (1801, 0.0), (1811, 0.0), (1813, 0.0), (1814, 0.0), (1817, 0.0), (1819, 0.0), (1820, 0.0), (1824, 0.0), (1825, 0.0), (1826, 0.0), (1830, 0.0), (1833, 0.0), (1834, 0.0), (1837, 0.0), (1838, 0.0), (1839, 0.0), (1842, 0.0), (1843, 0.0), (1844, 0.0), (1845, 0.0), (1848, 0.0), (1849, 0.0), (1850, 0.0), (1851, 0.0), (1852, 0.0), (1855, 0.0), (1856, 0.0), (1857, 0.0), (1859, 0.0), (1862, 0.0), (1866, 0.0), (1867, 0.0), (1868, 0.0), (1869, 0.0), (1872, 0.0), (1873, 0.0), (1875, 0.0), (1877, 0.0), (1878, 0.0), (1879, 0.0), (1880, 0.0), (1882, 0.0), (1884, 0.0), (1885, 0.0), (1887, 0.0), (1888, 0.0), (1889, 0.0), (1890, 0.0), (1891, 0.0), (1892, 0.0), (1893, 0.0), (1897, 0.0), (1899, 0.0), (1900, 0.0), (1905, 0.0), (1906, 0.0), (1909, 0.0), (1910, 0.0), (1913, 0.0), (1914, 0.0), (1915, 0.0), (1916, 0.0), (1917, 0.0), (1919, 0.0), (1920, 0.0), (1921, 0.0), (1926, 0.0), (1927, 0.0), (1929, 0.0), (1932, 0.0), (1935, 0.0), (1938, 0.0), (1940, 0.0), (1944, 0.0), (1946, 0.0), (1947, 0.0), (1950, 0.0), (1952, 0.0), (1953, 0.0), (1954, 0.0), (1955, 0.0), (1956, 0.0), (1957, 0.0), (1959, 0.0), (1960, 0.0), (1961, 0.0), (1962, 0.0), (1963, 0.0), (1964, 0.0), (1965, 0.0), (1969, 0.0), (1972, 0.0), (1975, 0.0), (1978, 0.0), (1988, 0.0), (1990, 0.0), (1995, 0.0), (1998, 0.0), (1999, 0.0), (2001, 0.0), (2002, 0.0), (2003, 0.0), (2004, 0.0), (2005, 0.0), (2006, 0.0), (2007, 0.0), (2008, 0.0), (2009, 0.0), (2011, 0.0), (2017, 0.0), (2019, 0.0), (2022, 0.0), (2027, 0.0), (2028, 0.0), (2030, 0.0), (2031, 0.0), (2035, 0.0), (2036, 0.0), (2041, 0.0), (2042, 0.0), (2043, 0.0), (2048, 0.0), (2050, 0.0), (2051, 0.0), (2054, 0.0), (2056, 0.0), (2059, 0.0), (2063, 0.0), (2064, 0.0), (2068, 0.0), (2071, 0.0), (2073, 0.0), (2079, 0.0), (2084, 0.0), (2089, 0.0), (2092, 0.0), (2098, 0.0), (2100, 0.0), (2101, 0.0), (2104, 0.0), (2107, 0.0), (2108, 0.0), (2109, 0.0), (2111, 0.0), (2115, 0.0), (2116, 0.0), (2120, 0.0), (2121, 0.0), (2122, 0.0), (2123, 0.0), (2128, 0.0), (2129, 0.0), (2130, 0.0), (2131, 0.0), (2132, 0.0), (2134, 0.0), (2137, 0.0), (2138, 0.0), (2141, 0.0), (2142, 0.0), (2145, 0.0), (2146, 0.0), (2148, 0.0), (2149, 0.0), (2151, 0.0), (2152, 0.0), (2155, 0.0), (2156, 0.0), (2159, 0.0), (2160, 0.0), (2163, 0.0), (2165, 0.0), (2169, 0.0), (2170, 0.0), (2171, 0.0), (2172, 0.0), (2173, 0.0), (2175, 0.0), (2176, 0.0), (2179, 0.0), (2183, 0.0), (2186, 0.0), (2187, 0.0), (2189, 0.0), (2190, 0.0), (2193, 0.0), (2194, 0.0), (2198, 0.0), (2199, 0.0), (2200, 0.0), (2201, 0.0), (2203, 0.0), (2204, 0.0), (2213, 0.0), (2215, 0.0), (2220, 0.0), (2222, 0.0), (2223, 0.0), (2225, 0.0), (2226, 0.0), (2231, 0.0), (2234, 0.0), (2236, 0.0), (2244, 0.0), (2245, 0.0), (2247, 0.0), (2248, 0.0), (2249, 0.0), (2251, 0.0), (2253, 0.0), (2255, 0.0), (2256, 0.0), (2257, 0.0), (2260, 0.0), (2261, 0.0), (2262, 0.0), (2266, 0.0), (2267, 0.0), (2268, 0.0), (2270, 0.0), (2271, 0.0), (2272, 0.0), (2273, 0.0), (2281, 0.0), (2282, 0.0), (2285, 0.0), (2287, 0.0), (2288, 0.0), (2289, 0.0), (2291, 0.0), (2292, 0.0), (2297, 0.0), (2299, 0.0), (2300, 0.0), (2302, 0.0), (2303, 0.0), (2305, 0.0), (2307, 0.0), (2308, 0.0), (2309, 0.0), (2310, 0.0), (2311, 0.0), (2312, 0.0), (2313, 0.0), (2314, 0.0), (2317, 0.0), (2320, 0.0), (2322, 0.0), (2323, 0.0), (2324, 0.0), (2325, 0.0), (2328, 0.0), (2331, 0.0), (2332, 0.0), (2333, 0.0), (2335, 0.0), (2339, 0.0), (2341, 0.0), (2342, 0.0), (2343, 0.0), (2344, 0.0), (2345, 0.0), (2347, 0.0), (2348, 0.0), (2349, 0.0), (2350, 0.0), (2351, 0.0), (2352, 0.0), (2354, 0.0), (2358, 0.0), (2362, 0.0), (2364, 0.0), (2365, 0.0), (2366, 0.0), (2368, 0.0), (2369, 0.0), (2370, 0.0), (2371, 0.0), (2372, 0.0), (2373, 0.0), (2379, 0.0), (2380, 0.0), (2382, 0.0), (2385, 0.0), (2386, 0.0), (2387, 0.0), (2388, 0.0), (2390, 0.0), (2391, 0.0), (2392, 0.0), (2393, 0.0), (2394, 0.0), (2395, 0.0), (2397, 0.0), (2398, 0.0), (2401, 0.0), (2403, 0.0), (2404, 0.0), (2405, 0.0), (2407, 0.0), (2408, 0.0), (2410, 0.0), (2411, 0.0), (2414, 0.0), (2416, 0.0), (2417, 0.0), (2418, 0.0), (2419, 0.0), (2420, 0.0), (2422, 0.0), (2423, 0.0), (2425, 0.0), (2431, 0.0), (2434, 0.0), (2435, 0.0), (2436, 0.0), (2437, 0.0), (2438, 0.0), (2440, 0.0), (2445, 0.0), (2446, 0.0), (2448, 0.0), (2449, 0.0), (2452, 0.0), (2455, 0.0), (2457, 0.0), (2458, 0.0), (2460, 0.0), (2462, 0.0), (2463, 0.0), (2465, 0.0), (2466, 0.0), (2469, 0.0), (2472, 0.0), (2473, 0.0), (2474, 0.0), (2475, 0.0), (2477, 0.0), (2478, 0.0), (2480, 0.0), (2481, 0.0), (2482, 0.0), (2483, 0.0), (2485, 0.0), (2488, 0.0), (2490, 0.0), (2491, 0.0), (2494, 0.0), (2495, 0.0), (2497, 0.0), (2498, 0.0), (2502, 0.0), (2504, 0.0), (2505, 0.0), (2507, 0.0), (2508, 0.0), (2509, 0.0), (2510, 0.0), (2511, 0.0), (2514, 0.0), (2515, 0.0), (2516, 0.0), (2517, 0.0), (2520, 0.0), (2523, 0.0), (2526, 0.0), (2528, 0.0), (2529, 0.0), (2531, 0.0), (2532, 0.0), (2533, 0.0), (2534, 0.0), (2535, 0.0), (2536, 0.0), (2537, 0.0), (2538, 0.0), (2541, 0.0), (2542, 0.0), (2543, 0.0), (2545, 0.0), (2548, 0.0), (2550, 0.0), (2556, 0.0), (2560, 0.0), (2561, 0.0), (2562, 0.0), (2563, 0.0), (2565, 0.0), (2566, 0.0), (2568, 0.0), (2569, 0.0), (2570, 0.0), (2574, 0.0), (2577, 0.0), (2579, 0.0), (2580, 0.0), (2582, 0.0), (2583, 0.0), (2585, 0.0), (2586, 0.0), (2589, 0.0), (2590, 0.0), (2591, 0.0), (2592, 0.0), (2593, 0.0), (2594, 0.0), (2595, 0.0), (2596, 0.0), (2597, 0.0), (2601, 0.0), (2604, 0.0), (2606, 0.0), (2608, 0.0), (2609, 0.0), (2610, 0.0), (2611, 0.0), (2612, 0.0), (2613, 0.0), (2614, 0.0), (2615, 0.0), (2619, 0.0), (2620, 0.0), (2623, 0.0), (2627, 0.0), (2628, 0.0), (2630, 0.0), (2633, 0.0), (2636, 0.0), (2639, 0.0), (2643, 0.0), (2648, 0.0), (2650, 0.0), (2651, 0.0), (2652, 0.0), (2653, 0.0), (2654, 0.0), (2655, 0.0), (2656, 0.0), (2658, 0.0), (2660, 0.0), (2661, 0.0), (2663, 0.0), (2664, 0.0), (2669, 0.0), (2673, 0.0), (2675, 0.0), (2678, 0.0), (2679, 0.0), (2683, 0.0), (2684, 0.0), (2686, 0.0), (2687, 0.0), (2690, 0.0), (2694, 0.0), (2696, 0.0), (2700, 0.0), (2701, 0.0), (2702, 0.0), (2703, 0.0), (2705, 0.0), (2709, 0.0), (2712, 0.0), (2717, 0.0), (2719, 0.0), (2721, 0.0), (2722, 0.0), (2725, 0.0), (2728, 0.0), (2731, 0.0), (2733, 0.0), (2734, 0.0), (2735, 0.0), (2736, 0.0), (2737, 0.0), (2738, 0.0), (2740, 0.0), (2741, 0.0), (2743, 0.0), (2744, 0.0), (2745, 0.0), (2747, 0.0), (2748, 0.0), (2750, 0.0), (2753, 0.0), (2755, 0.0), (2757, 0.0), (2758, 0.0), (2759, 0.0), (2760, 0.0), (2761, 0.0), (2763, 0.0), (2764, 0.0), (2765, 0.0), (2766, 0.0), (2773, 0.0), (2775, 0.0), (2776, 0.0), (2779, 0.0), (2782, 0.0), (2783, 0.0), (2785, 0.0), (2786, 0.0), (2792, 0.0), (2793, 0.0), (2794, 0.0), (2796, 0.0), (2797, 0.0), (2800, 0.0), (2801, 0.0), (2802, 0.0), (2805, 0.0), (2806, 0.0), (2807, 0.0), (2812, 0.0), (2816, 0.0), (2818, 0.0), (2821, 0.0), (2823, 0.0), (2827, 0.0), (2829, 0.0), (2830, 0.0), (2831, 0.0), (2832, 0.0), (2835, 0.0), (2836, 0.0), (2838, 0.0), (2845, 0.0), (2846, 0.0), (2848, 0.0), (2851, 0.0), (2852, 0.0), (2853, 0.0), (2855, 0.0), (2856, 0.0), (2857, 0.0), (2858, 0.0), (2861, 0.0), (2863, 0.0), (2865, 0.0), (2866, 0.0), (2867, 0.0), (2868, 0.0), (2869, 0.0), (2872, 0.0), (2873, 0.0), (2875, 0.0), (2876, 0.0), (2878, 0.0), (2879, 0.0), (2882, 0.0), (2883, 0.0), (2885, 0.0), (2887, 0.0), (2890, 0.0), (2891, 0.0), (2893, 0.0), (2894, 0.0), (2896, 0.0), (2900, 0.0), (2905, 0.0), (2906, 0.0), (2907, 0.0), (2909, 0.0), (2911, 0.0), (2912, 0.0), (2914, 0.0), (2916, 0.0), (2917, 0.0), (2920, 0.0), (2921, 0.0), (2923, 0.0), (2924, 0.0), (2928, 0.0), (2929, 0.0), (2930, 0.0), (2933, 0.0), (2936, 0.0), (2938, 0.0), (2941, 0.0), (2942, 0.0), (2945, 0.0), (2946, 0.0), (2949, 0.0), (2951, 0.0), (2952, 0.0), (2953, 0.0), (2956, 0.0), (2957, 0.0), (2965, 0.0), (2966, 0.0), (2967, 0.0), (2968, 0.0), (2970, 0.0), (2972, 0.0), (2973, 0.0), (2974, 0.0), (2975, 0.0), (2977, 0.0), (2981, 0.0), (2983, 0.0), (2984, 0.0), (2985, 0.0), (2986, 0.0), (2987, 0.0), (2988, 0.0), (2991, 0.0), (2993, 0.0), (2997, 0.0), (2999, 0.0), (3000, 0.0), (3003, 0.0), (3004, 0.0), (3005, 0.0), (3007, 0.0), (3009, 0.0), (3010, 0.0), (3011, 0.0), (3013, 0.0), (3014, 0.0), (3015, 0.0), (3016, 0.0), (3017, 0.0), (3020, 0.0), (3023, 0.0), (3025, 0.0), (3026, 0.0), (3027, 0.0), (3028, 0.0), (3029, 0.0), (3030, 0.0), (3031, 0.0), (3032, 0.0), (3033, 0.0), (3035, 0.0), (3036, 0.0), (3037, 0.0), (3038, 0.0), (3039, 0.0), (3040, 0.0), (3041, 0.0), (3042, 0.0), (3046, 0.0), (3049, 0.0), (3050, 0.0), (3052, 0.0), (3053, 0.0), (3054, 0.0), (3055, 0.0), (3057, 0.0), (3058, 0.0), (3060, 0.0), (3061, 0.0), (3067, 0.0), (3069, 0.0), (3071, 0.0), (3072, 0.0), (3073, 0.0), (3074, 0.0), (3075, 0.0), (3077, 0.0), (3078, 0.0), (3081, 0.0), (3082, 0.0), (3083, 0.0), (3087, 0.0), (3088, 0.0), (3090, 0.0), (3091, 0.0), (3092, 0.0), (3093, 0.0), (3094, 0.0), (3098, 0.0), (3102, 0.0), (3103, 0.0), (3106, 0.0), (3107, 0.0), (3111, 0.0), (3113, 0.0), (3116, 0.0), (3117, 0.0), (3125, 0.0), (3128, 0.0), (3137, 0.0), (3138, 0.0), (3139, 0.0), (3140, 0.0), (3144, 0.0), (3145, 0.0), (3146, 0.0), (3147, 0.0), (3148, 0.0), (3151, 0.0), (3152, 0.0), (3157, 0.0), (3159, 0.0), (3162, 0.0), (3164, 0.0), (3166, 0.0), (3167, 0.0), (3170, 0.0), (3175, 0.0), (3176, 0.0), (3177, 0.0), (3178, 0.0), (3179, 0.0), (3183, 0.0), (3186, 0.0), (3187, 0.0), (3189, 0.0), (3190, 0.0), (3194, 0.0), (3195, 0.0), (3196, 0.0), (3197, 0.0), (3198, 0.0), (3199, 0.0), (3203, 0.0), (3204, 0.0), (3208, 0.0), (3209, 0.0), (3212, 0.0), (3214, 0.0), (3216, 0.0), (3217, 0.0), (3218, 0.0), (3219, 0.0), (3220, 0.0), (3222, 0.0), (3224, 0.0), (3228, 0.0), (3229, 0.0), (3230, 0.0), (3236, 0.0), (3237, 0.0), (3238, 0.0), (3239, 0.0), (3240, 0.0), (3242, 0.0), (3243, 0.0), (3244, 0.0), (3248, 0.0), (3249, 0.0), (3251, 0.0), (3252, 0.0), (3255, 0.0), (3256, 0.0), (3257, 0.0), (3258, 0.0), (3260, 0.0), (3261, 0.0), (3262, 0.0), (3265, 0.0), (3268, 0.0), (3269, 0.0), (3272, 0.0), (3273, 0.0), (3274, 0.0), (3278, 0.0), (3279, 0.0), (3281, 0.0), (3283, 0.0), (3284, 0.0), (3285, 0.0), (3287, 0.0), (3288, 0.0), (3289, 0.0), (3290, 0.0), (3291, 0.0), (3292, 0.0), (3295, 0.0), (3296, 0.0), (3300, 0.0), (3302, 0.0), (3303, 0.0), (3307, 0.0), (3308, 0.0), (3309, 0.0), (3313, 0.0), (3314, 0.0), (3315, 0.0), (3316, 0.0), (3319, 0.0), (3320, 0.0), (3321, 0.0), (3322, 0.0), (3324, 0.0), (3325, 0.0), (3326, 0.0), (3327, 0.0), (3330, 0.0), (3335, 0.0), (3337, 0.0), (3338, 0.0), (3341, 0.0), (3345, 0.0), (3346, 0.0), (3348, 0.0), (3349, 0.0), (3350, 0.0), (3351, 0.0), (3352, 0.0), (3353, 0.0), (3354, 0.0), (3355, 0.0), (3357, 0.0), (3358, 0.0), (3359, 0.0), (3360, 0.0), (3362, 0.0), (3363, 0.0), (3366, 0.0), (3369, 0.0), (3371, 0.0), (3372, 0.0), (3375, 0.0), (3376, 0.0), (3379, 0.0), (3380, 0.0), (3381, 0.0), (3386, 0.0), (3387, 0.0), (3391, 0.0), (3393, 0.0), (3394, 0.0), (3396, 0.0), (3397, 0.0), (3399, 0.0), (3401, 0.0), (3402, 0.0), (3406, 0.0), (3409, 0.0), (3410, 0.0), (3411, 0.0), (3413, 0.0), (3414, 0.0), (3415, 0.0), (3420, 0.0), (3422, 0.0), (3423, 0.0), (3425, 0.0), (3428, 0.0), (3431, 0.0), (3433, 0.0), (3434, 0.0), (3435, 0.0), (3436, 0.0), (3439, 0.0), (3444, 0.0), (3446, 0.0), (3447, 0.0), (3449, 0.0), (3455, 0.0), (3457, 0.0), (3458, 0.0), (3461, 0.0), (3470, 0.0), (3471, 0.0), (3473, 0.0), (3474, 0.0), (3475, 0.0), (3476, 0.0), (3477, 0.0), (3478, 0.0), (3479, 0.0), (3481, 0.0), (3482, 0.0), (3485, 0.0), (3487, 0.0), (3488, 0.0), (3489, 0.0), (3492, 0.0), (3494, 0.0), (3495, 0.0), (3496, 0.0), (3497, 0.0), (3498, 0.0), (3499, 0.0), (3500, 0.0), (3501, 0.0), (3503, 0.0), (3509, 0.0), (3510, 0.0), (3511, 0.0), (3512, 0.0), (3521, 0.0), (3523, 0.0), (3524, 0.0), (3527, 0.0), (3529, 0.0), (3530, 0.0), (3533, 0.0), (3536, 0.0), (3537, 0.0), (3544, 0.0), (3545, 0.0), (3546, 0.0), (3547, 0.0), (3548, 0.0), (3549, 0.0), (3552, 0.0), (3557, 0.0), (3558, 0.0), (3561, 0.0), (3562, 0.0), (3566, 0.0), (3567, 0.0), (3569, 0.0), (3571, 0.0), (3572, 0.0), (3573, 0.0), (3575, 0.0), (3578, 0.0), (3579, 0.0), (3580, 0.0), (3581, 0.0), (3584, 0.0), (3585, 0.0), (3589, 0.0), (3590, 0.0), (3592, 0.0), (3596, 0.0), (3598, 0.0), (3599, 0.0), (3601, 0.0), (3606, 0.0), (3607, 0.0), (3608, 0.0), (3611, 0.0), (3613, 0.0), (3614, 0.0), (3615, 0.0), (3616, 0.0), (3617, 0.0), (3619, 0.0), (3620, 0.0), (3621, 0.0), (3622, 0.0), (3624, 0.0), (3627, 0.0), (3629, 0.0), (3631, 0.0), (3632, 0.0), (3636, 0.0), (3639, 0.0), (3643, 0.0), (3646, 0.0), (3647, 0.0), (3648, 0.0), (3649, 0.0), (3651, 0.0), (3661, 0.0), (3662, 0.0), (3663, 0.0), (3664, 0.0), (3665, 0.0), (3666, 0.0), (3667, 0.0), (3669, 0.0), (3672, 0.0), (3673, 0.0), (3677, 0.0), (3678, 0.0), (3679, 0.0), (3681, 0.0), (3682, 0.0), (3683, 0.0), (3686, 0.0), (3687, 0.0), (3689, 0.0), (3691, 0.0), (3696, 0.0), (3698, 0.0), (3701, 0.0), (3702, 0.0), (3704, 0.0), (3705, 0.0), (3717, 0.0), (3719, 0.0), (3721, 0.0), (3725, 0.0), (3726, 0.0), (3727, 0.0), (3728, 0.0), (3729, 0.0), (3733, 0.0), (3735, 0.0), (3737, 0.0), (3739, 0.0), (3740, 0.0), (3745, 0.0), (3746, 0.0), (3749, 0.0), (3752, 0.0), (3753, 0.0), (3755, 0.0), (3757, 0.0), (3758, 0.0), (3760, 0.0), (3761, 0.0), (3762, 0.0), (3763, 0.0), (3764, 0.0), (3765, 0.0), (3767, 0.0), (3769, 0.0), (3770, 0.0), (3772, 0.0), (3774, 0.0), (3778, 0.0), (3779, 0.0), (3780, 0.0), (3781, 0.0), (3784, 0.0), (3785, 0.0), (3789, 0.0), (3790, 0.0), (3791, 0.0), (3792, 0.0), (3793, 0.0), (3796, 0.0), (3799, 0.0), (3800, 0.0), (3803, 0.0), (3804, 0.0), (3805, 0.0), (3808, 0.0), (3809, 0.0), (3810, 0.0), (3813, 0.0), (3815, 0.0), (3816, 0.0), (3820, 0.0), (3821, 0.0), (3822, 0.0), (3825, 0.0), (3826, 0.0), (3827, 0.0), (3829, 0.0), (3830, 0.0), (3831, 0.0), (3832, 0.0), (3833, 0.0), (3835, 0.0), (3836, 0.0), (3838, 0.0), (3843, 0.0), (3845, 0.0), (3847, 0.0), (3848, 0.0), (3851, 0.0), (3852, 0.0), (3853, 0.0), (3856, 0.0), (3857, 0.0), (3859, 0.0), (3861, 0.0), (3863, 0.0), (3864, 0.0), (3865, 0.0), (3866, 0.0), (3867, 0.0), (3868, 0.0), (3871, 0.0), (3872, 0.0), (3874, 0.0), (3875, 0.0), (3879, 0.0), (3880, 0.0), (3887, 0.0), (3890, 0.0), (3892, 0.0), (3893, 0.0), (3895, 0.0), (3898, 0.0), (3899, 0.0), (3901, 0.0), (3902, 0.0), (3904, 0.0), (3909, 0.0), (3910, 0.0), (3911, 0.0), (3912, 0.0), (3913, 0.0), (3914, 0.0), (3915, 0.0), (3916, 0.0), (3918, 0.0), (3920, 0.0), (3921, 0.0), (3922, 0.0), (3925, 0.0), (3927, 0.0), (3928, 0.0), (3929, 0.0), (3931, 0.0), (3934, 0.0), (3935, 0.0), (3936, 0.0), (3938, 0.0), (3940, 0.0), (3943, 0.0), (3945, 0.0), (3950, 0.0), (3951, 0.0), (3952, 0.0), (3954, 0.0), (3962, 0.0), (3967, 0.0), (3969, 0.0), (3970, 0.0), (3971, 0.0), (3974, 0.0), (3975, 0.0), (3976, 0.0), (3981, 0.0), (3983, 0.0), (3987, 0.0), (3988, 0.0), (3989, 0.0), (3990, 0.0), (3991, 0.0), (3995, 0.0), (3996, 0.0), (4003, 0.0), (4006, 0.0), (4008, 0.0), (4009, 0.0), (4010, 0.0), (4013, 0.0), (4016, 0.0), (4017, 0.0), (4019, 0.0), (4021, 0.0), (4022, 0.0), (4024, 0.0), (4025, 0.0), (4026, 0.0), (4028, 0.0), (4029, 0.0), (4030, 0.0), (4031, 0.0), (4035, 0.0), (4036, 0.0), (4040, 0.0), (4042, 0.0), (4043, 0.0), (4047, 0.0), (4049, 0.0), (4050, 0.0), (4051, 0.0), (4059, 0.0), (4064, 0.0), (4065, 0.0), (4066, 0.0), (4067, 0.0), (4071, 0.0), (4072, 0.0), (4073, 0.0), (4074, 0.0), (4079, 0.0), (4080, 0.0), (4081, 0.0), (4083, 0.0), (4084, 0.0), (4085, 0.0), (4086, 0.0), (4089, 0.0), (4090, 0.0), (4092, 0.0), (4097, 0.0), (4102, 0.0), (4104, 0.0), (4106, 0.0), (4108, 0.0), (4109, 0.0), (4110, 0.0), (4111, 0.0), (4113, 0.0), (4115, 0.0), (4117, 0.0), (4125, 0.0), (4126, 0.0), (4127, 0.0), (4129, 0.0), (4132, 0.0), (4133, 0.0), (4134, 0.0), (4137, 0.0), (4140, 0.0), (4144, 0.0), (4145, 0.0), (4147, 0.0), (4151, 0.0), (4155, 0.0), (4157, 0.0), (4159, 0.0), (4160, 0.0), (4161, 0.0), (4162, 0.0), (4163, 0.0), (4166, 0.0), (4167, 0.0), (4169, 0.0), (4170, 0.0), (4171, 0.0), (4172, 0.0), (4173, 0.0), (4174, 0.0), (4176, 0.0), (4177, 0.0), (4179, 0.0), (4180, 0.0), (4183, 0.0), (4190, 0.0), (4191, 0.0), (4195, 0.0), (4196, 0.0), (4198, 0.0), (4204, 0.0), (4205, 0.0), (4206, 0.0), (4207, 0.0), (4212, 0.0), (4213, 0.0), (4214, 0.0), (4215, 0.0), (4218, 0.0), (4219, 0.0), (4220, 0.0), (4222, 0.0), (4223, 0.0), (4225, 0.0), (4226, 0.0), (4228, 0.0), (4229, 0.0), (4230, 0.0), (4237, 0.0), (4239, 0.0), (4243, 0.0), (4245, 0.0), (4251, 0.0), (4252, 0.0), (4253, 0.0), (4254, 0.0), (4257, 0.0), (4258, 0.0), (4259, 0.0), (4260, 0.0), (4262, 0.0), (4263, 0.0), (4267, 0.0), (4269, 0.0), (4270, 0.0), (4271, 0.0), (4273, 0.0), (4275, 0.0), (4277, 0.0), (4278, 0.0), (4279, 0.0), (4282, 0.0), (4286, 0.0), (4287, 0.0), (4290, 0.0), (4291, 0.0), (4295, 0.0), (4296, 0.0), (4298, 0.0), (4301, 0.0), (4303, 0.0), (4304, 0.0), (4306, 0.0), (4307, 0.0), (4308, 0.0), (4309, 0.0), (4311, 0.0), (4313, 0.0), (4314, 0.0), (4315, 0.0), (4316, 0.0), (4317, 0.0), (4319, 0.0), (4320, 0.0), (4321, 0.0), (4322, 0.0), (4323, 0.0), (4324, 0.0), (4326, 0.0), (4327, 0.0), (4330, 0.0), (4331, 0.0), (4332, 0.0), (4333, 0.0), (4336, 0.0), (4337, 0.0), (4340, 0.0), (4341, 0.0), (4342, 0.0), (4343, 0.0), (4347, 0.0), (4348, 0.0), (4349, 0.0), (4350, 0.0), (4351, 0.0), (4354, 0.0), (4357, 0.0), (4358, 0.0), (4359, 0.0), (4360, 0.0), (4361, 0.0), (4362, 0.0), (4363, 0.0), (4367, 0.0), (4368, 0.0), (4369, 0.0), (4370, 0.0), (4372, 0.0), (4375, 0.0), (4377, 0.0), (4378, 0.0), (4381, 0.0), (4382, 0.0), (4386, 0.0), (4388, 0.0), (4394, 0.0), (4397, 0.0), (4398, 0.0), (4399, 0.0), (4400, 0.0), (4402, 0.0), (4404, 0.0), (4405, 0.0), (4407, 0.0), (4408, 0.0), (4409, 0.0), (4411, 0.0), (4413, 0.0), (4414, 0.0), (4415, 0.0), (4416, 0.0), (4418, 0.0), (4420, 0.0), (4421, 0.0), (4422, 0.0), (4423, 0.0), (4424, 0.0), (4425, 0.0), (4426, 0.0), (4427, 0.0), (4431, 0.0), (4433, 0.0), (4434, 0.0), (4438, 0.0), (4446, 0.0), (4448, 0.0), (4449, 0.0), (4451, 0.0), (4452, 0.0), (4454, 0.0), (4455, 0.0), (4458, 0.0), (4459, 0.0), (4460, 0.0), (4461, 0.0), (4464, 0.0), (4470, 0.0), (4471, 0.0), (4473, 0.0), (4476, 0.0), (4478, 0.0), (4479, 0.0), (4480, 0.0), (4483, 0.0), (4484, 0.0), (4489, 0.0), (4492, 0.0), (4494, 0.0), (4495, 0.0), (4496, 0.0), (4497, 0.0), (4498, 0.0), (4499, 0.0), (4500, 0.0), (4501, 0.0), (4504, 0.0), (4505, 0.0), (4506, 0.0), (4507, 0.0), (4508, 0.0), (4513, 0.0), (4514, 0.0), (4515, 0.0), (4516, 0.0), (4518, 0.0), (4519, 0.0), (4520, 0.0), (4521, 0.0), (4522, 0.0), (4523, 0.0), (4525, 0.0), (4526, 0.0), (4527, 0.0), (4528, 0.0), (4529, 0.0), (4530, 0.0), (4532, 0.0), (4533, 0.0), (4536, 0.0), (4537, 0.0), (4538, 0.0), (4539, 0.0), (4540, 0.0), (4541, 0.0), (4542, 0.0), (4545, 0.0), (4548, 0.0), (4552, 0.0), (4556, 0.0), (4559, 0.0), (4560, 0.0), (4561, 0.0), (4563, 0.0), (4565, 0.0), (4567, 0.0), (4570, 0.0), (4571, 0.0), (4572, 0.0), (4574, 0.0), (4575, 0.0), (4576, 0.0), (4577, 0.0), (4578, 0.0), (4579, 0.0), (4580, 0.0), (4584, 0.0), (4587, 0.0), (4592, 0.0), (4596, 0.0), (4598, 0.0), (4599, 0.0), (4604, 0.0), (4605, 0.0), (4611, 0.0), (4614, 0.0), (4615, 0.0), (4616, 0.0), (4618, 0.0), (4621, 0.0), (4625, 0.0), (4627, 0.0), (4628, 0.0), (4632, 0.0), (4634, 0.0), (4635, 0.0), (4636, 0.0), (4639, 0.0), (4640, 0.0), (4641, 0.0), (4643, 0.0), (4644, 0.0), (4645, 0.0), (4648, 0.0), (4650, 0.0), (4651, 0.0), (4654, 0.0), (4655, 0.0), (4657, 0.0), (4667, 0.0), (4668, 0.0), (4671, 0.0), (4672, 0.0), (4680, 0.0), (4681, 0.0), (4685, 0.0), (4686, 0.0), (4687, 0.0), (4688, 0.0), (4689, 0.0), (4691, 0.0), (4692, 0.0), (4693, 0.0), (4694, 0.0), (4695, 0.0), (4696, 0.0), (4699, 0.0), (4700, 0.0), (4702, 0.0), (4704, 0.0), (4706, 0.0), (4710, 0.0), (4711, 0.0), (4712, 0.0), (4713, 0.0), (4715, 0.0), (4717, 0.0), (4718, 0.0), (4719, 0.0), (4720, 0.0), (4721, 0.0), (4726, 0.0), (4728, 0.0), (4729, 0.0), (4731, 0.0), (4732, 0.0), (4734, 0.0), (4737, 0.0), (4738, 0.0), (4740, 0.0), (4744, 0.0), (4745, 0.0), (4746, 0.0), (4748, 0.0), (4750, 0.0), (4753, 0.0), (4755, 0.0), (4757, 0.0), (4758, 0.0), (4759, 0.0)]\n"
          ]
        }
      ]
    },
    {
      "cell_type": "code",
      "source": [
        "print('Top 30 Movies Suggested for you: \\n')\n",
        "\n",
        "i=1\n",
        "\n",
        "for movie in Sorted_Similar_Movies:\n",
        "  index = movie[0]\n",
        "  title_from_index = df[df.index==index]['Movie_Title'].values[0]\n",
        "  if (i<31):\n",
        "    print(i, '.',title_from_index)\n",
        "    i+=1"
      ],
      "metadata": {
        "colab": {
          "base_uri": "https://localhost:8080/"
        },
        "id": "n1bgcBXfwHuU",
        "outputId": "7565412a-895f-4d44-d7fc-7bab8a38abe0"
      },
      "execution_count": null,
      "outputs": [
        {
          "output_type": "stream",
          "name": "stdout",
          "text": [
            "Top 30 Movies Suggested for you: \n",
            "\n",
            "1 . Dredd\n",
            "2 . The Wackness\n",
            "3 . The Helix... Loaded\n",
            "4 . Vantage Point\n",
            "5 . Star Trek Beyond\n",
            "6 . Star Trek Into Darkness\n",
            "7 . Black Water Transit\n",
            "8 . Riddick\n",
            "9 . The Purge\n",
            "10 . The Last Days on Mars\n",
            "11 . The Darkest Hour\n",
            "12 . Zipper\n",
            "13 . Priest\n",
            "14 . Beavis and Butt-Head Do America\n",
            "15 . St. Trinian's\n",
            "16 . The Chronicles of Riddick\n",
            "17 . District 9\n",
            "18 . The Adventurer: The Curse of the Midas Box\n",
            "19 . The Killer Inside Me\n",
            "20 . Snow Angels\n",
            "21 . The Bourne Supremacy\n",
            "22 . Aberdeen\n",
            "23 . Idiocracy\n",
            "24 . Walking With Dinosaurs\n",
            "25 . The Cave\n",
            "26 . Imagine Me & You\n",
            "27 . Next Day Air\n",
            "28 . Meteor\n",
            "29 . Batman Returns\n",
            "30 . Alien³\n"
          ]
        }
      ]
    },
    {
      "cell_type": "markdown",
      "source": [
        "# **Top 10 Movie Recommendation System**"
      ],
      "metadata": {
        "id": "GPfuQNIXwP4m"
      }
    },
    {
      "cell_type": "code",
      "source": [
        "Movie_Name = input('Enter your favorite movie name:')\n",
        "\n",
        "list_of_all_titles = df['Movie_Title'].tolist()\n",
        "\n",
        "Find_Close_Match = difflib.get_close_matches(Movie_Name, list_of_all_titles)\n",
        "\n",
        "Close_Match = Find_Close_Match[0]\n",
        "\n",
        "Index_of_Movie = df[df.Movie_Title == Close_Match]['Movie_ID'].values[0]\n",
        "\n",
        "Recommendation_Score = list(enumerate(Similarity_Score[Index_of_Movie]))\n",
        "\n",
        "Sorted_Similar_Movies = sorted(Recommendation_Score, key = lambda x:x[1],reverse = True)\n",
        "\n",
        "print('Top 10 Movies Suggested for you :\\n')\n",
        "\n",
        "i = 1\n",
        "\n",
        "for movie in Sorted_Similar_Movies:\n",
        "  index = movie[0]\n",
        "  title_from_index = df[df.Movie_ID==index]['Movie_Title'].values\n",
        "  if (i<11):\n",
        "    print(i, '.',title_from_index)\n",
        "    i+=1"
      ],
      "metadata": {
        "colab": {
          "base_uri": "https://localhost:8080/"
        },
        "id": "B53AlSy7wR6A",
        "outputId": "3f5c4a5c-80b6-44b7-ba78-4ea76a86d7b5"
      },
      "execution_count": null,
      "outputs": [
        {
          "output_type": "stream",
          "name": "stdout",
          "text": [
            "Enter your favorite movie name:The dark night rise\n",
            "Top 10 Movies Suggested for you :\n",
            "\n",
            "1 . ['The Dark Knight Rises']\n",
            "2 . ['Finishing The Game']\n",
            "3 . ['She Done Him Wrong']\n",
            "4 . ['Speed Racer']\n",
            "5 . ['Zulu']\n",
            "6 . [\"Trippin'\"]\n",
            "7 . ['My Big Fat Greek Wedding 2']\n",
            "8 . ['Seven Psychopaths']\n",
            "9 . ['The Young and Prodigious T.S. Spivet']\n",
            "10 . ['22 Jump Street']\n"
          ]
        }
      ]
    }
  ]
}